{
 "cells": [
  {
   "cell_type": "code",
   "execution_count": 1,
   "metadata": {},
   "outputs": [],
   "source": [
    "import json\n",
    "import pathlib\n",
    "from random import randrange\n",
    "from random import randint\n",
    "import csv\n",
    "import pandas as pd"
   ]
  },
  {
   "cell_type": "code",
   "execution_count": 7,
   "metadata": {},
   "outputs": [
    {
     "name": "stdout",
     "output_type": "stream",
     "text": [
      "10438\n"
     ]
    }
   ],
   "source": [
    "red_int = pathlib.Path.cwd().joinpath('reduced_interaction_set.txt')\n",
    "df = pd.read_csv(red_int, delimiter=\" \", header=None)\n",
    "prot_1 = df[0]\n",
    "prot_2 = df[1]\n",
    "full_prot = list(set(prot_1).union(set(prot_2)))\n",
    "print(len(full_prot))"
   ]
  },
  {
   "cell_type": "code",
   "execution_count": 21,
   "metadata": {},
   "outputs": [],
   "source": [
    "p_l_o = pathlib.Path.cwd().joinpath('prot_list.txt')\n",
    "df2 = pd.read_csv(p_l_o, header=None)\n",
    "old_prot = df2[0]\n",
    "remaining_prot = list(set(full_prot) - set(old_prot))\n",
    "#print(len(remaining_prot))\n",
    "file = 'remaining_protein_2.txt'\n",
    "for i in range(len(remaining_prot)):\n",
    "    with open(file, 'a') as f:\n",
    "        f.write(remaining_prot[i]+'\\n')\n"
   ]
  },
  {
   "cell_type": "code",
   "execution_count": 21,
   "metadata": {},
   "outputs": [],
   "source": [
    "# set filepaths\n",
    "dataset_path = pathlib.Path.home().joinpath('Documents','ms_thesis_ppi', 'dataset')\n",
    "train_file = pathlib.Path.joinpath(dataset_path, 'train', 'full_train_set_balanced.json')\n",
    "val_file = pathlib.Path.joinpath(dataset_path, 'val', 'full_val_set.json')\n",
    "train_l = pathlib.Path.joinpath(dataset_path, 'train', 'full_train_label_balanced.json')\n",
    "val_l = pathlib.Path.joinpath(dataset_path, 'val', 'full_val_label.json')"
   ]
  },
  {
   "cell_type": "code",
   "execution_count": 22,
   "metadata": {},
   "outputs": [],
   "source": [
    "def load_file(filename):\n",
    "    with open(filename, 'r') as fp:\n",
    "        return json.load(fp)"
   ]
  },
  {
   "cell_type": "code",
   "execution_count": 27,
   "metadata": {},
   "outputs": [],
   "source": [
    "# load dicts\n",
    "train_dict = load_file(train_file)\n",
    "val_dict = load_file(val_file)\n",
    "t_l_d = load_file(train_l)\n",
    "v_l_d = load_file(val_l)"
   ]
  },
  {
   "cell_type": "code",
   "execution_count": 34,
   "metadata": {},
   "outputs": [],
   "source": [
    "# randomly pick elements and put them in a dict\n",
    "c1_prots = dict()\n",
    "c1_label = dict()\n",
    "for i in range(30):\n",
    "    v = randrange(110)\n",
    "    c1_prots[str(i)] = val_dict[str(v)]\n",
    "    c1_label[str(i)] = v_l_d[str(v)]\n",
    "for i in range(81):\n",
    "    v = randrange(1990)\n",
    "    c1_prots[str(i+30)] = train_dict[str(v)]\n",
    "    c1_label[str(i+30)] = t_l_d[str(v)]"
   ]
  },
  {
   "cell_type": "code",
   "execution_count": 39,
   "metadata": {},
   "outputs": [],
   "source": [
    "for i in range(100):\n",
    "    v = randint(111, 1210)\n",
    "    c1_prots[str(i+111)] = val_dict[str(v)]\n",
    "    c1_label[str(i+111)] = v_l_d[str(v)]\n",
    "for i in range(1000):\n",
    "    v = randint(1991, 21990)\n",
    "    c1_prots[str(i+221)] = train_dict[str(v)]\n",
    "    c1_label[str(i+221)] = t_l_d[str(v)]"
   ]
  },
  {
   "cell_type": "code",
   "execution_count": 42,
   "metadata": {},
   "outputs": [],
   "source": [
    "with open('c1_test.json', 'w') as outfile:\n",
    "    json.dump(c1_prots, outfile)\n",
    "    \n",
    "with open('c1_label.json', 'w') as outfile:\n",
    "    json.dump(c1_label, outfile)"
   ]
  }
 ],
 "metadata": {
  "kernelspec": {
   "display_name": "Python 3",
   "language": "python",
   "name": "python3"
  },
  "language_info": {
   "codemirror_mode": {
    "name": "ipython",
    "version": 3
   },
   "file_extension": ".py",
   "mimetype": "text/x-python",
   "name": "python",
   "nbconvert_exporter": "python",
   "pygments_lexer": "ipython3",
   "version": "3.7.7"
  }
 },
 "nbformat": 4,
 "nbformat_minor": 4
}
