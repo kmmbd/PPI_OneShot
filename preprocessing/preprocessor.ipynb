{
 "cells": [
  {
   "cell_type": "code",
   "execution_count": 1,
   "metadata": {},
   "outputs": [],
   "source": [
    "import pandas as pd\n",
    "import pathlib\n",
    "import numpy as np\n",
    "from Bio import SeqIO\n",
    "from collections import Counter\n",
    "import json"
   ]
  },
  {
   "cell_type": "code",
   "execution_count": 2,
   "metadata": {},
   "outputs": [],
   "source": [
    "home_dir = pathlib.Path.home().joinpath('Documents', 'ms_thesis_ppi')\n",
    "in_file = pathlib.Path.joinpath(home_dir, 'dataset','9606_Q1.txt')\n",
    "in_file_fasta = pathlib.Path.joinpath(home_dir, 'dataset','1590981466.fas.1.fasta')\n",
    "df = pd.read_csv(in_file, sep=\"\\t\", header=0, dtype='unicode')\n",
    "#df['UniprotName_A']\n",
    "\n",
    "#df.pivot_table(index=['UniprotID_A'], aggfunc='size')"
   ]
  },
  {
   "cell_type": "code",
   "execution_count": 3,
   "metadata": {},
   "outputs": [],
   "source": [
    "#df.pivot_table(index=['UniprotID_B'], aggfunc='size')"
   ]
  },
  {
   "cell_type": "markdown",
   "metadata": {},
   "source": [
    "Getting only the unique values between two columns:"
   ]
  },
  {
   "cell_type": "code",
   "execution_count": 4,
   "metadata": {},
   "outputs": [],
   "source": [
    "uniprot_list = pd.unique(df[['UniprotID_A', 'UniprotID_B']].values.ravel('K'))\n",
    "np.savetxt(\"uniprot_list.txt\", uniprot_list, fmt='%s')"
   ]
  },
  {
   "cell_type": "markdown",
   "metadata": {},
   "source": [
    "Parsing the resultant fasta file after processing with CD-HIT (40% threshold)"
   ]
  },
  {
   "cell_type": "code",
   "execution_count": 5,
   "metadata": {},
   "outputs": [
    {
     "name": "stdout",
     "output_type": "stream",
     "text": [
      "13090\n"
     ]
    }
   ],
   "source": [
    "uniprot_id = []\n",
    "for seq_record in SeqIO.parse(in_file_fasta, \"fasta\"):\n",
    "    uniprot_id.append(seq_record.id.split('|')[1])\n",
    "\n",
    "# Counter(uniprot_id).keys()\n",
    "print(len(uniprot_id))"
   ]
  },
  {
   "cell_type": "markdown",
   "metadata": {},
   "source": [
    "Creating a filtered dataframe with only relevant tuples:"
   ]
  },
  {
   "cell_type": "code",
   "execution_count": 6,
   "metadata": {},
   "outputs": [],
   "source": [
    "uniprot_A = df['UniprotID_A'].to_list()\n",
    "uniprot_B = df['UniprotID_B'].to_list()\n",
    "length = len(uniprot_A)\n",
    "reduced_interaction = []\n",
    "for i in range(length):\n",
    "    if ((uniprot_A[i] in uniprot_id) and (uniprot_B[i] in uniprot_id)):\n",
    "        reduced_interaction.append((uniprot_A[i], uniprot_B[i]))\n",
    "\n",
    "positive_set = pd.DataFrame(reduced_interaction, columns = ['int_A', 'int_B'])"
   ]
  },
  {
   "cell_type": "code",
   "execution_count": 7,
   "metadata": {},
   "outputs": [],
   "source": [
    "np.savetxt(\"reduced_interaction_set.txt\", positive_set, fmt='%s')"
   ]
  },
  {
   "cell_type": "code",
   "execution_count": 8,
   "metadata": {},
   "outputs": [
    {
     "data": {
      "text/html": [
       "<div>\n",
       "<style scoped>\n",
       "    .dataframe tbody tr th:only-of-type {\n",
       "        vertical-align: middle;\n",
       "    }\n",
       "\n",
       "    .dataframe tbody tr th {\n",
       "        vertical-align: top;\n",
       "    }\n",
       "\n",
       "    .dataframe thead th {\n",
       "        text-align: right;\n",
       "    }\n",
       "</style>\n",
       "<table border=\"1\" class=\"dataframe\">\n",
       "  <thead>\n",
       "    <tr style=\"text-align: right;\">\n",
       "      <th></th>\n",
       "      <th>int_A</th>\n",
       "      <th>int_B</th>\n",
       "    </tr>\n",
       "  </thead>\n",
       "  <tbody>\n",
       "    <tr>\n",
       "      <th>0</th>\n",
       "      <td>A0A024R0Y4</td>\n",
       "      <td>Q8WWY3</td>\n",
       "    </tr>\n",
       "    <tr>\n",
       "      <th>1</th>\n",
       "      <td>A0A024R5S0</td>\n",
       "      <td>Q9NVV9</td>\n",
       "    </tr>\n",
       "    <tr>\n",
       "      <th>3</th>\n",
       "      <td>A0A024R6G0</td>\n",
       "      <td>P50222</td>\n",
       "    </tr>\n",
       "    <tr>\n",
       "      <th>4</th>\n",
       "      <td>A0A0C3SFZ9</td>\n",
       "      <td>A0A0S2Z5X4</td>\n",
       "    </tr>\n",
       "    <tr>\n",
       "      <th>5</th>\n",
       "      <td>A0A0C4DGV4</td>\n",
       "      <td>P50222</td>\n",
       "    </tr>\n",
       "    <tr>\n",
       "      <th>...</th>\n",
       "      <td>...</td>\n",
       "      <td>...</td>\n",
       "    </tr>\n",
       "    <tr>\n",
       "      <th>32043</th>\n",
       "      <td>P25233</td>\n",
       "      <td>Q9Y6B2</td>\n",
       "    </tr>\n",
       "    <tr>\n",
       "      <th>32047</th>\n",
       "      <td>Q03718</td>\n",
       "      <td>Q9Y6D9</td>\n",
       "    </tr>\n",
       "    <tr>\n",
       "      <th>32049</th>\n",
       "      <td>F5HEZ4</td>\n",
       "      <td>Q9Y6K9</td>\n",
       "    </tr>\n",
       "    <tr>\n",
       "      <th>32052</th>\n",
       "      <td>P17967</td>\n",
       "      <td>Q9Y6N9</td>\n",
       "    </tr>\n",
       "    <tr>\n",
       "      <th>32060</th>\n",
       "      <td>A0A0F7RKT3</td>\n",
       "      <td>Q9Y6X8</td>\n",
       "    </tr>\n",
       "  </tbody>\n",
       "</table>\n",
       "<p>7755 rows × 2 columns</p>\n",
       "</div>"
      ],
      "text/plain": [
       "            int_A       int_B\n",
       "0      A0A024R0Y4      Q8WWY3\n",
       "1      A0A024R5S0      Q9NVV9\n",
       "3      A0A024R6G0      P50222\n",
       "4      A0A0C3SFZ9  A0A0S2Z5X4\n",
       "5      A0A0C4DGV4      P50222\n",
       "...           ...         ...\n",
       "32043      P25233      Q9Y6B2\n",
       "32047      Q03718      Q9Y6D9\n",
       "32049      F5HEZ4      Q9Y6K9\n",
       "32052      P17967      Q9Y6N9\n",
       "32060  A0A0F7RKT3      Q9Y6X8\n",
       "\n",
       "[7755 rows x 2 columns]"
      ]
     },
     "execution_count": 8,
     "metadata": {},
     "output_type": "execute_result"
    }
   ],
   "source": [
    "positive_set_r_l = positive_set.drop_duplicates(subset=[\"int_A\"])\n",
    "positive_set_r_l"
   ]
  },
  {
   "cell_type": "code",
   "execution_count": 41,
   "metadata": {},
   "outputs": [
    {
     "data": {
      "text/html": [
       "<div>\n",
       "<style scoped>\n",
       "    .dataframe tbody tr th:only-of-type {\n",
       "        vertical-align: middle;\n",
       "    }\n",
       "\n",
       "    .dataframe tbody tr th {\n",
       "        vertical-align: top;\n",
       "    }\n",
       "\n",
       "    .dataframe thead th {\n",
       "        text-align: right;\n",
       "    }\n",
       "</style>\n",
       "<table border=\"1\" class=\"dataframe\">\n",
       "  <thead>\n",
       "    <tr style=\"text-align: right;\">\n",
       "      <th></th>\n",
       "      <th>int_A</th>\n",
       "      <th>int_B</th>\n",
       "    </tr>\n",
       "  </thead>\n",
       "  <tbody>\n",
       "    <tr>\n",
       "      <th>0</th>\n",
       "      <td>A0A024R0Y4</td>\n",
       "      <td>Q8WWY3</td>\n",
       "    </tr>\n",
       "    <tr>\n",
       "      <th>1</th>\n",
       "      <td>A0A024R5S0</td>\n",
       "      <td>Q9NVV9</td>\n",
       "    </tr>\n",
       "    <tr>\n",
       "      <th>3</th>\n",
       "      <td>A0A024R6G0</td>\n",
       "      <td>P50222</td>\n",
       "    </tr>\n",
       "    <tr>\n",
       "      <th>4</th>\n",
       "      <td>A0A0C3SFZ9</td>\n",
       "      <td>A0A0S2Z5X4</td>\n",
       "    </tr>\n",
       "    <tr>\n",
       "      <th>6</th>\n",
       "      <td>A0A1B0GVM0</td>\n",
       "      <td>Q8N5M1</td>\n",
       "    </tr>\n",
       "    <tr>\n",
       "      <th>...</th>\n",
       "      <td>...</td>\n",
       "      <td>...</td>\n",
       "    </tr>\n",
       "    <tr>\n",
       "      <th>32017</th>\n",
       "      <td>P19508</td>\n",
       "      <td>Q9Y4B6</td>\n",
       "    </tr>\n",
       "    <tr>\n",
       "      <th>32021</th>\n",
       "      <td>Q5NHB5</td>\n",
       "      <td>Q9Y4I1</td>\n",
       "    </tr>\n",
       "    <tr>\n",
       "      <th>32035</th>\n",
       "      <td>P00974</td>\n",
       "      <td>Q9Y5Y6</td>\n",
       "    </tr>\n",
       "    <tr>\n",
       "      <th>32040</th>\n",
       "      <td>Q8CLD0</td>\n",
       "      <td>Q9Y657</td>\n",
       "    </tr>\n",
       "    <tr>\n",
       "      <th>32060</th>\n",
       "      <td>A0A0F7RKT3</td>\n",
       "      <td>Q9Y6X8</td>\n",
       "    </tr>\n",
       "  </tbody>\n",
       "</table>\n",
       "<p>3550 rows × 2 columns</p>\n",
       "</div>"
      ],
      "text/plain": [
       "            int_A       int_B\n",
       "0      A0A024R0Y4      Q8WWY3\n",
       "1      A0A024R5S0      Q9NVV9\n",
       "3      A0A024R6G0      P50222\n",
       "4      A0A0C3SFZ9  A0A0S2Z5X4\n",
       "6      A0A1B0GVM0      Q8N5M1\n",
       "...           ...         ...\n",
       "32017      P19508      Q9Y4B6\n",
       "32021      Q5NHB5      Q9Y4I1\n",
       "32035      P00974      Q9Y5Y6\n",
       "32040      Q8CLD0      Q9Y657\n",
       "32060  A0A0F7RKT3      Q9Y6X8\n",
       "\n",
       "[3550 rows x 2 columns]"
      ]
     },
     "execution_count": 41,
     "metadata": {},
     "output_type": "execute_result"
    }
   ],
   "source": [
    "positive_set_r_r = positive_set_r_l.drop_duplicates(subset=[\"int_B\"])\n",
    "positive_set_r_r"
   ]
  },
  {
   "cell_type": "code",
   "execution_count": 42,
   "metadata": {},
   "outputs": [
    {
     "name": "stdout",
     "output_type": "stream",
     "text": [
      "5510\n"
     ]
    }
   ],
   "source": [
    "positive_set_r_r['int_B'].value_counts().max()\n",
    "prot_list = pd.unique(positive_set_r_r[['int_A', 'int_B']].values.ravel('K'))\n",
    "print(len(prot_list))"
   ]
  },
  {
   "cell_type": "code",
   "execution_count": 43,
   "metadata": {},
   "outputs": [
    {
     "data": {
      "text/plain": [
       "13090"
      ]
     },
     "execution_count": 43,
     "metadata": {},
     "output_type": "execute_result"
    }
   ],
   "source": [
    "id_dict = dict.fromkeys(uniprot_id, 0)\n",
    "len(id_dict)\n"
   ]
  },
  {
   "cell_type": "code",
   "execution_count": 12,
   "metadata": {},
   "outputs": [],
   "source": [
    "# create a frequency list of all proteins\n",
    "\n",
    "dict_freq = id_dict.copy()\n",
    "for i in df[\"UniprotID_A\"]:\n",
    "    if i in dict_freq:\n",
    "        dict_freq[i] += 1\n",
    "\n",
    "for i in df[\"UniprotID_B\"]:\n",
    "    if i in dict_freq:\n",
    "        dict_freq[i] += 1\n",
    "        \n",
    "with open('bind_frequency.json', 'w') as fp:\n",
    "    json.dump(dict_freq, fp)        \n"
   ]
  },
  {
   "cell_type": "code",
   "execution_count": 15,
   "metadata": {},
   "outputs": [],
   "source": [
    "# create frequency list of proteins only in the reduced set\n",
    "\n",
    "dict_freq_r = id_dict.copy()\n",
    "for i in positive_set_r_r[\"int_A\"]:\n",
    "    if i in dict_freq_r:\n",
    "        dict_freq_r[i] += 1\n",
    "\n",
    "for i in positive_set_r_r[\"int_B\"]:\n",
    "    if i in dict_freq_r:\n",
    "        dict_freq_r[i] += 1\n",
    "        \n",
    "#dict_freq_r"
   ]
  },
  {
   "cell_type": "code",
   "execution_count": 59,
   "metadata": {},
   "outputs": [
    {
     "name": "stdout",
     "output_type": "stream",
     "text": [
      "2\n"
     ]
    }
   ],
   "source": [
    "maximum = max(dict_freq_r, key=dict_freq_r.get)  # Just use 'min' instead of 'max' for minimum.\n",
    "print(dict_freq_r[maximum])\n"
   ]
  },
  {
   "cell_type": "markdown",
   "metadata": {},
   "source": [
    "Next task: removing duplicates such that:\n",
    "1. A protein only appears once in a pair (so remove all subsequent pairs where said protein exists)\n",
    "2. Use the reduced dataset we got above."
   ]
  },
  {
   "cell_type": "code",
   "execution_count": 52,
   "metadata": {},
   "outputs": [
    {
     "name": "stdout",
     "output_type": "stream",
     "text": [
      "2550\n"
     ]
    },
    {
     "data": {
      "text/plain": [
       "['Q8CLD0', 'Q9Y657']"
      ]
     },
     "execution_count": 52,
     "metadata": {},
     "output_type": "execute_result"
    }
   ],
   "source": [
    "filter_dict = id_dict.copy()\n",
    "final_list = []\n",
    "i = 0\n",
    "for index, row in positive_set_r_r.iterrows():\n",
    "    partner_A = row['int_A']\n",
    "    partner_B = row['int_B']\n",
    "    if filter_dict[partner_A]==0 and filter_dict[partner_B]==0:\n",
    "        filter_dict[partner_A] += 1\n",
    "        filter_dict[partner_B] += 1\n",
    "        i+=1\n",
    "        final_list.append([partner_A, partner_B])\n",
    "        \n",
    "    else:\n",
    "        continue\n",
    "\n",
    "print(i)\n",
    "final_list[2549]"
   ]
  },
  {
   "cell_type": "code",
   "execution_count": 65,
   "metadata": {},
   "outputs": [
    {
     "data": {
      "text/plain": [
       "'int_A,int_B\\r\\nA0A024R0Y4,Q8WWY3\\r\\nA0A024R5S0,Q9NVV9\\r\\nA0A024R6G0,P50222\\r\\nA0A0C3SFZ9,A0A0S2Z5X4\\r\\nA0A1B0GVM0,Q8N5M1\\r\\nA0AVI4,Q96H12\\r\\nA0AVK6,Q8IUH5\\r\\nA0AVN2,O95751\\r\\nA0JLT2,Q6IAN0\\r\\nA0JNW5,Q8ZAF0\\r\\nA0MZ66,A0MZ66\\r\\nA1DRY3,P62136\\r\\nA1E959,Q9Y6K9\\r\\nA1L0T0,P54253\\r\\nA1L162,P01375\\r\\nA1L190,Q9UL45\\r\\nA1L3X0,Q96EV8\\r\\nA1L4F5,A1L4F5\\r\\nA1L4G7,A1L4G7\\r\\nA1L4H1,Q7Z6G3\\r\\nA1L4K1,Q9H0A9\\r\\nA1X283,P48023\\r\\nA1YPR0,Q9H6L5\\r\\nA2A2Z9,H9XIJ5\\r\\nA2IDD5,Q8D194\\r\\nA2RU00,O76083\\r\\nA2RU48,Q9HCM9\\r\\nA2RUB6,Q99IB8\\r\\nA2RUS2,Q8D1J6\\r\\nA2VCK2,Q8N9N5\\r\\nA2VEC9,Q96AY4\\r\\nA3KMH1,Q96KG7\\r\\nA3KN83,Q8D0V0\\r\\nA4D1E9,Q08379\\r\\nA4D1P6,P42858\\r\\nA4D1W7,Q12841\\r\\nA4D2P6,Q9UHR4\\r\\nA4FU01,O15198\\r\\nA4UGR9,P20929\\r\\nA5D8T8,Q6UY14\\r\\nA5D8V6,Q9UGN5\\r\\nA5D8V7,O43463\\r\\nA5PKW4,Q8WVB3\\r\\nA5PLN9,Q8CKW7\\r\\nA5YKK6,Q9NZN8\\r\\nA6H8Y1,O60885\\r\\nA6NC98,Q5NI33\\r\\nA6NHR9,Q8ZEC9\\r\\nA6NI79,Q9NYL2\\r\\nA6NIH7,Q7Z494\\r\\nA6NJ69,Q13387\\r\\nA6NK53,O00555\\r\\nA6NM11,Q81SN0\\r\\nA6NN06,Q99750\\r\\nA6PVS8,O43639\\r\\nA7E1X5,Q5NET6\\r\\nA7E2V4,P54259\\r\\nA7E2Y1,Q63HR2\\r\\nA7MCY6,Q9UHD2\\r\\nA8K0Z3,Q14457\\r\\nA8K1F4,O43151\\r\\nA8K287,A8K287\\r\\nA8K5H9,Q8WV35\\r\\nA8K8P3,Q5NGW2\\r\\nA8K932,Q96LA8\\r\\nA8KA13,Q9UJV3\\r\\nA8KAG1,Q8NHQ1\\r\\nA8MW92,P26378\\r\\nA8MZ97,Q9NUX5\\r\\nA9UHW6,O14964\\r\\nB0FTY2,O95273\\r\\nB2R550,P25788\\r\\nB2R9H7,Q8N6L0\\r\\nB2RDU6,B2RDU6\\r\\nB2RTY4,P0CAP1\\r\\nB3KM70,Q9BTE6\\r\\nB3KNK9,Q99551\\r\\nB3KQG4,Q16543\\r\\nB3KX63,Q8IY92\\r\\nB4DDK6,O43889\\r\\nB4DR88,Q96RS6\\r\\nB4DXD0,O75791\\r\\nB8Q183,O43765\\r\\nB9A6K1,Q8N9N8\\r\\nD3DR40,Q8WV44\\r\\nD3DTR7,Q14847\\r\\nD3DU92,O43829\\r\\nE5KS60,Q15041\\r\\nE7EQS8,O15294\\r\\nE7ESJ3,Q8NFJ9\\r\\nE9PAV3,Q9UKY1\\r\\nE9PH57,P42773\\r\\nF7VJQ1,Q9Y3Q8\\r\\nH3BR10,Q96G97\\r\\nI4AY87,I4AY87\\r\\nI6L8A6,Q08999\\r\\nJ3KN16,Q6RW13\\r\\nJ3KQN4,Q16082\\r\\nJ3QS41,Q9H7B4\\r\\nO00124,P55072\\r\\nO00155,Q969F0\\r\\nO00180,O00180\\r\\nO00189,O15209\\r\\nO00193,P26641\\r\\nO00198,Q07820\\r\\nO00203,O43683\\r\\nO00204,O00204\\r\\nO00206,O00206\\r\\nO00212,Q3MIX3\\r\\nO00214,Q15583\\r\\nO00220,O95999\\r\\nO00231,Q13485\\r\\nO00233,A0A2P0HHP2\\r\\nO00237,Q9H832\\r\\nO00244,O43822\\r\\nO00254,O00254\\r\\nO00255,O75475\\r\\nO00257,P12757\\r\\nO00267,P63272\\r\\nO00268,Q16514\\r\\nO00273,Q9NRL3\\r\\nO00295,Q01844\\r\\nO00303,P28223\\r\\nO00311,Q9Y5N6\\r\\nO00401,P0DJ89\\r\\nO00408,Q7ARD3\\r\\nO00409,Q96B26\\r\\nO00422,Q8IWL3\\r\\nO00444,O14907\\r\\nO00459,Q5NGV3\\r\\nO00471,Q05084\\r\\nO00472,O14936\\r\\nO00482,P02768\\r\\nO00487,P51665\\r\\nO00488,P46089\\r\\nO00499,P01106\\r\\nO00522,Q9ULI3\\r\\nO00548,P57105\\r\\nO00562,Q8ZGW9\\r\\nO00571,Q96KM6\\r\\nO00584,Q81M22\\r\\nO00585,P98066\\r\\nO00592,Q5ZSD5\\r\\nO00622,Q8CZZ7\\r\\nO00623,O60683\\r\\nO00635,O00635\\r\\nO00716,P10244\\r\\nO00762,P63316\\r\\nO00763,P50747\\r\\nO14492,P08581\\r\\nO14497,P51532\\r\\nO14508,Q15369\\r\\nO14512,P40763\\r\\nO14513,P52735\\r\\nO14514,Q5TCQ9\\r\\nO14530,Q99689\\r\\nO14543,Q66K74\\r\\nO14544,O60341\\r\\nO14548,P43364\\r\\nO14556,Q9P0V3\\r\\nO14576,Q16637\\r\\nO14579,Q5JST6\\r\\nO14596,Q01850\\r\\nO14599,Q05086\\r\\nO14617,Q13200\\r\\nO14618,O14618\\r\\nO14639,Q8WZ42\\r\\nO14641,A0A0F7R9R7\\r\\nO14656,P37840\\r\\nO14662,Q9H115\\r\\nO14684,O14684\\r\\nO14713,O60443\\r\\nO14717,Q04446\\r\\nO14727,P55211\\r\\nO14730,Q92851\\r\\nO14732,O14732\\r\\nO14733,O43318\\r\\nO14734,P50542\\r\\nO14735,O95197\\r\\nO14737,O68769\\r\\nO14744,P54105\\r\\nO14745,P60484\\r\\nO14746,Q15185\\r\\nO14753,Q9ULX9\\r\\nO14757,Q9H3S5\\r\\nO14763,Q3ZCQ8\\r\\nO14770,P08563\\r\\nO14773,P40127\\r\\nO14777,Q9BZD4\\r\\nO14796,Q13291\\r\\nO14798,P50591\\r\\nO14810,P28702\\r\\nO14813,O14813\\r\\nO14828,P46934\\r\\nO14829,O14829\\r\\nO14836,P49069\\r\\nO14862,O14862\\r\\nO14863,O14863\\r\\nO14867,Q9DGW5\\r\\nO14874,Q12929\\r\\nO14879,Q8D0D4\\r\\nO14880,P24863\\r\\nO14908,Q5NEL1\\r\\nO14917,P21754\\r\\nO14929,P62805\\r\\nO14931,O14931\\r\\nO14965,O75410\\r\\nO14972,Q16659\\r\\nO14976,P10275\\r\\nO14978,P57086\\r\\nO14981,Q7ARN5\\r\\nO15015,Q7Z589\\r\\nO15018,Q9UQB3\\r\\nO15020,Q9NYQ7\\r\\nO15031,Q8ZEL7\\r\\nO15041,Q9Y4D7\\r\\nO15042,O60343\\r\\nO15054,P04183\\r\\nO15061,Q9Y4J8\\r\\nO15062,O95365\\r\\nO15066,O15013\\r\\nO15078,O43303\\r\\nO15116,Q81WX2\\r\\nO15117,Q81TN2\\r\\nO15119,P35219\\r\\nO15121,Q9UK23\\r\\nO15143,O15145\\r\\nO15144,P59998\\r\\nO15156,Q5JPT6\\r\\nO15160,Q99836\\r\\nO15212,Q96EK4\\r\\nO15217,O15217\\r\\nO15226,Q5S007\\r\\nO15230,Q8Z9U7\\r\\nO15234,P38919\\r\\nO15235,Q5T3J3\\r\\nO15239,Q14789\\r\\nO15243,P48357\\r\\nO15259,Q9H204\\r\\nO15265,Q9BWT7\\r\\nO15270,O15269\\r\\nO15273,P50461\\r\\nO15287,O15360\\r\\nO15297,Q9UBP4\\r\\nO15304,Q8ZJP7\\r\\nO15315,P07305\\r\\nO15318,Q9BUI4\\r\\nO15321,Q13428\\r\\nO15342,P36543\\r\\nO15354,Q9Y3R0\\r\\nO15355,Q5NI66\\r\\nO15357,Q5NEU6\\r\\nO15371,P14373\\r\\nO15372,Q9NRI5\\r\\nO15381,Q9NPF4\\r\\nO15389,P41159\\r\\nO15392,O15392\\r\\nO15409,O15409\\r\\nO15431,O15431\\r\\nO15439,Q14160\\r\\nO15440,O95347\\r\\nO15444,Q9YP87\\r\\nO15455,O15455\\r\\nO15457,P61758\\r\\nO15460,P48634\\r\\nO15466,Q92624\\r\\nO15504,Q81KT8\\r\\nO15514,Q7Z6E9\\r\\nO15527,P18887\\r\\nO15533,Q9RMZ3\\r\\nO15541,Q15554\\r\\nO15553,Q9ULZ3\\r\\nO43149,P29074\\r\\nO43155,O43155\\r\\nO43157,Q8D1N0\\r\\nO43164,Q9Y385\\r\\nO43187,P51617\\r\\nO43236,P06400\\r\\nO43240,P51572\\r\\nO43247,Q38SD2\\r\\nO43257,Q9UN19\\r\\nO43261,Q92993\\r\\nO43264,Q8ZAN0\\r\\nO43281,P46108\\r\\nO43290,P61244\\r\\nO43298,O43298\\r\\nO43309,O43309\\r\\nO43312,O43312\\r\\nO43313,Q7Z569\\r\\nO43324,Q9BTE0\\r\\nO43353,O43353\\r\\nO43365,P54274\\r\\nO43399,P05067\\r\\nO43451,Q8ZJ16\\r\\nO43482,P15056\\r\\nO43488,O43488\\r\\nO43490,Q9HAU0\\r\\nO43491,Q8D1E3\\r\\nO43493,Q9BXS5\\r\\nO43497,Q96S59\\r\\nO43502,O43542\\r\\nO43505,Q86500\\r\\nO43508,P35638\\r\\nO43516,P42768\\r\\nO43521,P10415\\r\\nO43524,Q92793\\r\\nO43526,O95376\\r\\nO43541,O43541\\r\\nO43543,Q9NYS0\\r\\nO43557,P36941\\r\\nO43566,Q12933\\r\\nO43567,Q969T4\\r\\nO43570,P39880\\r\\nO43583,Q8WX92\\r\\nO43603,P22466\\r\\nO43613,P49407\\r\\nO43615,Q81S14\\r\\nO43633,Q13144\\r\\nO43660,O75533\\r\\nO43663,Q8N6Y0\\r\\nO43670,Q9H9Y6\\r\\nO43676,P36542\\r\\nO43708,O43708\\r\\nO43734,Q9UFD9\\r\\nO43739,Q8N0S2\\r\\nO43741,O43741\\r\\nO43752,Q12846\\r\\nO43805,O43805\\r\\nO43809,O43809\\r\\nO43825,Q96L94\\r\\nO43865,Q8D1A1\\r\\nO43896,Q5NFR9\\r\\nO43913,Q9UBD5\\r\\nO43914,Q8ZH37\\r\\nO43918,O43918\\r\\nO43924,Q7DB77\\r\\nO43933,Q13608\\r\\nO60216,P26373\\r\\nO60220,Q92783\\r\\nO60224,P17861\\r\\nO60232,O60232\\r\\nO60239,Q07889\\r\\nO60240,Q8WTS1\\r\\nO60241,Q9H0R4\\r\\nO60244,Q14203\\r\\nO60256,Q8N8Q3\\r\\nO60260,P49792\\r\\nO60268,Q96HW7\\r\\nO60269,Q15645\\r\\nO60281,Q9C098\\r\\nO60293,Q9Y2I6\\r\\nO60306,O60828\\r\\nO60313,Q12983\\r\\nO60315,Q8D0Q9\\r\\nO60318,Q7CIS2\\r\\nO60333,Q62696\\r\\nO60337,Q92813\\r\\nO60356,P06454\\r\\nO60383,Q9Y6M9\\r\\nO60462,P15692\\r\\nO60476,P01100\\r\\nO60486,Q8JL80\\r\\nO60487,Q5EB52\\r\\nO60493,Q5VU43\\r\\nO60494,P27352\\r\\nO60500,Q81Q28\\r\\nO60547,O60547\\r\\nO60566,Q12834\\r\\nO60568,Q9UHL3\\r\\nO60583,Q16512\\r\\nO60602,O60602\\r\\nO60603,O60603\\r\\nO60609,Q5T4W7\\r\\nO60610,Q15109\\r\\nO60613,P12956\\r\\nO60635,Q15653\\r\\nO60637,Q8ZEK1\\r\\nO60658,Q5NIG3\\r\\nO60663,Q86U70\\r\\nO60667,Q5NGW8\\r\\nO60671,O60921\\r\\nO60673,Q9UBZ9\\r\\nO60678,Q14524\\r\\nO60701,O60701\\r\\nO60716,Q6IQ23\\r\\nO60732,Q8N2Y8\\r\\nO60759,Q8D0I3\\r\\nO60760,O60760\\r\\nO60763,Q8ZIX0\\r\\nO60832,Q9BUR4\\r\\nO60841,O14602\\r\\nO60858,O60858\\r\\nO60861,Q5NGF9\\r\\nO60869,P03495\\r\\nO60888,Q8CLT1\\r\\nO60896,Q12988\\r\\nO60902,Q14134\\r\\nO60907,Q13227\\r\\nO60911,P25054\\r\\nO60934,P49959\\r\\nO60936,O60936\\r\\nO75052,P10809\\r\\nO75064,Q8D0E1\\r\\nO75069,P02649\\r\\nO75071,Q5NGM6\\r\\nO75083,Q8CLP4\\r\\nO75096,Q81VT8\\r\\nO75132,P58340\\r\\nO75143,Q5NHI7\\r\\nO75144,Q9Y6W8\\r\\nO75145,O75145\\r\\nO75146,O75146\\r\\nO75153,Q7CIZ7\\r\\nO75154,Q9UBF8\\r\\nO75155,O75175\\r\\nO75157,Q5NET8\\r\\nO75165,P24522\\r\\nO75179,O41954\\r\\nO75197,Q81YE8\\r\\nO75298,Q5NH02\\r\\nO75306,Q92956\\r\\nO75312,Q96SN8\\r\\nO75317,Q8TAF3\\r\\nO75330,Q4ZG55\\r\\nO75344,O94763\\r\\nO75347,Q00987\\r\\nO75360,Q12805\\r\\nO75365,Q8D0I9\\r\\nO75367,Q8D0Z4\\r\\nO75379,Q9UID3\\r\\nO75382,Q5VVX9\\r\\nO75391,O95870\\r\\nO75419,Q7L590\\r\\nO75420,Q8ZFM0\\r\\nO75426,Q03933\\r\\nO75439,Q16595\\r\\nO75444,O75444\\r\\nO75445,Q9Y6N9\\r\\nO75448,Q9UK32\\r\\nO75459,Q8IZU0\\r\\nO75460,Q92905\\r\\nO75469,Q15904\\r\\nO75477,P15303\\r\\nO75489,Q96S79\\r\\nO75494,P62995\\r\\nO75496,Q9H211\\r\\nO75506,O75506\\r\\nO75509,P43243\\r\\nO75521,Q5NG84\\r\\nO75529,Q15714\\r\\nO75530,Q92769\\r\\nO75531,O75531\\r\\nO75534,Q8CZW4\\r\\nO75553,P21860\\r\\nO75554,Q15459\\r\\nO75558,O75558\\r\\nO75563,Q14289\\r\\nO75569,P19525\\r\\nO75582,P15336\\r\\nO75607,Q86SE8\\r\\nO75616,Q9C0F1\\r\\nO75629,Q7CHW4\\r\\nO75643,Q8ZDJ2\\r\\nO75665,P53350\\r\\nO75694,O95405\\r\\nO75764,Q9H4B6\\r\\nO75787,A0A2P0HB98\\r\\nO75794,Q5NFT9\\r\\nO75800,Q9P0P0\\r\\nO75807,Q81UI7\\r\\nO75821,Q99547\\r\\nO75822,O75528\\r\\nO75840,Q6PIJ6\\r\\nO75865,Q9Y296\\r\\nO75880,Q14061\\r\\nO75882,Q81LA9\\r\\nO75884,Q9NYB0\\r\\nO75899,P46459\\r\\nO75923,Q92667\\r\\nO75934,Q15637\\r\\nO75936,O75936\\r\\nO75940,O43395\\r\\nO75952,O75952\\r\\nO75956,Q96HT8\\r\\nO75962,Q13867\\r\\nO75969,Q9BZX4\\r\\nO75976,Q9NY61\\r\\nO76003,O76003\\r\\nO76013,Q69022\\r\\nO76021,Q9Y376\\r\\nO76027,Q9NRX3\\r\\nO76039,Q15477\\r\\nO76041,Q15942\\r\\nO76061,P19387\\r\\nO76064,O95714\\r\\nO76071,Q96T76\\r\\nO76090,O76090\\r\\nO77932,Q9NPD3\\r\\nO94762,P24928\\r\\nO94766,O75396\\r\\nO94782,Q9BWX1\\r\\nO94817,O95352\\r\\nO94826,Q5NHD1\\r\\nO94829,Q9Y5S9\\r\\nO94842,Q8ZH69\\r\\nO94850,Q96QZ7\\r\\nO94874,Q5NID2\\r\\nO94880,Q5NHM0\\r\\nO94887,Q8ZIE7\\r\\nO94903,Q8D1C5\\r\\nO94915,Q5NHZ0\\r\\nO94923,O95429\\r\\nO94927,Q7Z4H7\\r\\nO94941,P62256\\r\\nO94952,Q9Y6B2\\r\\nO94955,O94955\\r\\nO94964,Q5NF60\\r\\nO94967,P56279\\r\\nO94985,P13984\\r\\nO94993,Q8IYR0\\r\\nO95045,O95045\\r\\nO95059,Q96N67\\r\\nO95070,Q9NQ11\\r\\nO95071,Q9BPZ3\\r\\nO95073,O95073\\r\\nO95104,Q7CKD4\\r\\nO95149,Q14974\\r\\nO95150,O95407\\r\\nO95153,P30536\\r\\nO95159,P56134\\r\\nO95183,Q96EJ4\\r\\nO95199,O95199\\r\\nO95210,Q6VMQ6\\r\\nO95218,Q02040\\r\\nO95229,Q2PJP1\\r\\nO95231,O95231\\r\\nO95232,O95232\\r\\nO95235,Q7L5A3\\r\\nO95238,Q99801\\r\\nO95243,Q13158\\r\\nO95248,Q7CJU1\\r\\nO95255,P54819\\r\\nO95271,O35625\\r\\nO95278,O95278\\r\\nO95359,Q92830\\r\\nO95372,Q96GD3\\r\\nO95377,Q15648\\r\\nO95379,Q8NBZ0\\r\\nO95391,Q81TK1\\r\\nO95411,O95411\\r\\nO95427,Q86VR8\\r\\nO95433,P30793\\r\\nO95466,Q9NP66\\r\\nO95476,Q9WH76\\r\\nO95477,P02647\\r\\nO95544,Q8CL08\\r\\nO95568,O96024\\r\\nO95602,O15446\\r\\nO95622,O95622\\r\\nO95671,O95671\\r\\nO95684,Q9UJ70\\r\\nO95707,P78345\\r\\nO95715,Q5NEY7\\r\\nO95749,O95749\\r\\nO95777,Q9Y333\\r\\nO95786,Q14258\\r\\nO95793,Q96H20\\r\\nO95810,O95810\\r\\nO95848,O95848\\r\\nO95858,Q8N205\\r\\nO95872,P36406\\r\\nO95876,Q81V26\\r\\nO95905,Q8D033\\r\\nO95907,Q9UBS3\\r\\nO95925,P02788\\r\\nO95931,Q9BYG0\\r\\nO95947,Q81LR7\\r\\nO95980,Q86WT6\\r\\nO95990,O94972\\r\\nO95994,P12104\\r\\nO95996,Q13625\\r\\nO95997,P53801\\r\\nO96007,Q9NUQ8\\r\\nO96015,Q86WP2\\r\\nO96017,Q14738\\r\\nO96033,Q15831\\r\\nP00367,Q5NF50\\r\\nP00374,Q8XAL7\\r\\nP00403,P49281\\r\\nP00451,O14832\\r\\nP00505,P35754\\r\\nP00734,P07204\\r\\nP00736,P09871\\r\\nP00742,Q964Q0\\r\\nP00749,P55000\\r\\nP00751,P15927\\r\\nP00846,P08047\\r\\nP01019,P30556\\r\\nP01031,D3JIB2\\r\\nP01033,P08962\\r\\nP01040,P07858\\r\\nP01042,P46663\\r\\nP01135,Q9R064\\r\\nP01137,Q5NGV7\\r\\nP01185,P02511\\r\\nP01215,Q05209\\r\\nP01236,P16471\\r\\nP01258,P01258\\r\\nP01266,Q81XD7\\r\\nP01275,P14735\\r\\nP01303,P54707\\r\\nP01344,Q9UNN5\\r\\nP01374,P19438\\r\\nP01574,P01574\\r\\nP01579,P15260\\r\\nP01584,P18146\\r\\nP01589,Q96RG2\\r\\nP01732,P01732\\r\\nP01848,P01850\\r\\nP01871,Q7CGR6\\r\\nP01876,P24071\\r\\nP01880,P11836\\r\\nP02545,Q5JTV8\\r\\nP02652,Q8NEC5\\r\\nP02671,P02675\\r\\nP02679,A0A061IJ01\\r\\nP02686,Q7Z2E3\\r\\nP02730,A5K5E5\\r\\nP02746,Q81SH2\\r\\nP02751,P75392\\r\\nP02763,P05121\\r\\nP02775,Q8ZBY6\\r\\nP02778,P13501\\r\\nP02790,Q9H3D4\\r\\nP02794,Q92574\\r\\nP03886,P43490\\r\\nP03950,P13489\\r\\nP03971,Q96NC0\\r\\nP04003,Q9H0Q3\\r\\nP04053,Q04864\\r\\nP04075,Q5NFY6\\r\\nP04114,P55157\\r\\nP04141,P15509\\r\\nP04180,Q9Y2I7\\r\\nP04196,Q9UI14\\r\\nP04233,P17778\\r\\nP04275,Q74YJ4\\r\\nP04278,Q6UXB4\\r\\nP04424,P04424\\r\\nP04843,Q6IA17\\r\\nP04844,P08138\\r\\nP05000,P17181\\r\\nP05019,P22692\\r\\nP05093,Q16878\\r\\nP05109,P06702\\r\\nP05113,Q01344\\r\\nP05120,Q6P2Q9\\r\\nP05155,P0C045\\r\\nP05161,Q6TQR6\\r\\nP05165,Q5NF53\\r\\nP05177,P05177\\r\\nP05231,P40189\\r\\nP05305,P05305\\r\\nP05387,P05387\\r\\nP06127,P30203\\r\\nP06132,Q0WAP4\\r\\nP06401,Q9Y618\\r\\nP06727,P06727\\r\\nP06729,O95400\\r\\nP06730,O73557\\r\\nP06731,P06731\\r\\nP06746,Q9H5J8\\r\\nP07199,P38936\\r\\nP07332,Q81UX8\\r\\nP07686,P07686\\r\\nP07737,Q5NGW4\\r\\nP07738,P11161\\r\\nP07766,P43403\\r\\nP07814,P29692\\r\\nP07919,P06748\\r\\nP07954,Q8ZGW7\\r\\nP07992,Q13064\\r\\nP08100,P08100\\r\\nP08133,Q5NG44\\r\\nP08151,Q9VG38\\r\\nP08173,P08173\\r\\nP08174,Q914E0\\r\\nP08246,P03973\\r\\nP08473,P08473\\r\\nP08514,P08514\\r\\nP08559,P11177\\r\\nP08575,Q81JT7\\r\\nP08588,Q86UL8\\r\\nP08603,A0A024A2C9\\r\\nP08684,P32189\\r\\nP08697,P43307\\r\\nP08700,P32927\\r\\nP08709,P04133\\r\\nP08922,P29350\\r\\nP09017,Q8IZ81\\r\\nP09038,P11362\\r\\nP09110,Q6PKC3\\r\\nP09131,Q9BX66\\r\\nP09211,Q5NGM1\\r\\nP09234,Q6Y7W6\\r\\nP09327,P09327\\r\\nP09382,Q13740\\r\\nP09417,P09417\\r\\nP09529,P49354\\r\\nP09564,Q5TA50\\r\\nP09603,P09581\\r\\nP09619,P01127\\r\\nP09622,O00330\\r\\nP09661,P62306\\r\\nP09669,Q96PM5\\r\\nP09912,Q99828\\r\\nP09917,Q8IYX8\\r\\nP09919,P40223\\r\\nP0C7W6,P07196\\r\\nP0DI81,Q96D71\\r\\nP0DN79,P51116\\r\\nP0DN86,Q96T91\\r\\nP0DPB5,P49023\\r\\nP10071,Q8CLN9\\r\\nP10124,P26926\\r\\nP10243,P19338\\r\\nP10276,Q9UKP3\\r\\nP10589,Q9Y6Q9\\r\\nP10644,P03259\\r\\nP10747,P01552\\r\\nP10768,P10768\\r\\nP11047,Q9Y3C0\\r\\nP11172,Q6ZW49\\r\\nP11279,Q8ZES0\\r\\nP11310,Q81VE0\\r\\nP11387,P09874\\r\\nP11413,P11413\\r\\nP11686,P11686\\r\\nP11717,O75436\\r\\nP11831,Q8CLF6\\r\\nP11926,P56962\\r\\nP12034,P01133\\r\\nP12109,Q9ZGX5\\r\\nP12111,Q0WJP9\\r\\nP12259,P12259\\r\\nP12268,P12268\\r\\nP12314,Q8ZI60\\r\\nP12645,Q8TEU8\\r\\nP12821,P30411\\r\\nP13051,Q9UMQ6\\r\\nP13056,A0A2P0HLN8\\r\\nP13473,Q8N122\\r\\nP13497,Q15113\\r\\nP13498,P14598\\r\\nP13591,Q74YH2\\r\\nP13612,Q13477\\r\\nP13671,Q15020\\r\\nP13725,Q86VK4\\r\\nP13798,P13798\\r\\nP13807,Q13155\\r\\nP14061,P14061\\r\\nP14222,Q9GZR7\\r\\nP14314,P62753\\r\\nP14316,Q7Z5L9\\r\\nP14317,Q8CLC4\\r\\nP14416,P14416\\r\\nP14616,Q8WUJ0\\r\\nP14621,Q9NS37\\r\\nP14635,Q99640\\r\\nP14770,P07359\\r\\nP14784,Q7CKP5\\r\\nP14859,Q7ARK4\\r\\nP14866,P55060\\r\\nP14927,Q96QU6\\r\\nP15036,Q8ZGR6\\r\\nP15090,Q12873\\r\\nP15144,Q5NHN5\\r\\nP15172,P62487\\r\\nP15289,P15289\\r\\nP15309,P15309\\r\\nP15328,Q6IBW4\\r\\nP15374,Q14CW9\\r\\nP15382,P51787\\r\\nP15529,Q8D1H5\\r\\nP15559,P15559\\r\\nP15822,Q8D097\\r\\nP15880,Q13368\\r\\nP16070,P14210\\r\\nP16144,Q5NI74\\r\\nP16150,Q9UER7\\r\\nP16219,Q92985\\r\\nP16410,P42081\\r\\nP16435,Q7Z6M1\\r\\nP16442,Q96HH9\\r\\nP16452,P58062\\r\\nP16455,Q81U00\\r\\nP16671,Q8CZL1\\r\\nP16871,P13232\\r\\nP16930,Q53GC0\\r\\nP17275,Q8ZGV2\\r\\nP17301,P17301\\r\\nP17342,P01160\\r\\nP17405,Q9BVJ7\\r\\nP17540,P15502\\r\\nP17676,P17676\\r\\nP17707,P17707\\r\\nP17812,P17812\\r\\nP17813,Q8ZAR3\\r\\nP17931,Q8ZJ02\\r\\nP17947,P23769\\r\\nP17980,Q81YF4\\r\\nP18031,Q8D131\\r\\nP18065,Q9C086\\r\\nP18074,P31948\\r\\nP18206,O75400\\r\\nP18509,P41586\\r\\nP18615,P16749\\r\\nP18754,Q9BV86\\r\\nP18850,Q8ZH96\\r\\nP18858,P49441\\r\\nP19021,O75901\\r\\nP19099,P19099\\r\\nP19320,P27694\\r\\nP19388,Q8XBX8\\r\\nP19544,Q15007\\r\\nP19878,Q15080\\r\\nP19883,P78325\\r\\nP19971,P19971\\r\\nP20231,P20231\\r\\nP20290,Q8N3L3\\r\\nP20292,P20292\\r\\nP20585,P43246\\r\\nP20618,Q9Y244\\r\\nP20645,Q9NZ52\\r\\nP20749,Q86UW6\\r\\nP20807,Q8XA11\\r\\nP20823,Q9UBS8\\r\\nP20936,Q03135\\r\\nP21127,O95251\\r\\nP21145,Q93009\\r\\nP21246,Q7ARA1\\r\\nP21266,P21266\\r\\nP21359,P26260\\r\\nP21549,Q9Y6H5\\r\\nP21579,A5JGM8\\r\\nP21580,Q15025\\r\\nP21583,P21583\\r\\nP21673,Q9BYD2\\r\\nP21757,Q7TQ77\\r\\nP21810,Q8WVJ2\\r\\nP21817,P54296\\r\\nP21912,Q8WYR1\\r\\nP21953,P12694\\r\\nP22033,P22033\\r\\nP22301,Q08334\\r\\nP22307,P69976\\r\\nP22352,Q8CZR4\\r\\nP22670,P35611\\r\\nP22674,Q15811\\r\\nP22732,P08865\\r\\nP22735,Q9BYJ1\\r\\nP22830,P22830\\r\\nP23378,Q81NP8\\r\\nP23396,P32969\\r\\nP23434,Q13287\\r\\nP23467,P10912\\r\\nP23471,P23471\\r\\nP23497,P03169\\r\\nP23511,Q13952\\r\\nP23560,Q99523\\r\\nP23588,Q8D052\\r\\nP23610,Q9BXR5\\r\\nP23921,P23921\\r\\nP24001,P24001\\r\\nP24043,O95295\\r\\nP24311,P10242\\r\\nP24385,O43929\\r\\nP24390,P24390\\r\\nP24394,P05112\\r\\nP24821,P24821\\r\\nP25025,Q81YE5\\r\\nP25098,P25963\\r\\nP25105,Q969Y2\\r\\nP25208,P27338\\r\\nP25440,P25440\\r\\nP25786,P49720\\r\\nP25791,Q8ZEJ5\\r\\nP26232,Q9UID6\\r\\nP26640,Q13137\\r\\nP26678,Q9BSE2\\r\\nP26718,Q6H3X3\\r\\nP26951,Q9UBE0\\r\\nP27469,P62888\\r\\nP27487,K0BRG7\\r\\nP27540,P35869\\r\\nP27635,P49768\\r\\nP27701,Q99567\\r\\nP27930,P01583\\r\\nP28062,Q81Z98\\r\\nP28288,P28288\\r\\nP28289,Q969H0\\r\\nP28290,Q5NEM8\\r\\nP28328,Q8D192\\r\\nP28356,Q9HBU1\\r\\nP28360,Q9UNL4\\r\\nP28676,Q9NWB1\\r\\nP28827,P28827\\r\\nP28845,Q5VSY0\\r\\nP29083,P29084\\r\\nP29323,P29323\\r\\nP29375,P89884\\r\\nP29459,P29460\\r\\nP29466,P58753\\r\\nP29597,Q969M7\\r\\nP29728,P49761\\r\\nP30038,P30038\\r\\nP30039,P30039\\r\\nP30041,Q8D1C8\\r\\nP30043,Q81M57\\r\\nP30050,Q9C0C9\\r\\nP30084,Q5NF27\\r\\nP30086,Q9BTT4\\r\\nP30154,P51449\\r\\nP30273,P43405\\r\\nP30518,Q9BXJ1\\r\\nP30566,P48745\\r\\nP30622,P30622\\r\\nP30876,Q8N653\\r\\nP30989,P30990\\r\\nP31153,Q8ZEG8\\r\\nP31260,Q16533\\r\\nP31269,Q15022\\r\\nP31270,Q8N328\\r\\nP31323,Q9P0M2\\r\\nP31371,P31371\\r\\nP31629,Q8ZJL7\\r\\nP31751,Q9H221\\r\\nP31949,P31949\\r\\nP32239,P06307\\r\\nP32242,B2RUY7\\r\\nP32321,P32321\\r\\nP32519,Q8ZCW1\\r\\nP32780,Q01831\\r\\nP32929,P32929\\r\\nP33076,P48382\\r\\nP33121,P08235\\r\\nP33316,Q8ZBN6\\r\\nP33552,P04004\\r\\nP33681,Q15116\\r\\nP33764,P33764\\r\\nP33897,P33897\\r\\nP33991,Q14566\\r\\nP34897,Q81WW1\\r\\nP34925,O75688\\r\\nP34998,P06850\\r\\nP35030,P31944\\r\\nP35228,P35228\\r\\nP35244,P49736\\r\\nP35249,Q9H4P4\\r\\nP35250,Q99697\\r\\nP35251,Q9BWW4\\r\\nP35268,Q9UNZ2\\r\\nP35354,P35354\\r\\nP35372,P01210\\r\\nP35398,P51843\\r\\nP35556,Q14766\\r\\nP35573,Q9UKG1\\r\\nP35575,O75309\\r\\nP35606,Q5NFM0\\r\\nP35658,Q8D1L8\\r\\nP35659,P35659\\r\\nP35712,Q8WZA1\\r\\nP35790,O94868\\r\\nP35914,Q00403\\r\\nP36382,Q9P0L2\\r\\nP36402,Q13015\\r\\nP36776,Q5NEM6\\r\\nP36955,Q12165\\r\\nP37268,Q9BTV4\\r\\nP37275,Q14919\\r\\nP38117,Q74SR9\\r\\nP38398,Q9BXW9\\r\\nP38484,P61513\\r\\nP38570,Q96EP1\\r\\nP39656,Q05519\\r\\nP39905,P56159\\r\\nP40337,Q99814\\r\\nP40394,P40394\\r\\nP40429,Q8NFZ0\\r\\nP40692,Q8CZY2\\r\\nP40933,Q13114\\r\\nP41180,Q15363\\r\\nP41208,Q8NA72\\r\\nP41217,Q8TD46\\r\\nP41235,Q99967\\r\\nP41594,Q05655\\r\\nP41597,Q9BW27\\r\\nP41743,Q14790\\r\\nP42126,Q9BPZ7\\r\\nP42336,P02760\\r\\nP42345,O15530\\r\\nP42356,Q8D0V9\\r\\nP42568,P51825\\r\\nP42575,P78560\\r\\nP42695,O95084\\r\\nP42702,P26441\\r\\nP42704,Q9Z381\\r\\nP42766,Q13951\\r\\nP42771,Q00534\\r\\nP42785,Q5NHH2\\r\\nP43026,P36894\\r\\nP43034,Q15046\\r\\nP43115,O76081\\r\\nP43308,Q86WV6\\r\\nP43699,Q9P031\\r\\nP46087,Q8N1B4\\r\\nP46098,A5X5Y0\\r\\nP46199,Q81V02\\r\\nP46527,Q13309\\r\\nP46531,Q8ZJJ7\\r\\nP46736,Q81TW1\\r\\nP46777,Q53EL6\\r\\nP46821,Q9H2C0\\r\\nP46939,Q8ZCK0\\r\\nP46940,Q8ZHG0\\r\\nP47224,Q56990\\r\\nP47712,Q9HD64\\r\\nP47756,Q81VY7\\r\\nP47992,Q2F862\\r\\nP48047,A0A0C4DG91\\r\\nP48169,O75907\\r\\nP48436,Q13950\\r\\nP48506,O00626\\r\\nP48547,O95259\\r\\nP48553,Q96Q05\\r\\nP48637,P48637\\r\\nP48643,Q8IZH2\\r\\nP48740,P35247\\r\\nP48775,P48775\\r\\nP49005,Q15054\\r\\nP49006,Q13561\\r\\nP49257,Q8NI22\\r\\nP49321,Q81UW3\\r\\nP49327,Q9ULL5\\r\\nP49411,Q96DZ9\\r\\nP49418,P50570\\r\\nP49454,Q8WUM0\\r\\nP49458,P37108\\r\\nP49589,Q5NHS4\\r\\nP49642,Q96DV4\\r\\nP49703,Q96A57\\r\\nP49711,P03905\\r\\nP49715,P49715\\r\\nP49765,Q5NEJ4\\r\\nP49770,Q9UI10\\r\\nP49789,P49789\\r\\nP49790,P49790\\r\\nP49796,P68587\\r\\nP49840,Q68FM7\\r\\nP49902,P49902\\r\\nP49916,Q96T60\\r\\nP49917,Q13426\\r\\nP49918,P33993\\r\\nP50150,Q920B6\\r\\nP50416,Q8ZIH1\\r\\nP50479,Q9H9D4\\r\\nP50502,Q99933\\r\\nP50539,Q14901\\r\\nP50553,Q14814\\r\\nP50613,P51946\\r\\nP50990,Q81JE2\\r\\nP51003,Q8CWG4\\r\\nP51149,A0A0F7RKT3\\r\\nP51159,Q96C24\\r\\nP51168,Q76N89\\r\\nP51172,Q8N668\\r\\nP51587,Q9NTI5\\r\\nP51610,Q7CJM5\\r\\nP51654,Q6P988\\r\\nP51784,P06788\\r\\nP51790,Q5NI40\\r\\nP51808,P51808\\r\\nP51811,O14967\\r\\nP51815,Q5NGZ2\\r\\nP51955,P51955\\r\\nP51991,Q5NEA3\\r\\nP52272,Q81R13\\r\\nP52306,Q9UHX1\\r\\nP52594,P51809\\r\\nP52657,P52655\\r\\nP52758,P52758\\r\\nP52815,Q8TAK6\\r\\nP53004,Q8TBB1\\r\\nP53539,Q9HD15\\r\\nP53602,O14775\\r\\nP53621,Q02978\\r\\nP53634,Q8D014\\r\\nP53667,Q02297\\r\\nP53674,P53674\\r\\nP53779,Q99541\\r\\nP53805,Q9UPT9\\r\\nP53990,Q7Z479\\r\\nP53992,Q9Y3I1\\r\\nP53999,P03132\\r\\nP54098,Q2I360\\r\\nP54198,Q92900\\r\\nP54257,Q8N157\\r\\nP54278,Q9P1Z9\\r\\nP54727,P55036\\r\\nP54845,Q96SL8\\r\\nP54851,Q7L775\\r\\nP54922,Q96AP0\\r\\nP55010,Q92686\\r\\nP55061,Q7CIZ3\\r\\nP55199,O68742\\r\\nP55209,Q5NH18\\r\\nP55210,P98170\\r\\nP55212,P55212\\r\\nP55263,Q8ZAA1\\r\\nP55265,P55265\\r\\nP55268,P0CK47\\r\\nP55316,O75593\\r\\nP55327,P55327\\r\\nP55735,P49687\\r\\nP55769,O43916\\r\\nP55884,Q14152\\r\\nP55957,Q16611\\r\\nP56192,P42677\\r\\nP56199,P04512\\r\\nP56385,Q16594\\r\\nP56470,Q9HCM3\\r\\nP56545,P03255\\r\\nP56555,Q8XAJ5\\r\\nP56597,Q96IM9\\r\\nP56645,P68590\\r\\nP56937,P23919\\r\\nP57052,Q96PU8\\r\\nP57060,Q8IXK0\\r\\nP57075,Q15038\\r\\nP57077,Q8N5C8\\r\\nP57087,P57087\\r\\nP57088,P62263\\r\\nP57678,Q8TE76\\r\\nP57775,Q9BQ95\\r\\nP58012,O95835\\r\\nP59780,Q16254\\r\\nP59797,Q96E35\\r\\nP59923,Q8D0X2\\r\\nP59991,P59991\\r\\nP60022,Q5UIP0\\r\\nP60033,P60033\\r\\nP60228,Q99613\\r\\nP60468,Q12154\\r\\nP60896,Q5JVF3\\r\\nP61011,P74989\\r\\nP61158,Q81NG4\\r\\nP61289,P03225\\r\\nP61371,Q8NB15\\r\\nP61587,Q5T124\\r\\nP61764,O35430\\r\\nP61769,Q8NHL6\\r\\nP61927,Q9Y5W5\\r\\nP61960,Q9NR28\\r\\nP61964,Q7Z3B3\\r\\nP61970,P14907\\r\\nP62314,Q8G8T7\\r\\nP62318,P62310\\r\\nP62341,P68871\\r\\nP62508,Q81WR4\\r\\nP62829,Q9P287\\r\\nP62841,Q9HAU5\\r\\nP62854,Q969E8\\r\\nP62899,Q99678\\r\\nP62906,P08240\\r\\nP62917,P03431\\r\\nP63173,Q5JVS0\\r\\nP63211,Q9NRM2\\r\\nP63220,Q96AP4\\r\\nP68363,P0C7T8\\r\\nP78310,Q86YT9\\r\\nP78330,P78330\\r\\nP78406,P52948\\r\\nP78527,P13010\\r\\nP78536,Q13257\\r\\nP80370,P54826\\r\\nP81274,P81274\\r\\nP81534,P81534\\r\\nP82650,Q96IW2\\r\\nP84090,Q5VWN6\\r\\nP84098,P68036\\r\\nP86478,Q9BZS1\\r\\nP98082,P37173\\r\\nP98173,Q8N7B6\\r\\nP98182,Q86YN6\\r\\nP99999,Q9FKS5\\r\\nQ00341,Q7CJV2\\r\\nQ00587,Q9H4E7\\r\\nQ00610,Q8CKH7\\r\\nQ00653,O00221\\r\\nQ00796,Q00796\\r\\nQ00975,P01522\\r\\nQ01081,P26368\\r\\nQ01201,Q13126\\r\\nQ01459,Q9Z373\\r\\nQ01484,O68743\\r\\nQ01534,Q6VGT1\\r\\nQ01638,Q9BXN2\\r\\nQ01664,Q9NQX1\\r\\nQ01826,Q5NEB6\\r\\nQ02156,P15924\\r\\nQ02223,Q9Y275\\r\\nQ02224,Q02224\\r\\nQ02241,Q7RTP6\\r\\nQ02487,Q02487\\r\\nQ02543,Q07912\\r\\nQ02575,Q6IPU0\\r\\nQ02790,Q81K97\\r\\nQ02818,Q3KSR7\\r\\nQ02878,Q13352\\r\\nQ03014,Q8CZX8\\r\\nQ03154,Q8IWZ6\\r\\nQ03164,Q03164\\r\\nQ03393,Q03393\\r\\nQ03431,Q8D1K6\\r\\nQ03518,Q8D008\\r\\nQ03701,P30519\\r\\nQ04656,Q5EBL8\\r\\nQ04727,Q8D1P6\\r\\nQ04756,O43278\\r\\nQ04837,Q04837\\r\\nQ04900,Q81KP6\\r\\nQ04912,Q04912\\r\\nQ05315,Q05315\\r\\nQ05516,Q9NYJ8\\r\\nQ05996,Q05996\\r\\nQ05D60,Q05D60\\r\\nQ06190,Q5T6C5\\r\\nQ06330,P0C7T5\\r\\nQ06432,Q9P0L0\\r\\nQ06587,Q8D053\\r\\nQ06945,Q9UNW1\\r\\nQ07011,Q96L50\\r\\nQ07065,Q9H1I8\\r\\nQ07157,Q8CKB6\\r\\nQ07325,Q06710\\r\\nQ07666,Q81L32\\r\\nQ07812,Q07812\\r\\nQ08170,O43719\\r\\nQ08211,P61978\\r\\nQ08289,Q8CKN6\\r\\nQ08945,Q01780\\r\\nQ08AM6,Q81NJ6\\r\\nQ08AM8,Q9Y2J4\\r\\nQ09028,Q8IX07\\r\\nQ09161,P52298\\r\\nQ09666,Q5NH85\\r\\nQ0JRZ9,Q9RMW6\\r\\nQ0P6H9,P09960\\r\\nQ0VD86,Q9BTL3\\r\\nQ0VDD7,Q9BT78\\r\\nQ10588,Q10588\\r\\nQ10589,Q16775\\r\\nQ12768,Q81LN0\\r\\nQ12769,Q9Y3B2\\r\\nQ12789,Q0WDR2\\r\\nQ12791,P21731\\r\\nQ12802,Q81MH5\\r\\nQ12824,P06789\\r\\nQ12836,Q12836\\r\\nQ12866,Q5NHH0\\r\\nQ12882,P46359\\r\\nQ12889,O43374\\r\\nQ12899,Q8CLT3\\r\\nQ12904,P54136\\r\\nQ12913,Q12913\\r\\nQ12923,Q8TEU7\\r\\nQ12962,Q8WTS6\\r\\nQ12967,P34810\\r\\nQ12972,Q99459\\r\\nQ12986,Q96JK9\\r\\nQ13007,P81605\\r\\nQ13029,Q81RM1\\r\\nQ13042,Q8NHZ8\\r\\nQ13045,Q9Y608\\r\\nQ13057,Q8N137\\r\\nQ13075,Q13075\\r\\nQ13098,Q16531\\r\\nQ13105,Q9Y2L1\\r\\nQ13113,Q5T2W1\\r\\nQ13123,Q5NFN3\\r\\nQ13191,Q14155\\r\\nQ13258,Q8N6S4\\r\\nQ13263,Q15047\\r\\nQ13268,Q9NQT4\\r\\nQ13275,Q8TBE7\\r\\nQ13286,Q9Y3A5\\r\\nQ13308,Q5NIA8\\r\\nQ13326,Q14315\\r\\nQ13332,Q13332\\r\\nQ13351,P32776\\r\\nQ13356,Q92733\\r\\nQ13393,Q15121\\r\\nQ13415,Q13416\\r\\nQ13418,Q9H0C8\\r\\nQ13439,Q96NW4\\r\\nQ13443,Q9UI95\\r\\nQ13444,Q9Y5X1\\r\\nQ13459,Q15345\\r\\nQ13478,Q14116\\r\\nQ13503,Q8ZGC4\\r\\nQ13563,O35387\\r\\nQ13564,Q8TBC4\\r\\nQ13568,Q13568\\r\\nQ13571,Q92995\\r\\nQ13585,Q13585\\r\\nQ13596,Q13596\\r\\nQ13615,Q15024\\r\\nQ13617,Q5NGN2\\r\\nQ13618,Q13618\\r\\nQ13630,Q9BVS4\\r\\nQ13634,P15173\\r\\nQ13635,Q15465\\r\\nQ13639,Q13639\\r\\nQ13685,Q8D016\\r\\nQ13825,Q13825\\r\\nQ13888,Q8D0H2\\r\\nQ13895,Q12815\\r\\nQ13901,Q5VWK5\\r\\nQ13936,Q9NZU7\\r\\nQ13946,Q81N22\\r\\nQ13976,Q86V42\\r\\nQ14004,O75909\\r\\nQ14005,Q81NT0\\r\\nQ14088,Q96JN2\\r\\nQ14118,Q14118\\r\\nQ14129,Q07687\\r\\nQ14154,Q5NF31\\r\\nQ14181,Q8IU60\\r\\nQ14194,Q14194\\r\\nQ14202,Q9UHL9\\r\\nQ14210,O95342\\r\\nQ14232,Q14232\\r\\nQ14241,Q93034\\r\\nQ14242,P16109\\r\\nQ14244,Q9HBA0\\r\\nQ14318,Q8ZIY9\\r\\nQ14331,Q9HCG8\\r\\nQ14376,Q8CZV1\\r\\nQ14432,P29311\\r\\nQ14444,Q8D0H5\\r\\nQ14493,Q8WTR7\\r\\nQ14498,Q8D0P1\\r\\nQ14512,P98160\\r\\nQ14517,Q9NSC5\\r\\nQ14526,Q14526\\r\\nQ14626,P20809\\r\\nQ14627,P35225\\r\\nQ14643,Q81T40\\r\\nQ14677,Q8ZD27\\r\\nQ14680,Q969S3\\r\\nQ14687,Q14687\\r\\nQ14691,Q9BRT9\\r\\nQ14694,Q9UN86\\r\\nQ14699,Q5NH38\\r\\nQ14746,Q5JR59\\r\\nQ14764,Q81ZA2\\r\\nQ14781,Q6P158\\r\\nQ14802,Q9NXK8\\r\\nQ14896,Q59H18\\r\\nQ14978,P38432\\r\\nQ14BN4,Q9ZC50\\r\\nQ14CM0,Q9NRP7\\r\\nQ15005,Q96QE5\\r\\nQ15006,O43402\\r\\nQ15018,Q7Z6K1\\r\\nQ15029,Q8CZM8\\r\\nQ15051,Q8TAM2\\r\\nQ15063,Q9UL33\\r\\nQ15075,Q15075\\r\\nQ15154,Q9P209\\r\\nQ15198,Q12797\\r\\nQ15223,Q9NQS3\\r\\nQ15256,Q15256\\r\\nQ15257,Q4VCS5\\r\\nQ15262,Q15262\\r\\nQ15274,Q15274\\r\\nQ15276,Q81VM2\\r\\nQ15326,Q5NHX9\\r\\nQ15361,Q6NZI2\\r\\nQ15393,Q96GM8\\r\\nQ15468,Q9HC77\\r\\nQ15506,P14649\\r\\nQ15517,Q53EZ4\\r\\nQ15527,Q03405\\r\\nQ15544,Q5NH75\\r\\nQ15555,Q8ZGH1\\r\\nQ15562,P06930\\r\\nQ15569,P25490\\r\\nQ15573,Q6ZUT1\\r\\nQ15631,Q99598\\r\\nQ15643,Q81MS2\\r\\nQ15649,Q9NR56\\r\\nQ15650,Q5NFG5\\r\\nQ15669,Q969H4\\r\\nQ15672,Q9Y3P9\\r\\nQ15697,Q15697\\r\\nQ15723,Q9Y2Y4\\r\\nQ15744,Q99680\\r\\nQ15751,Q8CKC4\\r\\nQ15762,Q15762\\r\\nQ15810,Q5NH45\\r\\nQ15828,O75815\\r\\nQ16186,Q9Y5K5\\r\\nQ16222,Q16222\\r\\nQ16236,P18848\\r\\nQ16270,Q8ZBM0\\r\\nQ16394,Q12931\\r\\nQ16401,P62191\\r\\nQ16517,Q9F287\\r\\nQ16518,Q3HUX0\\r\\nQ16540,O14561\\r\\nQ16610,P58644\\r\\nQ16612,P56537\\r\\nQ16625,O75385\\r\\nQ16627,Q7CLB2\\r\\nQ16630,Q81R76\\r\\nQ16666,Q16666\\r\\nQ16667,Q16667\\r\\nQ16739,Q16799\\r\\nQ16763,O76095\\r\\nQ16822,Q8ZJ79\\r\\nQ16827,Q16827\\r\\nQ16881,Q8D1A4\\r\\nQ18PE1,O95297\\r\\nQ2M3G4,O41946\\r\\nQ2NKJ3,Q9H668\\r\\nQ2NL98,Q5NFT6\\r\\nQ2TAZ0,P43601\\r\\nQ2VPB7,Q9H0R1\\r\\nQ30201,P02786\\r\\nQ3B7T1,Q8ZE20\\r\\nQ3B820,Q3B820\\r\\nQ3B8N2,Q9NRG1\\r\\nQ3BBV0,Q5NIC1\\r\\nQ3KP44,Q8NBB4\\r\\nQ3KQV3,Q3KQV3\\r\\nQ3LXA3,Q9BYX4\\r\\nQ3SYG4,Q9NQ48\\r\\nQ3V5L5,Q2WGJ6\\r\\nQ3YBR2,Q8D1B3\\r\\nQ494R4,P37198\\r\\nQ495A1,Q96NY8\\r\\nQ496A3,Q9NQX3\\r\\nQ49A26,Q9BZ95\\r\\nQ49A88,Q5JTB6\\r\\nQ49A92,Q49A92\\r\\nQ49AR2,P60002\\r\\nQ4FZB7,P13423\\r\\nQ4J6C6,Q7CG77\\r\\nQ4LDE5,Q7CGD9\\r\\nQ4LE39,Q8D0K4\\r\\nQ4V328,Q9NXU5\\r\\nQ4VC05,P48509\\r\\nQ504Q3,Q9BYM8\\r\\nQ504U0,Q9BQD3\\r\\nQ53EP0,Q0WF87\\r\\nQ53GD2,Q5NHI8\\r\\nQ53GL0,Q8ZCU2\\r\\nQ53H47,Q53H47\\r\\nQ53H80,Q9NZD8\\r\\nQ53HC0,Q81NR1\\r\\nQ53HI1,P47102\\r\\nQ53QV2,Q92786\\r\\nQ56P03,Q9Y312\\r\\nQ58DX5,Q86VI4\\r\\nQ59F13,Q8CLV2\\r\\nQ59GP6,Q59GP6\\r\\nQ5BJH2,Q9BXK5\\r\\nQ5BKY6,Q9BYR5\\r\\nQ5DX21,Q5DX21\\r\\nQ5H9F3,Q9BSM1\\r\\nQ5H9K5,Q81TR2\\r\\nQ5HYL7,Q5HYL7\\r\\nQ5JQC9,Q8NA03\\r\\nQ5JR98,Q03167\\r\\nQ5JS13,Q9BSF0\\r\\nQ5JU67,P14335\\r\\nQ5JY77,P0C762\\r\\nQ5M9N0,O41957\\r\\nQ5RKV6,Q8ZIM0\\r\\nQ5SW96,Q6P5S2\\r\\nQ5SYE7,O41932\\r\\nQ5T011,Q96S15\\r\\nQ5T0J3,Q81XC3\\r\\nQ5T0U0,Q81KK8\\r\\nQ5T1M5,Q5T1M5\\r\\nQ5T447,Q9UDY8\\r\\nQ5T5X7,Q5T5X7\\r\\nQ5T653,Q8IZR5\\r\\nQ5T700,Q9UEU0\\r\\nQ5T7Y6,Q5T7Y6\\r\\nQ5T890,Q9BWK5\\r\\nQ5T8A7,O75691\\r\\nQ5T9C2,Q9H0I2\\r\\nQ5TB80,Q81LC5\\r\\nQ5TGI0,Q5TGI0\\r\\nQ5THJ4,Q8WXG6\\r\\nQ5TZA2,Q8N8N0\\r\\nQ5VIR6,Q96JG6\\r\\nQ5VT25,Q5VT25\\r\\nQ5VTL8,Q7ARF1\\r\\nQ5VU69,Q9H7Z7\\r\\nQ5VU92,Q9NP31\\r\\nQ5VV41,Q8NDC0\\r\\nQ5VWQ8,Q7CGN7\\r\\nQ5VXU9,Q81JU4\\r\\nQ5VYM1,Q5NFV6\\r\\nQ5VZ18,Q7L591\\r\\nQ5VZL5,Q5NET2\\r\\nQ5VZY2,Q5VZY2\\r\\nQ5W0Q7,P55854\\r\\nQ5W5X9,P14079\\r\\nQ63ZY3,Q63ZY3\\r\\nQ641Q2,Q8CZU9\\r\\nQ658P4,Q81PT2\\r\\nQ66PJ3,Q8ZCQ2\\r\\nQ684P5,Q9H4A3\\r\\nQ68CJ9,Q68CJ9\\r\\nQ68CZ1,O75161\\r\\nQ68CZ2,Q05397\\r\\nQ68D86,Q68D86\\r\\nQ68DK2,Q96R06\\r\\nQ6AHZ1,Q8ZGX4\\r\\nQ6AI12,Q6AI12\\r\\nQ6AI39,Q5VU97\\r\\nQ6AWC2,Q81ST3\\r\\nQ6DJT9,Q8CZT4\\r\\nQ6DKK2,Q9BZI7\\r\\nQ6EEV4,Q9P298\\r\\nQ6EMK4,Q96EP0\\r\\nQ6FGM0,Q6FGM0\\r\\nQ6FHJ7,Q96CW1\\r\\nQ6FII1,Q6FII1\\r\\nQ6GQQ9,Q8NFZ5\\r\\nQ6IA61,Q9H267\\r\\nQ6ICB0,Q5NFA4\\r\\nQ6IQ16,Q81SX2\\r\\nQ6IQ55,Q9UPV0\\r\\nQ6JEL2,Q6JEL2\\r\\nQ6KC79,Q9Y6X3\\r\\nQ6MZQ0,Q6R327\\r\\nQ6N074,Q9H6T3\\r\\nQ6NSW5,Q8N2U0\\r\\nQ6NT76,Q6NT76\\r\\nQ6NUQ1,Q9BSJ6\\r\\nQ6NVH7,Q19AV6\\r\\nQ6NW29,Q8N5Z5\\r\\nQ6NXT4,Q8TAD4\\r\\nQ6NYC1,Q6ZN18\\r\\nQ6NYC8,Q8D0R4\\r\\nQ6P1J9,Q9H9H4\\r\\nQ6P1L5,Q14145\\r\\nQ6P1N0,Q96CF2\\r\\nQ6P1W5,Q99996\\r\\nQ6P444,P13196\\r\\nQ6P5X5,Q8TAP6\\r\\nQ6PCD5,Q81YX2\\r\\nQ6PD62,Q9UHC6\\r\\nQ6PEX3,Q6PEX3\\r\\nQ6PI26,Q8NEA9\\r\\nQ6PIK7,Q8N8X9\\r\\nQ6PIY7,Q81Y46\\r\\nQ6PJI9,Q81L99\\r\\nQ6PKG0,Q81PD4\\r\\nQ6PML9,Q8ZFV7\\r\\nQ6Q0C0,Q81ZE0\\r\\nQ6QNY0,Q6QNY1\\r\\nQ6UN15,P55345\\r\\nQ6UVJ0,Q66GS9\\r\\nQ6UX06,Q5NG28\\r\\nQ6UX65,O68752\\r\\nQ6UXL0,Q9UHF4\\r\\nQ6WCQ1,Q10728\\r\\nQ6XZF7,Q68EM7\\r\\nQ6ZMY6,Q81YN3\\r\\nQ6ZMZ3,Q6ZWR6\\r\\nQ6ZN44,Q9Y5V3\\r\\nQ6ZNA4,Q6ZNA4\\r\\nQ6ZNE5,Q99570\\r\\nQ6ZQS4,Q7CHU1\\r\\nQ6ZS30,Q5NFY4\\r\\nQ6ZT89,Q8TF42\\r\\nQ6ZTQ3,Q13188\\r\\nQ6ZUJ4,Q96CS2\\r\\nQ6ZUJ8,Q81TT4\\r\\nQ6ZV49,Q8CWH0\\r\\nQ6ZVD7,P48507\\r\\nQ6ZVK8,P22234\\r\\nQ702N8,Q03173\\r\\nQ70EK8,P48200\\r\\nQ70SY1,Q9UDV6\\r\\nQ70YC5,Q70YC5\\r\\nQ75N03,P98175\\r\\nQ76FK4,Q76FK4\\r\\nQ7KZF4,Q9ZC68\\r\\nQ7L266,Q13163\\r\\nQ7L273,Q7L273\\r\\nQ7L2H7,Q8D015\\r\\nQ7L311,Q7L311\\r\\nQ7L513,Q5NIQ5\\r\\nQ7L592,Q5NFQ6\\r\\nQ7L5N1,Q9UBW8\\r\\nQ7L5Y6,Q9NWG3\\r\\nQ7L622,O00453\\r\\nQ7L804,Q7L804\\r\\nQ7RTS3,Q96KN7\\r\\nQ7RU07,Q8WVR3\\r\\nQ7Z333,Q7Z333\\r\\nQ7Z353,Q9UMX1\\r\\nQ7Z3B1,Q7Z3B1\\r\\nQ7Z3K3,P03206\\r\\nQ7Z412,Q81N96\\r\\nQ7Z478,Q96BT3\\r\\nQ7Z4I7,Q9H422\\r\\nQ7Z4K8,Q96EQ8\\r\\nQ7Z4W1,Q7Z4W1\\r\\nQ7Z511,Q9UIM3\\r\\nQ7Z5G4,Q08378\\r\\nQ7Z5J4,Q13526\\r\\nQ7Z5K2,Q81V37\\r\\nQ7Z5Q5,Q9Y2S7\\r\\nQ7Z699,Q15435\\r\\nQ7Z6A9,Q7Z6A9\\r\\nQ7Z6B0,Q7Z6B0\\r\\nQ7Z6I6,Q81ZE7\\r\\nQ7Z6K3,Q8D1D2\\r\\nQ7Z6V5,Q5NFK7\\r\\nQ7Z6Z7,P06921\\r\\nQ7Z7A1,Q8D169\\r\\nQ7Z7G1,Q9ULJ7\\r\\nQ7Z7H3,Q7Z7H3\\r\\nQ86SE9,Q81WE9\\r\\nQ86SQ9,P61916\\r\\nQ86TM6,Q8ZJC4\\r\\nQ86UR1,P05129\\r\\nQ86UT5,P25092\\r\\nQ86UU5,Q86UU5\\r\\nQ86UW9,Q86UW9\\r\\nQ86VF2,Q9H706\\r\\nQ86VG3,Q14973\\r\\nQ86VV8,Q9R7V4\\r\\nQ86VX2,Q81PJ7\\r\\nQ86W92,P88987\\r\\nQ86WJ1,Q8CK83\\r\\nQ86WX3,Q96EB6\\r\\nQ86X29,Q8IW41\\r\\nQ86X95,Q8D0N9\\r\\nQ86XK2,Q74YC7\\r\\nQ86XP3,Q15427\\r\\nQ86XT4,Q86XT4\\r\\nQ86YD3,P53611\\r\\nQ86YF9,Q9NQZ3\\r\\nQ86YL7,Q9P126\\r\\nQ86YP4,Q9UBB5\\r\\nQ86YS3,Q86YS3\\r\\nQ86YT6,P10041\\r\\nQ86YV9,P51948\\r\\nQ86Z14,Q9NSA1\\r\\nQ8IU81,Q9H0N5\\r\\nQ8IUD6,Q8IUD6\\r\\nQ8IUF8,Q8IUF8\\r\\nQ8IUH3,Q8IUH3\\r\\nQ8IUP8,Q81KI9\\r\\nQ8IV08,Q81RK3\\r\\nQ8IVH4,Q8IVH4\\r\\nQ8IVI9,Q5NFA1\\r\\nQ8IVS8,Q9NZI7\\r\\nQ8IVW4,Q9UNY4\\r\\nQ8IWL2,P75409\\r\\nQ8IWU2,P41236\\r\\nQ8IWZ5,Q8IWZ5\\r\\nQ8IX04,Q8N9I9\\r\\nQ8IX15,Q92834\\r\\nQ8IX21,Q8CKN0\\r\\nQ8IXB1,Q2HXL6\\r\\nQ8IXM6,Q9UH99\\r\\nQ8IXR5,Q6UWE0\\r\\nQ8IYA8,Q9BQA5\\r\\nQ8IYD1,P62495\\r\\nQ8IYD8,Q9BTP7\\r\\nQ8IYF3,Q96FH0\\r\\nQ8IYZ2,Q8ZEL9\\r\\nQ8IZ13,Q8WXB1\\r\\nQ8IZ69,P05026\\r\\nQ8IZ83,Q8ZGK8\\r\\nQ8IZD4,F4HZB2\\r\\nQ8IZL2,Q7ARE4\\r\\nQ8IZU1,Q9NQR1\\r\\nQ8N0X7,Q9H0M0\\r\\nQ8N108,Q8WVE6\\r\\nQ8N112,Q8N8F7\\r\\nQ8N114,Q9NZC7\\r\\nQ8N142,Q9NX58\\r\\nQ8N1F7,Q8NFH5\\r\\nQ8N1K5,Q74XD3\\r\\nQ8N1N0,Q5NHY8\\r\\nQ8N283,Q81KB5\\r\\nQ8N287,Q8ZHI2\\r\\nQ8N2Z9,A8MT69\\r\\nQ8N357,Q14695\\r\\nQ8N365,O54943\\r\\nQ8N371,Q99447\\r\\nQ8N3Y7,Q92935\\r\\nQ8N4C6,Q8N4C6\\r\\nQ8N4L2,Q8Z9R8\\r\\nQ8N4T4,Q96CG3\\r\\nQ8N4Y2,Q8N8B7\\r\\nQ8N512,Q8ZFR0\\r\\nQ8N5A5,Q96GN5\\r\\nQ8N5D0,Q9ULK4\\r\\nQ8N5I9,P51813\\r\\nQ8N5Y2,Q68DK7\\r\\nQ8N699,Q8D1P8\\r\\nQ8N6G5,P39996\\r\\nQ8N6P7,Q969J5\\r\\nQ8N720,Q8D0K7\\r\\nQ8N836,Q6KMJ2\\r\\nQ8N878,Q9Y237\\r\\nQ8N8E3,Q6KMS8\\r\\nQ8N8K9,Q8N8K9\\r\\nQ8N8R7,Q5NER2\\r\\nQ8N966,Q8IWR1\\r\\nQ8N9H8,Q8N9H8\\r\\nQ8NA29,P88995\\r\\nQ8NA54,Q8NA54\\r\\nQ8NA92,Q9BVK6\\r\\nQ8NAF0,Q9NRH1\\r\\nQ8NAP8,Q8NAP8\\r\\nQ8NB12,Q9H8W3\\r\\nQ8NB16,P17568\\r\\nQ8NB91,Q9NW38\\r\\nQ8NBN7,P11801\\r\\nQ8NBQ7,P42229\\r\\nQ8NBT2,Q9HBM1\\r\\nQ8NC26,Q8NC26\\r\\nQ8NC60,Q81YC1\\r\\nQ8NC69,Q8NC69\\r\\nQ8NCC5,Q92949\\r\\nQ8NCE0,Q7Z6J9\\r\\nQ8NCG5,Q96C86\\r\\nQ8NCG7,Q9UG56\\r\\nQ8NCP5,Q8NCP5\\r\\nQ8NCU1,Q96BD8\\r\\nQ8NDB2,Q81K85\\r\\nQ8NDC4,Q9Y2D8\\r\\nQ8NDV7,Q8D1R8\\r\\nQ8NDZ2,Q9UBS4\\r\\nQ8NE31,Q8NE31\\r\\nQ8NEH6,Q8NEH6\\r\\nQ8NEM0,Q8NEM0\\r\\nQ8NEZ4,Q15291\\r\\nQ8NF50,Q81TQ0\\r\\nQ8NFF5,Q8NFF5\\r\\nQ8NFH8,Q9Y6I3\\r\\nQ8NFJ6,Q8NFJ6\\r\\nQ8NFW8,Q81LB0\\r\\nQ8NG08,Q8D0H6\\r\\nQ8NG31,Q9H081\\r\\nQ8NHH9,Q8NHH9\\r\\nQ8NHX9,Q8NHX9\\r\\nQ8NHY2,Q96RU8\\r\\nQ8NHY3,Q96RT1\\r\\nQ8TAD8,Q9Y4E5\\r\\nQ8TAK5,P06430\\r\\nQ8TAT6,Q92890\\r\\nQ8TAX7,P15515\\r\\nQ8TBF2,O14788\\r\\nQ8TBR7,P08195\\r\\nQ8TBX8,Q8TBX8\\r\\nQ8TBZ0,Q8TB45\\r\\nQ8TC07,Q9P1Z2\\r\\nQ8TC57,Q8TC57\\r\\nQ8TCJ0,Q86UP8\\r\\nQ8TCY5,Q8TCY5\\r\\nQ8TD10,Q8TD10\\r\\nQ8TD31,Q3KSU8\\r\\nQ8TD90,Q9BYE7\\r\\nQ8TDC0,Q53GG5\\r\\nQ8TDD1,Q9H3S1\\r\\nQ8TDG4,Q5NF78\\r\\nQ8TDJ6,Q9H8T0\\r\\nQ8TDM6,Q8CKQ9\\r\\nQ8TDN6,Q9UBT2\\r\\nQ8TDU6,Q5NEP4\\r\\nQ8TDY2,Q676U5\\r\\nQ8TEQ6,Q81TA1\\r\\nQ8TER5,Q8NA61\\r\\nQ8TEV9,Q96LT7\\r\\nQ8TEY5,Q14697\\r\\nQ8TEY7,Q13228\\r\\nQ8WTU0,P40087\\r\\nQ8WTX7,Q8WTX7\\r\\nQ8WU10,Q96BW1\\r\\nQ8WU58,Q7CK09\\r\\nQ8WU67,Q8ZIF7\\r\\nQ8WUE5,Q2KHM9\\r\\nQ8WUF5,Q8WUF5\\r\\nQ8WUN7,P22314\\r\\nQ8WUP2,Q11184\\r\\nQ8WUW1,Q9NYB9\\r\\nQ8WV15,Q8D1G3\\r\\nQ8WV60,Q13049\\r\\nQ8WVF5,Q8WVF5\\r\\nQ8WVK1,Q17RB8\\r\\nQ8WVK2,P78362\\r\\nQ8WVK7,Q9H410\\r\\nQ8WVN6,Q7ARJ2\\r\\nQ8WWB3,P32902\\r\\nQ8WWB5,Q8WWB5\\r\\nQ8WWG9,O75147\\r\\nQ8WWM7,Q8ZFX5\\r\\nQ8WWZ3,Q8WWZ3\\r\\nQ8WXE1,Q9BW66\\r\\nQ8WXI4,Q8WXI4\\r\\nQ8WXX7,Q8CLN2\\r\\nQ8WY64,Q9Y2B0\\r\\nQ8WY91,Q9Y3A3\\r\\nQ8WYN0,Q9BSB4\\r\\nQ8WYP5,Q8NFH4\\r\\nQ8WZ19,Q8WZ19\\r\\nQ8WZ59,Q07108\\r\\nQ92503,Q8ZDX9\\r\\nQ92547,Q5NGC7\\r\\nQ92556,Q81LS0\\r\\nQ92560,Q8ZA28\\r\\nQ92567,Q969U6\\r\\nQ92598,Q8CZU2\\r\\nQ92625,Q9UIH9\\r\\nQ92664,Q9F286\\r\\nQ92673,Q6Q788\\r\\nQ92692,Q62083\\r\\nQ92734,Q92734\\r\\nQ92743,P10636\\r\\nQ92748,Q92748\\r\\nQ92797,Q8TB24\\r\\nQ92802,Q8ZJ18\\r\\nQ92820,Q92820\\r\\nQ92839,Q92839\\r\\nQ92886,Q15633\\r\\nQ92932,Q92932\\r\\nQ92974,Q81QL4\\r\\nQ93050,O95219\\r\\nQ93052,Q6UW56\\r\\nQ93063,Q9P0R6\\r\\nQ969M3,P53108\\r\\nQ969P0,P60372\\r\\nQ969X0,Q74Q56\\r\\nQ96A10,Q96A10\\r\\nQ96A33,P62424\\r\\nQ96A37,Q7CGS4\\r\\nQ96A44,Q96IZ0\\r\\nQ96A83,P50454\\r\\nQ96AA8,Q96AA8\\r\\nQ96AD5,Q81MN9\\r\\nQ96AP7,Q96AP7\\r\\nQ96AQ7,Q96AQ7\\r\\nQ96AQ9,Q9Y6D9\\r\\nQ96AW1,Q9NY59\\r\\nQ96B21,Q9UJW2\\r\\nQ96B67,P58722\\r\\nQ96B86,O43147\\r\\nQ96BH3,P41135\\r\\nQ96BJ3,Q96BJ3\\r\\nQ96BR1,Q147U7\\r\\nQ96BT7,Q9UI30\\r\\nQ96CB9,Q7Z6M4\\r\\nQ96CD2,Q96CD2\\r\\nQ96CN9,Q7CKC7\\r\\nQ96CP6,Q5NI67\\r\\nQ96D31,Q96D31\\r\\nQ96DE5,P30260\\r\\nQ96DF8,O60925\\r\\nQ96DI7,Q8CLD1\\r\\nQ96DT7,Q9UBU8\\r\\nQ96DU3,Q96DU3\\r\\nQ96DW6,Q96DW6\\r\\nQ96DX5,Q15370\\r\\nQ96DX7,Q5JS98\\r\\nQ96EA4,Q96EA4\\r\\nQ96EK5,P47804\\r\\nQ96EK6,Q96EK6\\r\\nQ96EL3,Q86VP1\\r\\nQ96EW2,Q12774\\r\\nQ96F05,Q7CK92\\r\\nQ96F86,P26196\\r\\nQ96FA7,Q13164\\r\\nQ96FF9,Q9Y616\\r\\nQ96FI0,Q9NX47\\r\\nQ96FJ0,Q9H0A6\\r\\nQ96FV9,Q13769\\r\\nQ96FX2,Q9UGK8\\r\\nQ96FZ5,Q5NEB0\\r\\nQ96FZ7,Q9Y5L0\\r\\nQ96G28,Q81QQ9\\r\\nQ96G30,Q96G30\\r\\nQ96G74,Q8ZG01\\r\\nQ96GC9,Q8D0H8\\r\\nQ96GY0,P38822\\r\\nQ96H35,Q03519\\r\\nQ96H96,Q2PZI1\\r\\nQ96HA8,Q9BPX1\\r\\nQ96HD9,P41279\\r\\nQ96HE7,Q9UH73\\r\\nQ96HL8,Q5HYK7\\r\\nQ96HP4,Q8Z9U1\\r\\nQ96HP8,Q5NEY3\\r\\nQ96HR9,Q96HR9\\r\\nQ96HU1,P38913\\r\\nQ96IJ6,Q96IJ6\\r\\nQ96JC1,Q9H270\\r\\nQ96JM7,Q96JM7\\r\\nQ96K62,Q7CGI0\\r\\nQ96KG9,Q5NGA0\\r\\nQ96KN8,Q9BVM4\\r\\nQ96KP1,Q9NV70\\r\\nQ96KR1,Q8ZFW5\\r\\nQ96L11,P10074\\r\\nQ96L73,Q8D1J3\\r\\nQ96L93,Q81TW2\\r\\nQ96LD4,Q9BZR9\\r\\nQ96LI6,O75603\\r\\nQ96LP2,P38271\\r\\nQ96LT4,Q8D116\\r\\nQ96MC5,P06827\\r\\nQ96MS0,Q99435\\r\\nQ96MU7,O68749\\r\\nQ96MW5,Q8D1R1\\r\\nQ96N46,Q15532\\r\\nQ96N77,Q14534\\r\\nQ96NA2,Q8CZM3\\r\\nQ96NE9,Q6YFQ2\\r\\nQ96NT3,O43186\\r\\nQ96NW7,Q8WXI2\\r\\nQ96PJ5,Q03403\\r\\nQ96PQ7,Q8D0B2\\r\\nQ96PV4,Q96PV4\\r\\nQ96PY6,Q9GZX5\\r\\nQ96Q89,Q5NGQ8\\r\\nQ96QB1,Q5NFY5\\r\\nQ96QG7,Q96EF0\\r\\nQ96QK8,Q9Y4Z0\\r\\nQ96QT6,Q5NEA2\\r\\nQ96RE7,Q96RE7\\r\\nQ96RL6,Q81ZC1\\r\\nQ96RN5,P36956\\r\\nQ96RU3,Q8CZR5\\r\\nQ96RW7,Q8ZIE8\\r\\nQ96RY5,P26992\\r\\nQ96S82,P01730\\r\\nQ96SF7,Q96SF7\\r\\nQ96ST2,P52630\\r\\nQ96T23,Q5NEX3\\r\\nQ96T51,Q96T51\\r\\nQ99075,P00587\\r\\nQ99497,Q99497\\r\\nQ99518,Q81S27\\r\\nQ99519,P16278\\r\\nQ99549,Q9Y6K1\\r\\nQ99583,Q9UH92\\r\\nQ99584,Q99584\\r\\nQ99607,Q8ZCR0\\r\\nQ99650,Q5NFJ2\\r\\nQ99653,Q5NHC6\\r\\nQ99661,Q99661\\r\\nQ99714,Q58FG0\\r\\nQ99715,Q7ARB3\\r\\nQ99726,Q99726\\r\\nQ99747,Q9BXF6\\r\\nQ99784,O95721\\r\\nQ99853,Q7RTV0\\r\\nQ99932,Q9H9V9\\r\\nQ99941,Q8CWH5\\r\\nQ99944,Q96TC7\\r\\nQ99972,Q99972\\r\\nQ9BPU9,Q9Y283\\r\\nQ9BQ13,Q9BQ13\\r\\nQ9BQ52,O95182\\r\\nQ9BQ61,Q5NIE3\\r\\nQ9BQI9,Q16589\\r\\nQ9BR61,Q7CH75\\r\\nQ9BRG1,Q8IUI8\\r\\nQ9BRW1,Q8CKB2\\r\\nQ9BSE4,Q9X5X6\\r\\nQ9BSK4,P35408\\r\\nQ9BT49,Q01105\\r\\nQ9BTE1,Q81KK6\\r\\nQ9BU20,Q13421\\r\\nQ9BU61,Q9P032\\r\\nQ9BU64,O75150\\r\\nQ9BUB5,Q99615\\r\\nQ9BUL8,Q9Y6E0\\r\\nQ9BUY5,Q03920\\r\\nQ9BUZ4,Q8AZK7\\r\\nQ9BV19,Q9BV19\\r\\nQ9BV40,Q9H307\\r\\nQ9BV81,Q81LQ9\\r\\nQ9BV94,P61247\\r\\nQ9BVM2,Q9Y230\\r\\nQ9BWC9,Q12161\\r\\nQ9BWH2,Q8ZEC8\\r\\nQ9BWQ6,Q81WI9\\r\\nQ9BXD5,Q9BXD5\\r\\nQ9BXL7,P88980\\r\\nQ9BXM7,Q96JZ2\\r\\nQ9BXY4,Q9ULT6\\r\\nQ9BY32,Q81YS9\\r\\nQ9BY78,Q7Z7E8\\r\\nQ9BYB0,Q8CLS0\\r\\nQ9BYF1,Q6Q1S2\\r\\nQ9BYG3,P46013\\r\\nQ9BYV6,Q96RP9\\r\\nQ9BYV9,Q9HBE1\\r\\nQ9BZ72,Q5NFZ2\\r\\nQ9BZE0,Q9HCS7\\r\\nQ9BZF9,Q9NWT6\\r\\nQ9BZJ0,Q8WUD4\\r\\nQ9BZJ4,Q5NH21\\r\\nQ9BZL4,Q81R83\\r\\nQ9BZM1,Q8WXS4\\r\\nQ9BZW7,Q13490\\r\\nQ9C000,Q8ZJ10\\r\\nQ9C005,Q8CKI2\\r\\nQ9C0D9,Q06203\\r\\nQ9C0J9,Q9C0J9\\r\\nQ9GZM5,Q9BSR8\\r\\nQ9GZN8,Q93100\\r\\nQ9GZP1,Q9H8Y5\\r\\nQ9GZT6,Q8D1E0\\r\\nQ9GZU2,P88997\\r\\nQ9GZU3,Q8N159\\r\\nQ9GZV1,O60381\\r\\nQ9GZW8,Q9ZC63\\r\\nQ9GZY0,P78559\\r\\nQ9GZZ9,Q9GZZ9\\r\\nQ9H079,Q9H079\\r\\nQ9H0B3,Q96I25\\r\\nQ9H0F7,A8JEA1\\r\\nQ9H0H5,Q96RN1\\r\\nQ9H0R8,Q8WVZ9\\r\\nQ9H161,Q9H161\\r\\nQ9H1D9,Q12796\\r\\nQ9H1K0,P20338\\r\\nQ9H1Q7,Q81P31\\r\\nQ9H269,Q96AX1\\r\\nQ9H2P0,Q5NI31\\r\\nQ9H2S1,Q9H2S1\\r\\nQ9H2S9,Q9H2S9\\r\\nQ9H2X8,Q7ARD1\\r\\nQ9H305,Q8D1R4\\r\\nQ9H3E2,Q5NHN0\\r\\nQ9H3H3,Q15056\\r\\nQ9H3H5,Q96ES6\\r\\nQ9H469,Q9HCE7\\r\\nQ9H4F1,Q8TB22\\r\\nQ9H553,Q9H553\\r\\nQ9H582,Q5NG68\\r\\nQ9H5V7,Q9H5V7\\r\\nQ9H5V9,Q9BWF3\\r\\nQ9H609,P51687\\r\\nQ9H614,Q6IA69\\r\\nQ9H665,Q6UXB1\\r\\nQ9H6B4,Q9H6B4\\r\\nQ9H6H2,Q9H4Y5\\r\\nQ9H6P5,Q9H6P5\\r\\nQ9H6R3,O00292\\r\\nQ9H6U8,Q81SE4\\r\\nQ9H773,Q9H773\\r\\nQ9H7E2,O95985\\r\\nQ9H7L9,Q9H7L9\\r\\nQ9H7P9,Q5NG39\\r\\nQ9H7U1,P46100\\r\\nQ9H840,Q8WXD5\\r\\nQ9H8H0,Q969X6\\r\\nQ9H8K7,Q9H8K7\\r\\nQ9H8L6,P0C706\\r\\nQ9H944,Q9BUE0\\r\\nQ9H981,Q9H981\\r\\nQ9H9A7,Q13472\\r\\nQ9H9B4,Q7KZN9\\r\\nQ9H9E1,Q9H0W5\\r\\nQ9H9E3,Q9R3G9\\r\\nQ9H9J2,P52429\\r\\nQ9H9S0,Q9BQY4\\r\\nQ9HAN9,Q9HAN9\\r\\nQ9HB03,Q8N307\\r\\nQ9HB58,P19404\\r\\nQ9HB63,Q8D1F5\\r\\nQ9HBX9,P01348\\r\\nQ9HC16,Q9HC16\\r\\nQ9HC29,Q9P0J0\\r\\nQ9HC96,P98172\\r\\nQ9HCE5,Q86U44\\r\\nQ9HCE9,O75208\\r\\nQ9HD45,Q7CG87\\r\\nQ9NNW5,Q9H3Q1\\r\\nQ9NNX6,Q9NNX6\\r\\nQ9NP94,Q14722\\r\\nQ9NP99,Q9NP99\\r\\nQ9NPC6,P58543\\r\\nQ9NPF0,Q8D0A6\\r\\nQ9NPI1,Q9BUJ2\\r\\nQ9NPI5,Q9Y561\\r\\nQ9NPI8,Q9Y248\\r\\nQ9NPJ3,Q9NPJ3\\r\\nQ9NPP4,Q9NPP4\\r\\nQ9NQ25,Q9NQ25\\r\\nQ9NQ33,Q9NQ33\\r\\nQ9NQC3,P0C7U7\\r\\nQ9NQC7,Q9BWF2\\r\\nQ9NQW6,Q8NA82\\r\\nQ9NR12,P78314\\r\\nQ9NR46,Q9NR46\\r\\nQ9NR50,O95169\\r\\nQ9NR96,Q9NR96\\r\\nQ9NRA8,Q5NFD3\\r\\nQ9NRF2,Q5VV43\\r\\nQ9NRF9,Q9NRG0\\r\\nQ9NRJ3,P24766\\r\\nQ9NRQ2,P38128\\r\\nQ9NRZ9,Q8Z9U3\\r\\nQ9NS26,Q9Y6X0\\r\\nQ9NS56,P02340\\r\\nQ9NS73,Q7CIX9\\r\\nQ9NSD9,Q9Y285\\r\\nQ9NSE2,P19235\\r\\nQ9NST1,Q96L92\\r\\nQ9NSU2,Q9H4K1\\r\\nQ9NTJ3,Q56991\\r\\nQ9NTM9,Q9NTM9\\r\\nQ9NTW7,P50402\\r\\nQ9NUG6,Q9UHV9\\r\\nQ9NUL5,Q9NUL5\\r\\nQ9NUQ9,Q9GZT8\\r\\nQ9NUV9,Q5NEB2\\r\\nQ9NV35,Q9H8P0\\r\\nQ9NVK5,Q5NHC9\\r\\nQ9NVT9,Q9H019\\r\\nQ9NW68,Q7CHR0\\r\\nQ9NWB7,Q8CWH9\\r\\nQ9NWH2,Q9UJ14\\r\\nQ9NWH9,Q8D0R5\\r\\nQ9NWQ9,Q9C099\\r\\nQ9NWS0,P22748\\r\\nQ9NWW7,A0A0F7RG28\\r\\nQ9NWX6,Q9NWX6\\r\\nQ9NX65,Q9NX65\\r\\nQ9NXC2,Q9NXC2\\r\\nQ9NXF7,P28808\\r\\nQ9NXG0,O41941\\r\\nQ9NXJ0,Q9Y342\\r\\nQ9NXR7,Q9NWV8\\r\\nQ9NXV6,Q64364\\r\\nQ9NY15,Q8CZY7\\r\\nQ9NY26,Q8IWE5\\r\\nQ9NY64,Q10567\\r\\nQ9NY74,O41931\\r\\nQ9NY97,Q9BRR3\\r\\nQ9NYF8,Q8ZED8\\r\\nQ9NYG8,Q9BTC0\\r\\nQ9NYM9,Q5T7V8\\r\\nQ9NYP9,Q9H0E9\\r\\nQ9NYX4,P09496\\r\\nQ9NZ09,P88991\\r\\nQ9NZ81,Q9NZ81\\r\\nQ9NZB2,Q81ND5\\r\\nQ9NZN9,Q9Y5A7\\r\\nQ9NZS9,Q5NIJ1\\r\\nQ9NZZ3,Q06265\\r\\nQ9P007,Q5NIP6\\r\\nQ9P0K8,Q7CH97\\r\\nQ9P0Z9,Q9ULJ1\\r\\nQ9P202,Q81RC4\\r\\nQ9P219,Q81NP6\\r\\nQ9P286,Q92530\\r\\nQ9P291,Q9UBB9\\r\\nQ9P2D0,Q9UHA4\\r\\nQ9P2I0,Q7CIG0\\r\\nQ9P2M4,Q5NG93\\r\\nQ9P2P6,Q15011\\r\\nQ9P2X7,Q9P2X7\\r\\nQ9UBK7,Q96LK0\\r\\nQ9UBN4,Q9UBN4\\r\\nQ9UBW7,Q81M06\\r\\nQ9UBY9,Q9UJY1\\r\\nQ9UDY6,Q9UQR1\\r\\nQ9UEW3,Q96QR1\\r\\nQ9UG01,Q9UBR4\\r\\nQ9UG63,O15084\\r\\nQ9UGB7,Q9UGB7\\r\\nQ9UGJ1,Q9UKJ5\\r\\nQ9UGQ2,Q96B96\\r\\nQ9UGR2,Q00721\\r\\nQ9UHA3,Q9UJX2\\r\\nQ9UHB4,Q9BT92\\r\\nQ9UHB9,P09132\\r\\nQ9UHF0,P29371\\r\\nQ9UHJ3,Q8TBK6\\r\\nQ9UHP7,Q12918\\r\\nQ9UI09,Q9H5H4\\r\\nQ9UI42,P84875\\r\\nQ9UI68,Q5NIH4\\r\\nQ9UIA9,Q9UMR2\\r\\nQ9UIF7,Q00597\\r\\nQ9UII2,Q81JM6\\r\\nQ9UIL1,Q81US6\\r\\nQ9UIQ6,Q9Y613\\r\\nQ9UJ83,Q9UJ83\\r\\nQ9UJ90,Q8TDN1\\r\\nQ9UJC3,Q9UJC3\\r\\nQ9UJT9,Q8D166\\r\\nQ9UJW9,Q8CKY9\\r\\nQ9UJX3,Q9UJX3\\r\\nQ9UJX6,Q9NYG5\\r\\nQ9UK58,P42713\\r\\nQ9UK73,Q8ZH09\\r\\nQ9UK76,P23246\\r\\nQ9UKK3,Q81M31\\r\\nQ9UKT9,Q8CZX4\\r\\nQ9UL01,Q5TA45\\r\\nQ9UL25,Q9UPN3\\r\\nQ9UL46,Q5NFS5\\r\\nQ9UL54,P46734\\r\\nQ9ULA0,Q9ULA0\\r\\nQ9ULD4,Q5NEC8\\r\\nQ9ULE0,Q9ULE0\\r\\nQ9ULG6,Q8CKF4\\r\\nQ9ULM6,Q9UFF9\\r\\nQ9ULQ1,Q9ULQ1\\r\\nQ9ULT8,Q8N6C5\\r\\nQ9ULV1,Q9ULV1\\r\\nQ9ULV3,Q81TL8\\r\\nQ9ULW8,Q9ULW8\\r\\nQ9UM11,Q8IZY5\\r\\nQ9UM73,Q6UXT8\\r\\nQ9UMD9,Q03001\\r\\nQ9UN79,Q9UN79\\r\\nQ9UNQ2,Q14511\\r\\nQ9UPM8,Q9Y587\\r\\nQ9UPU9,Q5NFQ5\\r\\nQ9UPW5,Q9P2P1\\r\\nQ9UPW8,Q9Y2J2\\r\\nQ9UPZ3,P26006\\r\\nQ9UQC2,Q9UQC2\\r\\nQ9Y210,Q9Y210\\r\\nQ9Y215,P22303\\r\\nQ9Y221,Q9Y221\\r\\nQ9Y223,Q9Y223\\r\\nQ9Y228,Q8D1L3\\r\\nQ9Y233,Q9UNX4\\r\\nQ9Y234,P60174\\r\\nQ9Y235,P41238\\r\\nQ9Y262,Q9UBQ5\\r\\nQ9Y271,Q9NS75\\r\\nQ9Y279,P01024\\r\\nQ9Y2A7,Q5S2C3\\r\\nQ9Y2H0,Q9UD71\\r\\nQ9Y2L5,Q8WVT3\\r\\nQ9Y2M2,Q7CGH1\\r\\nQ9Y2Z4,Q81WF3\\r\\nQ9Y394,P41161\\r\\nQ9Y3B3,P57727\\r\\nQ9Y3C8,Q8IZU9\\r\\nQ9Y3Y4,O00512\\r\\nQ9Y3Z3,Q9NYF5\\r\\nQ9Y446,Q02413\\r\\nQ9Y4A8,Q16621\\r\\nQ9Y4C4,Q9GZP7\\r\\nQ9Y4P8,Q8ZJF3\\r\\nQ9Y4U1,Q99707\\r\\nQ9Y520,Q8D1M2\\r\\nQ9Y572,Q9Y572\\r\\nQ9Y592,Q9Y592\\r\\nQ9Y5B0,P35269\\r\\nQ9Y5I7,Q9Z0S6\\r\\nQ9Y5K2,Q06418\\r\\nQ9Y5M8,Q96JB5\\r\\nQ9Y5P6,Q8NBS9\\r\\nQ9Y5U5,Q9UNG2\\r\\nQ9Y5U9,Q69YU3\\r\\nQ9Y5X4,Q00978\\r\\nQ9Y5Z9,P04035\\r\\nQ9Y615,Q9UGI8\\r\\nQ9Y620,Q9Y620\\r\\nQ9Y678,Q9P299\\r\\nQ9Y680,Q9Y680\\r\\nQ9Y6A5,Q9Y6A5\\r\\nQ9Y6K8,Q9H1E3\\r\\nQ9Y6M1,Q7CJ96\\r\\nQ9Y6M4,Q9BQY9\\r\\nQ9Y6M5,Q9Y6M5\\r\\nQ9Y6Q2,Q81S47\\r\\nQ9Y6Q6,O00300\\r\\nQ9Y6W6,P62280\\r\\nQ9Y6X8,Q8CZY0\\r\\nQ9Y6Y8,Q9Y547\\r\\nQ8ZC18,A2A3L6\\r\\nO41951,A6NCC3\\r\\nQ81UF0,A8K0D8\\r\\nP10209,H0YL14\\r\\nQ6KNA9,O00478\\r\\nQ8ZBZ9,O00519\\r\\nQ2TS39,O00602\\r\\nP03107,O00754\\r\\nQ7CHE1,O14686\\r\\nQ81VX8,O14979\\r\\nQ8ZFX8,O15033\\r\\nX5HMX4,O15118\\r\\nP88996,O43159\\r\\nP69616,O43291\\r\\nQ8D068,O43390\\r\\nQ81VV7,O43715\\r\\nQ81PE9,O60237\\r\\nQ8CWG5,O60449\\r\\nA5Z256,O75348\\r\\nQ9ERS5,O75970\\r\\nQ8ZCT9,O94760\\r\\nO41947,O94953\\r\\nQ8BH60,O95196\\r\\nQ5NGC9,O95319\\r\\nP88993,O95373\\r\\nP25655,O95628\\r\\nQ8CKD1,P00390\\r\\nQ7ARH3,P00558\\r\\nQ8CZT1,P01591\\r\\nP06886,P01733\\r\\nO08719,P02549\\r\\nP02976,P02741\\r\\nQ924X6,P02749\\r\\nO55245,P02753\\r\\nP09989,P05388\\r\\nQ8D051,P07998\\r\\nQ2HRC7,P08887\\r\\nQ8D0Z3,P09326\\r\\nQ5NFE2,P13639\\r\\nO70200,P13797\\r\\nQ8ZD36,P14543\\r\\nQ7CJE7,P14780\\r\\nQ81MB3,P17927\\r\\nQ9R3N6,P18428\\r\\nQ9QY17,P18545\\r\\nP20651,P24588\\r\\nQ81LK0,P25106\\r\\nQ8C567,P27918\\r\\nP39428,P28908\\r\\nQ9RN24,P29374\\r\\nB1AYL1,P29475\\r\\nQ8CLE0,P30040\\r\\nQ8ZIC5,P31785\\r\\nQ8D0S1,P31943\\r\\nQ77YB1,P37837\\r\\nP03207,P40123\\r\\nQ5NHX5,P40939\\r\\nP97764,P46937\\r\\nQ811P8,P47870\\r\\nQ81QL7,P49368\\r\\nQ81NI4,P49773\\r\\nQ8CLT0,P49908\\r\\nQ3HW36,P52732\\r\\nQ8D1Q7,P52739\\r\\nQ8CKA6,P52747\\r\\nQ8D1L5,P53041\\r\\nP49025,P53804\\r\\nQ8CKD8,P53814\\r\\nP38920,P54132\\r\\nQ5NHF1,P55011\\r\\nQ61471,P57737\\r\\nP25651,P61218\\r\\nQ81UZ6,P63241\\r\\nQ5NGR3,P79522\\r\\nQ5NIF4,P86790\\r\\nP46561,P98161\\r\\nP68318,P98179\\r\\nP08721,Q01628\\r\\nQ04603,Q01658\\r\\nQ8D0P9,Q02833\\r\\nA0A0F7R416,Q02952\\r\\nP40325,Q04323\\r\\nQ8D017,Q05682\\r\\nQ8X834,Q05D32\\r\\nP03264,Q12857\\r\\nQ5NII2,Q12891\\r\\nQ81JR3,Q12912\\r\\nP38932,Q13190\\r\\nQ8CZQ3,Q13342\\r\\nQ8CL29,Q13469\\r\\nQ80ZJ3,Q13542\\r\\nP52491,Q13616\\r\\nQ08273,Q13620\\r\\nO54946,Q13686\\r\\nQ81SW4,Q13772\\r\\nQ8CK80,Q15021\\r\\nQ7CJD3,Q15050\\r\\nQ81K28,Q15084\\r\\nQ8R2X8,Q15382\\r\\nQ8ZFB2,Q15596\\r\\nO41956,Q15629\\r\\nQ8D0E4,Q15746\\r\\nQ5NHE7,Q15853\\r\\nQ56950,Q15911\\r\\nP53255,Q2TAC2\\r\\nQ8ZIN5,Q3KNS1\\r\\nQ81M96,Q3SXM5\\r\\nQ9RMZ4,Q3YBM2\\r\\nQ5NH40,Q4VBZ9\\r\\nQ5NEH8,Q53EM3\\r\\nQ7CIZ0,Q5BKZ1\\r\\nQ81MI5,Q5J8M3\\r\\nQ8CZM5,Q5JTD0\\r\\nQ8K1M6,Q5U5J2\\r\\nQ5NI89,Q5U651\\r\\nQ9FQ25,Q5VT06\\r\\nQ8ZGJ9,Q5VV17\\r\\nQ8D1K2,Q63HM2\\r\\nQ81JL8,Q64F87\\r\\nQ64770,Q66K89\\r\\nQ7CHV3,Q69YN4\\r\\nO68779,Q6IEG0\\r\\nP69980,Q6P2H3\\r\\nQ81YI3,Q6UB99\\r\\nQ8CZJ0,Q6UWF3\\r\\nQ8ZGK7,Q6ZN54\\r\\nQ5NID7,Q6ZRC0\\r\\nQ7CKC8,Q6ZRS2\\r\\nP69974,Q6ZRX4\\r\\nQ5NH03,Q6ZSS4\\r\\nP31491,Q6ZU80\\r\\nQ81WA0,Q71RG4\\r\\nG8HBG2,Q71SY5\\r\\nQ8CLQ7,Q7RTS9\\r\\nP25299,Q7Z3B4\\r\\nO41925,Q7Z429\\r\\nQ8D1F9,Q7Z7M0\\r\\nP47142,Q86VN1\\r\\nQ5NIP8,Q86XR2\\r\\nQ5NHN7,Q8IWT0\\r\\nQ8XB62,Q8IY31\\r\\nQ5NF08,Q8IYM9\\r\\nQ7CIA2,Q8IZQ5\\r\\nQ81K14,Q8IZY2\\r\\nQ8ZBU9,Q8N1G0\\r\\nQ8ZJC5,Q8N2S1\\r\\nA0A2P0HHN0,Q8N392\\r\\nP20107,Q8N4E4\\r\\nP03196,Q8N5R6\\r\\nQ8CLU9,Q8NA59\\r\\nQ81V23,Q8NFP9\\r\\nQ8ZI64,Q8NHG8\\r\\nQ81XH4,Q8TAQ2\\r\\nQ81TB4,Q8TCB0\\r\\nP03105,Q8TCT4\\r\\nQ8ZBM5,Q8TEW8\\r\\nP0CK53,Q8TF72\\r\\nP43556,Q8WW24\\r\\nQ5NID1,Q8WXW3\\r\\nQ8ZAS8,Q8WZ64\\r\\nQ9SJF3,Q92636\\r\\nQ5NHZ8,Q92766\\r\\nQ8D0C8,Q92982\\r\\nP03261,Q969R5\\r\\nQ8D101,Q96AT9\\r\\nQ8D0T7,Q96B36\\r\\nQ8D1N2,Q96DN2\\r\\nQ9ZC51,Q96ER3\\r\\nP54784,Q96EY1\\r\\nQ6F011,Q96FQ6\\r\\nQ5NGL9,Q96JQ0\\r\\nQ9Z375,Q96LM7\\r\\nP58475,Q96LT9\\r\\nQ81SW9,Q96NL6\\r\\nQ8ZGE1,Q96NT0\\r\\nQ5NF67,Q96PV0\\r\\nP40335,Q96QK1\\r\\nQ81YB5,Q96T58\\r\\nP58497,Q99460\\r\\nQ9DUN1,Q99471\\r\\nQ81WT3,Q99542\\r\\nQ8ZGJ1,Q99550\\r\\nQ9X2Y1,Q9BPX3\\r\\nQ9F290,Q9BR11\\r\\nQ81P27,Q9BSJ2\\r\\nQ81LB8,Q9BT09\\r\\nP06536,Q9BTK6\\r\\nQ6HQX5,Q9BU02\\r\\nP32610,Q9BUW7\\r\\nQ8CKH6,Q9BVV8\\r\\nQ56974,Q9BX97\\r\\nP38770,Q9BXL8\\r\\nQ81Z87,Q9BY44\\r\\nQ8ZIK3,Q9C029\\r\\nQ8CZF9,Q9H0W8\\r\\nQ81YV0,Q9H2G4\\r\\nQ5NGR8,Q9H2W1\\r\\nO91464,Q9H3P7\\r\\nQ8D0S2,Q9H3S7\\r\\nP47027,Q9H4L7\\r\\nQ12071,Q9H6J7\\r\\nP25044,Q9H972\\r\\nQ8ZBG8,Q9H9F9\\r\\nQ8ZAW9,Q9HCI5\\r\\nQ8ZBK6,Q9NUY8\\r\\nQ81XR2,Q9NVU7\\r\\nQ81PH9,Q9NWQ8\\r\\nQ5NE99,Q9NWR8\\r\\nQ8D0N7,Q9NY93\\r\\nP69972,Q9NYI0\\r\\nQ79RC1,Q9NZ32\\r\\nQ81TU9,Q9NZC3\\r\\nQ8ZJ74,Q9NZJ5\\r\\nP11747,Q9NZJ6\\r\\nQ9X365,Q9NZM5\\r\\nQ8CK76,Q9P0K7\\r\\nQ8CZT7,Q9P267\\r\\nQ81W27,Q9P2N5\\r\\nQ8ZHK4,Q9P2Q2\\r\\nP40099,Q9UBF9\\r\\nQ81UH9,Q9UBK9\\r\\nG5E8P0,Q9UBX2\\r\\nQ8D174,Q9UEE5\\r\\nQ8D1B7,Q9UF61\\r\\nQ8D171,Q9UGI0\\r\\nP60616,Q9UGM1\\r\\nP97346,Q9UGP8\\r\\nQ8CZJ8,Q9UHF1\\r\\nQ5NE72,Q9UI12\\r\\nQ8D0C5,Q9UKJ3\\r\\nQ81TH8,Q9UKL3\\r\\nQ81SZ0,Q9ULH0\\r\\nQ8ZH52,Q9UQ35\\r\\nP32908,Q9UQE7\\r\\nQ77NN7,Q9Y294\\r\\nQ7CKY2,Q9Y2U9\\r\\nQ7CHI5,Q9Y2W1\\r\\nQ81WC9,Q9Y2X9\\r\\nQ81NN0,Q9Y383\\r\\nQ8ZGZ1,Q9Y3A2\\r\\nQ81VG2,Q9Y3T9\\r\\nP19508,Q9Y4B6\\r\\nQ5NHB5,Q9Y4I1\\r\\nP00974,Q9Y5Y6\\r\\nQ8CLD0,Q9Y657\\r\\n'"
      ]
     },
     "execution_count": 65,
     "metadata": {},
     "output_type": "execute_result"
    }
   ],
   "source": [
    "final_frame = pd.DataFrame(final_list, columns={'int_A', 'int_B'})\n",
    "final_frame.to_csv(\"c3_data_positive.csv\", index=False)"
   ]
  },
  {
   "cell_type": "markdown",
   "metadata": {},
   "source": [
    "The following function shows a tree hierarchy of the filesystem"
   ]
  },
  {
   "cell_type": "code",
   "execution_count": 3,
   "metadata": {},
   "outputs": [],
   "source": [
    "def tree(directory):\n",
    "    print(f'+ {directory}')\n",
    "    for path in sorted(directory.rglob('*')):\n",
    "        depth = len(path.relative_to(directory).parts)\n",
    "        spacer = '    ' * depth\n",
    "        print(f'{spacer}-> {path.name}')\n",
    "        \n",
    "# tree(home_dir)"
   ]
  }
 ],
 "metadata": {
  "kernelspec": {
   "display_name": "Python 3",
   "language": "python",
   "name": "python3"
  },
  "language_info": {
   "codemirror_mode": {
    "name": "ipython",
    "version": 3
   },
   "file_extension": ".py",
   "mimetype": "text/x-python",
   "name": "python",
   "nbconvert_exporter": "python",
   "pygments_lexer": "ipython3",
   "version": "3.7.7"
  }
 },
 "nbformat": 4,
 "nbformat_minor": 4
}
