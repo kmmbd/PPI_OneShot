{
 "cells": [
  {
   "cell_type": "code",
   "execution_count": 32,
   "metadata": {},
   "outputs": [],
   "source": [
    "from sklearn.metrics import precision_recall_curve\n",
    "from sklearn.metrics import plot_precision_recall_curve\n",
    "from sklearn.metrics import average_precision_score\n",
    "import matplotlib.pyplot as plt\n",
    "from sklearn import svm, datasets\n",
    "from sklearn.model_selection import train_test_split\n",
    "import numpy as np\n",
    "import pathlib \n",
    "import pandas as pd"
   ]
  },
  {
   "cell_type": "code",
   "execution_count": 33,
   "metadata": {},
   "outputs": [],
   "source": [
    "path = pathlib.Path.home().joinpath('Documents', 'ms_thesis_ppi')\n",
    "graph_file = pathlib.Path.cwd().joinpath('graphs')\n",
    "pred_file = 'siameseNet_contrastive_96_0.7'\n",
    "pred_path = pathlib.Path.joinpath(path, 'one_shot_demo', 'predictions', pred_file + '.csv')"
   ]
  },
  {
   "cell_type": "code",
   "execution_count": 34,
   "metadata": {},
   "outputs": [
    {
     "data": {
      "text/html": [
       "<div>\n",
       "<style scoped>\n",
       "    .dataframe tbody tr th:only-of-type {\n",
       "        vertical-align: middle;\n",
       "    }\n",
       "\n",
       "    .dataframe tbody tr th {\n",
       "        vertical-align: top;\n",
       "    }\n",
       "\n",
       "    .dataframe thead th {\n",
       "        text-align: right;\n",
       "    }\n",
       "</style>\n",
       "<table border=\"1\" class=\"dataframe\">\n",
       "  <thead>\n",
       "    <tr style=\"text-align: right;\">\n",
       "      <th></th>\n",
       "      <th>int_A</th>\n",
       "      <th>int_B</th>\n",
       "      <th>target</th>\n",
       "      <th>distance</th>\n",
       "      <th>predicted</th>\n",
       "    </tr>\n",
       "  </thead>\n",
       "  <tbody>\n",
       "    <tr>\n",
       "      <th>0</th>\n",
       "      <td>Q5SYE7</td>\n",
       "      <td>O41932</td>\n",
       "      <td>1.0</td>\n",
       "      <td>2.486899</td>\n",
       "      <td>0.0</td>\n",
       "    </tr>\n",
       "    <tr>\n",
       "      <th>1</th>\n",
       "      <td>P53667</td>\n",
       "      <td>Q02297</td>\n",
       "      <td>1.0</td>\n",
       "      <td>0.007250</td>\n",
       "      <td>1.0</td>\n",
       "    </tr>\n",
       "    <tr>\n",
       "      <th>2</th>\n",
       "      <td>Q9NPI5</td>\n",
       "      <td>Q9Y561</td>\n",
       "      <td>1.0</td>\n",
       "      <td>0.000115</td>\n",
       "      <td>1.0</td>\n",
       "    </tr>\n",
       "    <tr>\n",
       "      <th>3</th>\n",
       "      <td>Q9GZU2</td>\n",
       "      <td>P88997</td>\n",
       "      <td>1.0</td>\n",
       "      <td>0.341108</td>\n",
       "      <td>1.0</td>\n",
       "    </tr>\n",
       "    <tr>\n",
       "      <th>4</th>\n",
       "      <td>Q9Y678</td>\n",
       "      <td>Q9P299</td>\n",
       "      <td>1.0</td>\n",
       "      <td>0.051283</td>\n",
       "      <td>1.0</td>\n",
       "    </tr>\n",
       "    <tr>\n",
       "      <th>...</th>\n",
       "      <td>...</td>\n",
       "      <td>...</td>\n",
       "      <td>...</td>\n",
       "      <td>...</td>\n",
       "      <td>...</td>\n",
       "    </tr>\n",
       "    <tr>\n",
       "      <th>1206</th>\n",
       "      <td>P35247</td>\n",
       "      <td>Q8IZH2</td>\n",
       "      <td>0.0</td>\n",
       "      <td>0.629653</td>\n",
       "      <td>1.0</td>\n",
       "    </tr>\n",
       "    <tr>\n",
       "      <th>1207</th>\n",
       "      <td>P07196</td>\n",
       "      <td>Q9NWR8</td>\n",
       "      <td>0.0</td>\n",
       "      <td>0.093671</td>\n",
       "      <td>1.0</td>\n",
       "    </tr>\n",
       "    <tr>\n",
       "      <th>1208</th>\n",
       "      <td>P43026</td>\n",
       "      <td>O14513</td>\n",
       "      <td>0.0</td>\n",
       "      <td>0.402870</td>\n",
       "      <td>1.0</td>\n",
       "    </tr>\n",
       "    <tr>\n",
       "      <th>1209</th>\n",
       "      <td>Q96HD9</td>\n",
       "      <td>Q9Y5L0</td>\n",
       "      <td>0.0</td>\n",
       "      <td>0.222489</td>\n",
       "      <td>1.0</td>\n",
       "    </tr>\n",
       "    <tr>\n",
       "      <th>1210</th>\n",
       "      <td>Q8TAQ2</td>\n",
       "      <td>Q92624</td>\n",
       "      <td>0.0</td>\n",
       "      <td>0.137435</td>\n",
       "      <td>1.0</td>\n",
       "    </tr>\n",
       "  </tbody>\n",
       "</table>\n",
       "<p>1211 rows × 5 columns</p>\n",
       "</div>"
      ],
      "text/plain": [
       "       int_A   int_B  target  distance  predicted\n",
       "0     Q5SYE7  O41932     1.0  2.486899        0.0\n",
       "1     P53667  Q02297     1.0  0.007250        1.0\n",
       "2     Q9NPI5  Q9Y561     1.0  0.000115        1.0\n",
       "3     Q9GZU2  P88997     1.0  0.341108        1.0\n",
       "4     Q9Y678  Q9P299     1.0  0.051283        1.0\n",
       "...      ...     ...     ...       ...        ...\n",
       "1206  P35247  Q8IZH2     0.0  0.629653        1.0\n",
       "1207  P07196  Q9NWR8     0.0  0.093671        1.0\n",
       "1208  P43026  O14513     0.0  0.402870        1.0\n",
       "1209  Q96HD9  Q9Y5L0     0.0  0.222489        1.0\n",
       "1210  Q8TAQ2  Q92624     0.0  0.137435        1.0\n",
       "\n",
       "[1211 rows x 5 columns]"
      ]
     },
     "execution_count": 34,
     "metadata": {},
     "output_type": "execute_result"
    }
   ],
   "source": [
    "df = pd.read_csv(pred_path)\n",
    "\"\"\"\n",
    "target = list(df['target'])\n",
    "pred = list(df['predicted'])\n",
    "dist = list(df['distance'])\n",
    "average_precision = average_precision_score(target, pred)\n",
    "\"\"\"\n",
    "df"
   ]
  },
  {
   "cell_type": "code",
   "execution_count": 35,
   "metadata": {},
   "outputs": [
    {
     "name": "stdout",
     "output_type": "stream",
     "text": [
      "       int_A   int_B  target  distance  predicted\n",
      "420   Q96PM5  Q53HI1     0.0  0.000001        1.0\n",
      "746   P40692  Q9Y678     0.0  0.000002        1.0\n",
      "140   P43026  Q9H8L6     0.0  0.000004        1.0\n",
      "568   Q12805  Q5NH75     0.0  0.000010        1.0\n",
      "1000  Q8D0R5  P0CK53     0.0  0.000024        1.0\n",
      "...      ...     ...     ...       ...        ...\n",
      "651   Q6UY14  P11717     0.0  5.081157        0.0\n",
      "1139  P48740  Q8TF72     0.0  5.394176        0.0\n",
      "920   Q15427  Q9YP87     0.0  5.908432        0.0\n",
      "463   Q6ZQS4  O75144     0.0  5.974430        0.0\n",
      "359   Q15427  Q8D0Z3     0.0  6.090828        0.0\n",
      "\n",
      "[1211 rows x 5 columns]\n",
      "[0.         0.         0.         ... 0.09181141 0.09173554 0.09165979]\n",
      "[0. 0. 0. ... 1. 1. 1.]\n"
     ]
    }
   ],
   "source": [
    "sortdf = df.sort_values(by=['distance'])\n",
    "print(sortdf)\n",
    "target = list(sortdf['target'])\n",
    "pred = list(sortdf['predicted'])\n",
    "dist = list(sortdf['distance'])\n",
    "cumsum = np.cumsum(target)\n",
    "rank = np.arange(len(cumsum)) + 1\n",
    "Num = cumsum[-1]\n",
    "prec = cumsum / rank\n",
    "rec = cumsum / Num\n",
    "print(prec)\n",
    "print(rec)"
   ]
  },
  {
   "cell_type": "code",
   "execution_count": 36,
   "metadata": {},
   "outputs": [
    {
     "name": "stdout",
     "output_type": "stream",
     "text": [
      "[0.         0.         0.         ... 0.09181141 0.09173554 0.09165979]\n"
     ]
    }
   ],
   "source": [
    "mrec = np.concatenate(([0.], rec, [1.]))\n",
    "mpre = np.concatenate(([0.], prec, [0.]))\n",
    "print(prec)"
   ]
  },
  {
   "cell_type": "code",
   "execution_count": 39,
   "metadata": {},
   "outputs": [
    {
     "data": {
      "image/png": "[encoded data removed]",
      "text/plain": [
       "<Figure size 432x288 with 1 Axes>"
      ]
     },
     "metadata": {
      "needs_background": "light"
     },
     "output_type": "display_data"
    }
   ],
   "source": [
    "p_rec = [i * 100 for i in rec]\n",
    "p_prec = [i * 100 for i in prec]\n",
    "plt.plot(p_rec, p_prec)\n",
    "plt.xlabel('Recall (%)')\n",
    "plt.ylabel('Precision (%)')\n",
    "plt.title('Performance on C2 (train: balanced neg. set), margin = 0.8')\n",
    "sav_img = pathlib.Path.joinpath(graph_file, pred_file + '.jpg')\n",
    "plt.savefig(sav_img)\n",
    "plt.show()"
   ]
  },
  {
   "cell_type": "code",
   "execution_count": 38,
   "metadata": {},
   "outputs": [
    {
     "name": "stdout",
     "output_type": "stream",
     "text": [
      "0.0916597853014038\n"
     ]
    }
   ],
   "source": [
    "y_score = []\n",
    "for i in range(len(target)):\n",
    "    y_score.append(1)\n",
    "y_test = target    \n",
    "average_precision = average_precision_score(y_test, y_score)\n",
    "print(average_precision)"
   ]
  },
  {
   "cell_type": "code",
   "execution_count": 7,
   "metadata": {},
   "outputs": [
    {
     "name": "stdout",
     "output_type": "stream",
     "text": [
      "[[499 601]\n",
      " [ 44  67]]\n"
     ]
    },
    {
     "data": {
      "image/png": "[encoded data removed]",
      "text/plain": [
       "<Figure size 792x648 with 2 Axes>"
      ]
     },
     "metadata": {
      "needs_background": "light"
     },
     "output_type": "display_data"
    }
   ],
   "source": [
    "from sklearn.metrics import confusion_matrix\n",
    "import seaborn as sb\n",
    "cf_matrix = confusion_matrix(target, pred)\n",
    "print(cf_matrix)\n",
    "fig, ax = plt.subplots(figsize=(11, 9))\n",
    "sb.heatmap(cf_matrix/np.sum(cf_matrix), annot=True, \n",
    "            fmt='.2%', cmap='Blues')\n",
    "plt.show()"
   ]
  },
  {
   "cell_type": "code",
   "execution_count": 6,
   "metadata": {},
   "outputs": [
    {
     "data": {
      "text/html": [
       "<div>\n",
       "<style scoped>\n",
       "    .dataframe tbody tr th:only-of-type {\n",
       "        vertical-align: middle;\n",
       "    }\n",
       "\n",
       "    .dataframe tbody tr th {\n",
       "        vertical-align: top;\n",
       "    }\n",
       "\n",
       "    .dataframe thead th {\n",
       "        text-align: right;\n",
       "    }\n",
       "</style>\n",
       "<table border=\"1\" class=\"dataframe\">\n",
       "  <thead>\n",
       "    <tr style=\"text-align: right;\">\n",
       "      <th></th>\n",
       "      <th>int_A</th>\n",
       "      <th>int_B</th>\n",
       "      <th>target</th>\n",
       "      <th>distance</th>\n",
       "      <th>predicted</th>\n",
       "    </tr>\n",
       "  </thead>\n",
       "  <tbody>\n",
       "    <tr>\n",
       "      <th>109</th>\n",
       "      <td>Q13685</td>\n",
       "      <td>Q8D016</td>\n",
       "      <td>1.0</td>\n",
       "      <td>0.000150</td>\n",
       "      <td>1.0</td>\n",
       "    </tr>\n",
       "    <tr>\n",
       "      <th>73</th>\n",
       "      <td>Q86YF9</td>\n",
       "      <td>Q9NQZ3</td>\n",
       "      <td>1.0</td>\n",
       "      <td>0.000216</td>\n",
       "      <td>1.0</td>\n",
       "    </tr>\n",
       "    <tr>\n",
       "      <th>56</th>\n",
       "      <td>O14733</td>\n",
       "      <td>O43318</td>\n",
       "      <td>1.0</td>\n",
       "      <td>0.000350</td>\n",
       "      <td>1.0</td>\n",
       "    </tr>\n",
       "    <tr>\n",
       "      <th>9</th>\n",
       "      <td>Q9H944</td>\n",
       "      <td>Q9BUE0</td>\n",
       "      <td>1.0</td>\n",
       "      <td>0.000703</td>\n",
       "      <td>1.0</td>\n",
       "    </tr>\n",
       "    <tr>\n",
       "      <th>90</th>\n",
       "      <td>Q00653</td>\n",
       "      <td>O00221</td>\n",
       "      <td>1.0</td>\n",
       "      <td>0.001413</td>\n",
       "      <td>1.0</td>\n",
       "    </tr>\n",
       "    <tr>\n",
       "      <th>104</th>\n",
       "      <td>Q81UZ6</td>\n",
       "      <td>P63241</td>\n",
       "      <td>1.0</td>\n",
       "      <td>0.003748</td>\n",
       "      <td>1.0</td>\n",
       "    </tr>\n",
       "    <tr>\n",
       "      <th>95</th>\n",
       "      <td>Q9NY74</td>\n",
       "      <td>O41931</td>\n",
       "      <td>1.0</td>\n",
       "      <td>0.004121</td>\n",
       "      <td>1.0</td>\n",
       "    </tr>\n",
       "    <tr>\n",
       "      <th>2</th>\n",
       "      <td>O60763</td>\n",
       "      <td>Q8ZIX0</td>\n",
       "      <td>1.0</td>\n",
       "      <td>0.007552</td>\n",
       "      <td>1.0</td>\n",
       "    </tr>\n",
       "    <tr>\n",
       "      <th>34</th>\n",
       "      <td>P54257</td>\n",
       "      <td>Q8N157</td>\n",
       "      <td>1.0</td>\n",
       "      <td>0.008763</td>\n",
       "      <td>1.0</td>\n",
       "    </tr>\n",
       "    <tr>\n",
       "      <th>39</th>\n",
       "      <td>Q81WT3</td>\n",
       "      <td>Q99542</td>\n",
       "      <td>1.0</td>\n",
       "      <td>0.011340</td>\n",
       "      <td>1.0</td>\n",
       "    </tr>\n",
       "    <tr>\n",
       "      <th>61</th>\n",
       "      <td>Q8TD31</td>\n",
       "      <td>Q3KSU8</td>\n",
       "      <td>1.0</td>\n",
       "      <td>0.011381</td>\n",
       "      <td>1.0</td>\n",
       "    </tr>\n",
       "    <tr>\n",
       "      <th>80</th>\n",
       "      <td>O00231</td>\n",
       "      <td>Q13485</td>\n",
       "      <td>1.0</td>\n",
       "      <td>0.012318</td>\n",
       "      <td>1.0</td>\n",
       "    </tr>\n",
       "    <tr>\n",
       "      <th>3</th>\n",
       "      <td>P23434</td>\n",
       "      <td>Q13287</td>\n",
       "      <td>1.0</td>\n",
       "      <td>0.012364</td>\n",
       "      <td>1.0</td>\n",
       "    </tr>\n",
       "    <tr>\n",
       "      <th>102</th>\n",
       "      <td>A0A2P0HHN0</td>\n",
       "      <td>Q8N392</td>\n",
       "      <td>1.0</td>\n",
       "      <td>0.017075</td>\n",
       "      <td>1.0</td>\n",
       "    </tr>\n",
       "    <tr>\n",
       "      <th>8</th>\n",
       "      <td>P51811</td>\n",
       "      <td>O14967</td>\n",
       "      <td>1.0</td>\n",
       "      <td>0.026802</td>\n",
       "      <td>1.0</td>\n",
       "    </tr>\n",
       "    <tr>\n",
       "      <th>37</th>\n",
       "      <td>Q9NYG8</td>\n",
       "      <td>Q9BTC0</td>\n",
       "      <td>1.0</td>\n",
       "      <td>0.028489</td>\n",
       "      <td>1.0</td>\n",
       "    </tr>\n",
       "    <tr>\n",
       "      <th>97</th>\n",
       "      <td>A8K5H9</td>\n",
       "      <td>Q8WV35</td>\n",
       "      <td>1.0</td>\n",
       "      <td>0.029521</td>\n",
       "      <td>1.0</td>\n",
       "    </tr>\n",
       "    <tr>\n",
       "      <th>106</th>\n",
       "      <td>O75884</td>\n",
       "      <td>Q9NYB0</td>\n",
       "      <td>1.0</td>\n",
       "      <td>0.032633</td>\n",
       "      <td>1.0</td>\n",
       "    </tr>\n",
       "    <tr>\n",
       "      <th>103</th>\n",
       "      <td>Q16763</td>\n",
       "      <td>O76095</td>\n",
       "      <td>1.0</td>\n",
       "      <td>0.043388</td>\n",
       "      <td>1.0</td>\n",
       "    </tr>\n",
       "    <tr>\n",
       "      <th>42</th>\n",
       "      <td>Q9UHA3</td>\n",
       "      <td>Q9UJX2</td>\n",
       "      <td>1.0</td>\n",
       "      <td>0.049987</td>\n",
       "      <td>1.0</td>\n",
       "    </tr>\n",
       "    <tr>\n",
       "      <th>38</th>\n",
       "      <td>Q14088</td>\n",
       "      <td>Q96JN2</td>\n",
       "      <td>1.0</td>\n",
       "      <td>0.054591</td>\n",
       "      <td>1.0</td>\n",
       "    </tr>\n",
       "    <tr>\n",
       "      <th>66</th>\n",
       "      <td>P56597</td>\n",
       "      <td>Q96IM9</td>\n",
       "      <td>1.0</td>\n",
       "      <td>0.056383</td>\n",
       "      <td>1.0</td>\n",
       "    </tr>\n",
       "    <tr>\n",
       "      <th>89</th>\n",
       "      <td>A4UGR9</td>\n",
       "      <td>P20929</td>\n",
       "      <td>1.0</td>\n",
       "      <td>0.056425</td>\n",
       "      <td>1.0</td>\n",
       "    </tr>\n",
       "    <tr>\n",
       "      <th>36</th>\n",
       "      <td>O15273</td>\n",
       "      <td>P50461</td>\n",
       "      <td>1.0</td>\n",
       "      <td>0.057717</td>\n",
       "      <td>1.0</td>\n",
       "    </tr>\n",
       "    <tr>\n",
       "      <th>63</th>\n",
       "      <td>P04075</td>\n",
       "      <td>Q5NFY6</td>\n",
       "      <td>1.0</td>\n",
       "      <td>0.060872</td>\n",
       "      <td>1.0</td>\n",
       "    </tr>\n",
       "    <tr>\n",
       "      <th>81</th>\n",
       "      <td>P30041</td>\n",
       "      <td>Q8D1C8</td>\n",
       "      <td>1.0</td>\n",
       "      <td>0.061746</td>\n",
       "      <td>1.0</td>\n",
       "    </tr>\n",
       "    <tr>\n",
       "      <th>64</th>\n",
       "      <td>Q96NW7</td>\n",
       "      <td>Q8WXI2</td>\n",
       "      <td>1.0</td>\n",
       "      <td>0.062433</td>\n",
       "      <td>1.0</td>\n",
       "    </tr>\n",
       "    <tr>\n",
       "      <th>43</th>\n",
       "      <td>P23467</td>\n",
       "      <td>P10912</td>\n",
       "      <td>1.0</td>\n",
       "      <td>0.065068</td>\n",
       "      <td>1.0</td>\n",
       "    </tr>\n",
       "    <tr>\n",
       "      <th>4</th>\n",
       "      <td>Q14978</td>\n",
       "      <td>P38432</td>\n",
       "      <td>1.0</td>\n",
       "      <td>0.075690</td>\n",
       "      <td>1.0</td>\n",
       "    </tr>\n",
       "    <tr>\n",
       "      <th>86</th>\n",
       "      <td>Q92673</td>\n",
       "      <td>Q6Q788</td>\n",
       "      <td>1.0</td>\n",
       "      <td>0.075963</td>\n",
       "      <td>1.0</td>\n",
       "    </tr>\n",
       "  </tbody>\n",
       "</table>\n",
       "</div>"
      ],
      "text/plain": [
       "          int_A   int_B  target  distance  predicted\n",
       "109      Q13685  Q8D016     1.0  0.000150        1.0\n",
       "73       Q86YF9  Q9NQZ3     1.0  0.000216        1.0\n",
       "56       O14733  O43318     1.0  0.000350        1.0\n",
       "9        Q9H944  Q9BUE0     1.0  0.000703        1.0\n",
       "90       Q00653  O00221     1.0  0.001413        1.0\n",
       "104      Q81UZ6  P63241     1.0  0.003748        1.0\n",
       "95       Q9NY74  O41931     1.0  0.004121        1.0\n",
       "2        O60763  Q8ZIX0     1.0  0.007552        1.0\n",
       "34       P54257  Q8N157     1.0  0.008763        1.0\n",
       "39       Q81WT3  Q99542     1.0  0.011340        1.0\n",
       "61       Q8TD31  Q3KSU8     1.0  0.011381        1.0\n",
       "80       O00231  Q13485     1.0  0.012318        1.0\n",
       "3        P23434  Q13287     1.0  0.012364        1.0\n",
       "102  A0A2P0HHN0  Q8N392     1.0  0.017075        1.0\n",
       "8        P51811  O14967     1.0  0.026802        1.0\n",
       "37       Q9NYG8  Q9BTC0     1.0  0.028489        1.0\n",
       "97       A8K5H9  Q8WV35     1.0  0.029521        1.0\n",
       "106      O75884  Q9NYB0     1.0  0.032633        1.0\n",
       "103      Q16763  O76095     1.0  0.043388        1.0\n",
       "42       Q9UHA3  Q9UJX2     1.0  0.049987        1.0\n",
       "38       Q14088  Q96JN2     1.0  0.054591        1.0\n",
       "66       P56597  Q96IM9     1.0  0.056383        1.0\n",
       "89       A4UGR9  P20929     1.0  0.056425        1.0\n",
       "36       O15273  P50461     1.0  0.057717        1.0\n",
       "63       P04075  Q5NFY6     1.0  0.060872        1.0\n",
       "81       P30041  Q8D1C8     1.0  0.061746        1.0\n",
       "64       Q96NW7  Q8WXI2     1.0  0.062433        1.0\n",
       "43       P23467  P10912     1.0  0.065068        1.0\n",
       "4        Q14978  P38432     1.0  0.075690        1.0\n",
       "86       Q92673  Q6Q788     1.0  0.075963        1.0"
      ]
     },
     "execution_count": 6,
     "metadata": {},
     "output_type": "execute_result"
    }
   ],
   "source": [
    "# create top 10 hit \n",
    "all_pos = df['target'] == 1\n",
    "top_10 = df[all_pos].sort_values(by=['distance'], ascending=True).head(30)\n",
    "top_10"
   ]
  },
  {
   "cell_type": "code",
   "execution_count": 20,
   "metadata": {},
   "outputs": [
    {
     "name": "stdout",
     "output_type": "stream",
     "text": [
      "       int_A   int_B  target   distance  predicted\n",
      "0     Q9BQ52  O95182     1.0   0.965417        0.0\n",
      "1     P22307  P69976     1.0   0.111261        1.0\n",
      "2     O60763  Q8ZIX0     1.0   0.007552        1.0\n",
      "3     P23434  Q13287     1.0   0.012364        1.0\n",
      "4     Q14978  P38432     1.0   0.075690        1.0\n",
      "...      ...     ...     ...        ...        ...\n",
      "1206  Q99689  Q8WVB3     0.0   8.642038        0.0\n",
      "1207  Q8NG31  Q99933     0.0   0.847406        0.0\n",
      "1208  Q16394  P16219     0.0   0.031986        1.0\n",
      "1209  Q9BUZ4  Q969Y2     0.0  11.056144        0.0\n",
      "1210  A5PLN9  O41957     0.0   7.033360        0.0\n",
      "\n",
      "[1211 rows x 5 columns]\n",
      "[   1    2    3 ... 1209 1210 1211]\n"
     ]
    },
    {
     "data": {
      "image/png": "[encoded data removed]",
      "text/plain": [
       "<Figure size 432x288 with 1 Axes>"
      ]
     },
     "metadata": {
      "needs_background": "light"
     },
     "output_type": "display_data"
    }
   ],
   "source": [
    "pos_pred = df\n",
    "#pos_only = df[pos_pred].head(100)\n",
    "\n",
    "sortdf_p = pos_pred\n",
    "print(sortdf_p)\n",
    "#pos_only.drop(pos_only.index[20:30])\n",
    "#sortdf_p = pos_only.sort_values(by=['distance'])\n",
    "target_p = list(sortdf_p['target'])\n",
    "pred_p = list(sortdf_p['predicted'])\n",
    "dist_p = list(sortdf_p['distance'])\n",
    "cumsum_p = np.cumsum(target_p)\n",
    "rank_p = np.arange(len(cumsum_p)) + 1\n",
    "print(rank_p)\n",
    "Num_p = cumsum_p[-1]\n",
    "prec_p = cumsum_p / rank_p\n",
    "rec_p = cumsum_p / Num_p\n",
    "\n",
    "#print(prec_p)\n",
    "#print(rec_p)\n",
    "#p_rec_p = [i * 100 for i in rec_p]\n",
    "#p_prec_p = [i * 100 for i in prec_p]\n",
    "plt.plot(rec_p, prec_p)\n",
    "plt.xlabel('Recall (%)')\n",
    "plt.ylabel('Precision (%)')\n",
    "plt.title('Performance on C1 (train: balanced neg. set), margin = 0.8')\n",
    "sav_img = pathlib.Path.joinpath(graph_file, pred_file + '.jpg')\n",
    "plt.savefig(sav_img)\n",
    "plt.show()"
   ]
  },
  {
   "cell_type": "code",
   "execution_count": 29,
   "metadata": {},
   "outputs": [
    {
     "name": "stdout",
     "output_type": "stream",
     "text": [
      "840\n"
     ]
    },
    {
     "ename": "ValueError",
     "evalue": "Found input variables with inconsistent numbers of samples: [1211, 121100]",
     "output_type": "error",
     "traceback": [
      "\u001b[1;31m---------------------------------------------------------------------------\u001b[0m",
      "\u001b[1;31mValueError\u001b[0m                                Traceback (most recent call last)",
      "\u001b[1;32m<ipython-input-29-b3fc7a9996de>\u001b[0m in \u001b[0;36m<module>\u001b[1;34m\u001b[0m\n\u001b[0;32m      6\u001b[0m \u001b[0mprint\u001b[0m\u001b[1;33m(\u001b[0m\u001b[0mlen\u001b[0m\u001b[1;33m(\u001b[0m\u001b[0mpos_dist\u001b[0m\u001b[1;33m)\u001b[0m\u001b[1;33m)\u001b[0m\u001b[1;33m\u001b[0m\u001b[1;33m\u001b[0m\u001b[0m\n\u001b[0;32m      7\u001b[0m \u001b[0mno_skill\u001b[0m \u001b[1;33m=\u001b[0m \u001b[0mlen\u001b[0m\u001b[1;33m(\u001b[0m\u001b[0mpos_dist\u001b[0m\u001b[1;33m)\u001b[0m \u001b[1;33m/\u001b[0m \u001b[0mlen\u001b[0m\u001b[1;33m(\u001b[0m\u001b[0mdist\u001b[0m\u001b[1;33m)\u001b[0m\u001b[1;33m\u001b[0m\u001b[1;33m\u001b[0m\u001b[0m\n\u001b[1;32m----> 8\u001b[1;33m \u001b[0mprecision\u001b[0m\u001b[1;33m,\u001b[0m \u001b[0mrecall\u001b[0m\u001b[1;33m,\u001b[0m \u001b[0mthreshold\u001b[0m \u001b[1;33m=\u001b[0m \u001b[0mprecision_recall_curve\u001b[0m\u001b[1;33m(\u001b[0m\u001b[0mtarget\u001b[0m\u001b[1;33m,\u001b[0m \u001b[0mpred\u001b[0m\u001b[1;33m*\u001b[0m\u001b[1;36m100\u001b[0m\u001b[1;33m)\u001b[0m\u001b[1;33m\u001b[0m\u001b[1;33m\u001b[0m\u001b[0m\n\u001b[0m\u001b[0;32m      9\u001b[0m \u001b[1;31m#lr_auc = f1_score(target, pred), auc(lr_recall, lr_precision)\u001b[0m\u001b[1;33m\u001b[0m\u001b[1;33m\u001b[0m\u001b[1;33m\u001b[0m\u001b[0m\n\u001b[0;32m     10\u001b[0m \u001b[1;31m# calculate the no skill line as the proportion of the positive class\u001b[0m\u001b[1;33m\u001b[0m\u001b[1;33m\u001b[0m\u001b[1;33m\u001b[0m\u001b[0m\n",
      "\u001b[1;32m~\\anaconda3\\envs\\pytorch\\lib\\site-packages\\sklearn\\utils\\validation.py\u001b[0m in \u001b[0;36minner_f\u001b[1;34m(*args, **kwargs)\u001b[0m\n\u001b[0;32m     71\u001b[0m                           FutureWarning)\n\u001b[0;32m     72\u001b[0m         \u001b[0mkwargs\u001b[0m\u001b[1;33m.\u001b[0m\u001b[0mupdate\u001b[0m\u001b[1;33m(\u001b[0m\u001b[1;33m{\u001b[0m\u001b[0mk\u001b[0m\u001b[1;33m:\u001b[0m \u001b[0marg\u001b[0m \u001b[1;32mfor\u001b[0m \u001b[0mk\u001b[0m\u001b[1;33m,\u001b[0m \u001b[0marg\u001b[0m \u001b[1;32min\u001b[0m \u001b[0mzip\u001b[0m\u001b[1;33m(\u001b[0m\u001b[0msig\u001b[0m\u001b[1;33m.\u001b[0m\u001b[0mparameters\u001b[0m\u001b[1;33m,\u001b[0m \u001b[0margs\u001b[0m\u001b[1;33m)\u001b[0m\u001b[1;33m}\u001b[0m\u001b[1;33m)\u001b[0m\u001b[1;33m\u001b[0m\u001b[1;33m\u001b[0m\u001b[0m\n\u001b[1;32m---> 73\u001b[1;33m         \u001b[1;32mreturn\u001b[0m \u001b[0mf\u001b[0m\u001b[1;33m(\u001b[0m\u001b[1;33m**\u001b[0m\u001b[0mkwargs\u001b[0m\u001b[1;33m)\u001b[0m\u001b[1;33m\u001b[0m\u001b[1;33m\u001b[0m\u001b[0m\n\u001b[0m\u001b[0;32m     74\u001b[0m     \u001b[1;32mreturn\u001b[0m \u001b[0minner_f\u001b[0m\u001b[1;33m\u001b[0m\u001b[1;33m\u001b[0m\u001b[0m\n\u001b[0;32m     75\u001b[0m \u001b[1;33m\u001b[0m\u001b[0m\n",
      "\u001b[1;32m~\\anaconda3\\envs\\pytorch\\lib\\site-packages\\sklearn\\metrics\\_ranking.py\u001b[0m in \u001b[0;36mprecision_recall_curve\u001b[1;34m(y_true, probas_pred, pos_label, sample_weight)\u001b[0m\n\u001b[0;32m    675\u001b[0m     fps, tps, thresholds = _binary_clf_curve(y_true, probas_pred,\n\u001b[0;32m    676\u001b[0m                                              \u001b[0mpos_label\u001b[0m\u001b[1;33m=\u001b[0m\u001b[0mpos_label\u001b[0m\u001b[1;33m,\u001b[0m\u001b[1;33m\u001b[0m\u001b[1;33m\u001b[0m\u001b[0m\n\u001b[1;32m--> 677\u001b[1;33m                                              sample_weight=sample_weight)\n\u001b[0m\u001b[0;32m    678\u001b[0m \u001b[1;33m\u001b[0m\u001b[0m\n\u001b[0;32m    679\u001b[0m     \u001b[0mprecision\u001b[0m \u001b[1;33m=\u001b[0m \u001b[0mtps\u001b[0m \u001b[1;33m/\u001b[0m \u001b[1;33m(\u001b[0m\u001b[0mtps\u001b[0m \u001b[1;33m+\u001b[0m \u001b[0mfps\u001b[0m\u001b[1;33m)\u001b[0m\u001b[1;33m\u001b[0m\u001b[1;33m\u001b[0m\u001b[0m\n",
      "\u001b[1;32m~\\anaconda3\\envs\\pytorch\\lib\\site-packages\\sklearn\\metrics\\_ranking.py\u001b[0m in \u001b[0;36m_binary_clf_curve\u001b[1;34m(y_true, y_score, pos_label, sample_weight)\u001b[0m\n\u001b[0;32m    539\u001b[0m         \u001b[1;32mraise\u001b[0m \u001b[0mValueError\u001b[0m\u001b[1;33m(\u001b[0m\u001b[1;34m\"{0} format is not supported\"\u001b[0m\u001b[1;33m.\u001b[0m\u001b[0mformat\u001b[0m\u001b[1;33m(\u001b[0m\u001b[0my_type\u001b[0m\u001b[1;33m)\u001b[0m\u001b[1;33m)\u001b[0m\u001b[1;33m\u001b[0m\u001b[1;33m\u001b[0m\u001b[0m\n\u001b[0;32m    540\u001b[0m \u001b[1;33m\u001b[0m\u001b[0m\n\u001b[1;32m--> 541\u001b[1;33m     \u001b[0mcheck_consistent_length\u001b[0m\u001b[1;33m(\u001b[0m\u001b[0my_true\u001b[0m\u001b[1;33m,\u001b[0m \u001b[0my_score\u001b[0m\u001b[1;33m,\u001b[0m \u001b[0msample_weight\u001b[0m\u001b[1;33m)\u001b[0m\u001b[1;33m\u001b[0m\u001b[1;33m\u001b[0m\u001b[0m\n\u001b[0m\u001b[0;32m    542\u001b[0m     \u001b[0my_true\u001b[0m \u001b[1;33m=\u001b[0m \u001b[0mcolumn_or_1d\u001b[0m\u001b[1;33m(\u001b[0m\u001b[0my_true\u001b[0m\u001b[1;33m)\u001b[0m\u001b[1;33m\u001b[0m\u001b[1;33m\u001b[0m\u001b[0m\n\u001b[0;32m    543\u001b[0m     \u001b[0my_score\u001b[0m \u001b[1;33m=\u001b[0m \u001b[0mcolumn_or_1d\u001b[0m\u001b[1;33m(\u001b[0m\u001b[0my_score\u001b[0m\u001b[1;33m)\u001b[0m\u001b[1;33m\u001b[0m\u001b[1;33m\u001b[0m\u001b[0m\n",
      "\u001b[1;32m~\\anaconda3\\envs\\pytorch\\lib\\site-packages\\sklearn\\utils\\validation.py\u001b[0m in \u001b[0;36mcheck_consistent_length\u001b[1;34m(*arrays)\u001b[0m\n\u001b[0;32m    255\u001b[0m     \u001b[1;32mif\u001b[0m \u001b[0mlen\u001b[0m\u001b[1;33m(\u001b[0m\u001b[0muniques\u001b[0m\u001b[1;33m)\u001b[0m \u001b[1;33m>\u001b[0m \u001b[1;36m1\u001b[0m\u001b[1;33m:\u001b[0m\u001b[1;33m\u001b[0m\u001b[1;33m\u001b[0m\u001b[0m\n\u001b[0;32m    256\u001b[0m         raise ValueError(\"Found input variables with inconsistent numbers of\"\n\u001b[1;32m--> 257\u001b[1;33m                          \" samples: %r\" % [int(l) for l in lengths])\n\u001b[0m\u001b[0;32m    258\u001b[0m \u001b[1;33m\u001b[0m\u001b[0m\n\u001b[0;32m    259\u001b[0m \u001b[1;33m\u001b[0m\u001b[0m\n",
      "\u001b[1;31mValueError\u001b[0m: Found input variables with inconsistent numbers of samples: [1211, 121100]"
     ]
    }
   ],
   "source": [
    "pos_dist = []\n",
    "pre\n",
    "for i in range(len(pred)):\n",
    "    if pred[i] == 1:\n",
    "        pos_dist.append(dist[i])\n",
    "print(len(pos_dist))\n",
    "no_skill = len(pos_dist) / len(dist)\n",
    "precision, recall, threshold = precision_recall_curve(target, pred)\n",
    "#lr_auc = f1_score(target, pred), auc(lr_recall, lr_precision)\n",
    "# calculate the no skill line as the proportion of the positive class\n",
    "# plot the no skill precision-recall curve\n",
    "plt.plot([0, 1], [no_skill, no_skill], linestyle='--', label='No Skill')\n",
    "# plot the model precision-recall curve\n",
    "plt.plot(recall, precision, marker='.', label='m=0.8')\n",
    "# axis labels\n",
    "plt.xlabel('Recall')\n",
    "plt.ylabel('Precision')\n",
    "# show the legend\n",
    "plt.legend()\n",
    "# show the plot\n",
    "plt.show()"
   ]
  },
  {
   "cell_type": "code",
   "execution_count": 28,
   "metadata": {},
   "outputs": [
    {
     "name": "stdout",
     "output_type": "stream",
     "text": [
      "1211\n"
     ]
    }
   ],
   "source": [
    "print(len(pred))"
   ]
  },
  {
   "cell_type": "code",
   "execution_count": 2,
   "metadata": {},
   "outputs": [],
   "source": [
    "iris = datasets.load_iris()\n",
    "X = iris.data\n",
    "y = iris.target\n",
    "\n",
    "# Add noisy features\n",
    "random_state = np.random.RandomState(0)\n",
    "n_samples, n_features = X.shape\n",
    "X = np.c_[X, random_state.randn(n_samples, 200 * n_features)]\n",
    "\n",
    "# Limit to the two first classes, and split into training and test\n",
    "X_train, X_test, y_train, y_test = train_test_split(X[y < 2], y[y < 2],\n",
    "                                                    test_size=.5,\n",
    "                                                    random_state=random_state)\n",
    "\n",
    "# Create a simple classifier\n",
    "classifier = svm.LinearSVC(random_state=random_state)\n",
    "classifier.fit(X_train, y_train)\n",
    "y_score = classifier.decision_function(X_test)"
   ]
  },
  {
   "cell_type": "code",
   "execution_count": 3,
   "metadata": {},
   "outputs": [
    {
     "name": "stdout",
     "output_type": "stream",
     "text": [
      "Average precision-recall score: 0.88\n"
     ]
    }
   ],
   "source": [
    "average_precision = average_precision_score(y_test, y_score)\n",
    "\n",
    "print('Average precision-recall score: {0:0.2f}'.format(\n",
    "      average_precision))"
   ]
  },
  {
   "cell_type": "code",
   "execution_count": 4,
   "metadata": {},
   "outputs": [
    {
     "data": {
      "text/plain": [
       "Text(0.5, 1.0, '2-class Precision-Recall curve: AP=0.88')"
      ]
     },
     "execution_count": 4,
     "metadata": {},
     "output_type": "execute_result"
    },
    {
     "data": {
      "image/png": "[encoded data removed]",
      "text/plain": [
       "<Figure size 432x288 with 1 Axes>"
      ]
     },
     "metadata": {
      "needs_background": "light"
     },
     "output_type": "display_data"
    }
   ],
   "source": [
    "disp = plot_precision_recall_curve(classifier, X_test, y_test)\n",
    "disp.ax_.set_title('2-class Precision-Recall curve: '\n",
    "                   'AP={0:0.2f}'.format(average_precision))"
   ]
  },
  {
   "cell_type": "code",
   "execution_count": 11,
   "metadata": {},
   "outputs": [
    {
     "name": "stdout",
     "output_type": "stream",
     "text": [
      "[2.28765854 2.75165028 2.75165028 2.75165028 0.         2.75165028\n",
      " 2.75165028 2.75165028 2.75165028 0.         0.         0.\n",
      " 0.         0.         0.        ]\n"
     ]
    }
   ],
   "source": [
    "import numpy as np\n",
    "x = np.array([[[1,2,3,4,5],\n",
    "               [5,6,7,8,5],\n",
    "               [5,6,7,8,5]],\n",
    "              [[11,22,23,24,5],\n",
    "               [25,26,27,28,5],\n",
    "               [5,6,7,8,5]]])\n",
    "i,j,k = x.shape\n",
    "y = np.array([[[31,32,33,34,5],\n",
    "               [35,36,37,38,5],\n",
    "               [5,6,7,8,5]],\n",
    "              [[41,42,43,44,5],\n",
    "               [45,46,47,48,5],\n",
    "               [5,6,7,8,5]]])\n",
    "\n",
    "\n",
    "yy = y.reshape(i,j*k).T\n",
    "\n",
    "xx = x.reshape(i,j*k).T\n",
    "e = xx-yy\n",
    "X = np.vstack([xx,yy])\n",
    "V = np.cov(X.T) \n",
    "p = np.linalg.inv(V)\n",
    "D = np.sqrt(np.sum(np.dot(e,p) * e, axis = 1))\n",
    "print(D)"
   ]
  },
  {
   "cell_type": "code",
   "execution_count": null,
   "metadata": {},
   "outputs": [],
   "source": []
  }
 ],
 "metadata": {
  "kernelspec": {
   "display_name": "Python 3",
   "language": "python",
   "name": "python3"
  },
  "language_info": {
   "codemirror_mode": {
    "name": "ipython",
    "version": 3
   },
   "file_extension": ".py",
   "mimetype": "text/x-python",
   "name": "python",
   "nbconvert_exporter": "python",
   "pygments_lexer": "ipython3",
   "version": "3.7.7"
  }
 },
 "nbformat": 4,
 "nbformat_minor": 4
}
