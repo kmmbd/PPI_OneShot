{
 "cells": [
  {
   "cell_type": "code",
   "execution_count": 1,
   "metadata": {},
   "outputs": [],
   "source": [
    "import torch\n",
    "import pathlib\n",
    "import numpy as np\n",
    "import pandas as pd\n",
    "import torch.nn as nn\n",
    "import json\n",
    "import sys\n",
    "import pickle\n",
    "import csv\n",
    "import matplotlib.pyplot as plt\n",
    "import seaborn as sb"
   ]
  },
  {
   "cell_type": "code",
   "execution_count": 2,
   "metadata": {},
   "outputs": [],
   "source": [
    "def _pairwise_distances(embeddings, squared=False):\n",
    "    \"\"\"Compute the 2D matrix of distances between all the embeddings.\n",
    "    Args:\n",
    "        embeddings: tensor of shape (batch_size, embed_dim)\n",
    "        squared: Boolean. If true, output is the pairwise squared euclidean distance matrix.\n",
    "                 If false, output is the pairwise euclidean distance matrix.\n",
    "    Returns:\n",
    "        pairwise_distances: tensor of shape (batch_size, batch_size)\n",
    "    \"\"\"\n",
    "    dot_product = torch.matmul(embeddings, embeddings.t())\n",
    "\n",
    "    # Get squared L2 norm for each embedding. We can just take the diagonal of `dot_product`.\n",
    "    # This also provides more numerical stability (the diagonal of the result will be exactly 0).\n",
    "    # shape (batch_size,)\n",
    "    square_norm = torch.diag(dot_product)\n",
    "\n",
    "    # Compute the pairwise distance matrix as we have:\n",
    "    # ||a - b||^2 = ||a||^2  - 2 <a, b> + ||b||^2\n",
    "    # shape (batch_size, batch_size)\n",
    "    distances = square_norm.unsqueeze(0) - 2.0 * dot_product + square_norm.unsqueeze(1)\n",
    "\n",
    "    # Because of computation errors, some distances might be negative so we put everything >= 0.0\n",
    "    distances[distances < 0] = 0\n",
    "\n",
    "    if not squared:\n",
    "        # Because the gradient of sqrt is infinite when distances == 0.0 (ex: on the diagonal)\n",
    "        # we need to add a small epsilon where distances == 0.0\n",
    "        mask = distances.eq(0).float()\n",
    "        distances = distances + mask * 1e-16\n",
    "\n",
    "        distances = (1.0 -mask) * torch.sqrt(distances)\n",
    "\n",
    "    return distances"
   ]
  },
  {
   "cell_type": "code",
   "execution_count": 3,
   "metadata": {},
   "outputs": [
    {
     "name": "stdout",
     "output_type": "stream",
     "text": [
      "10440\n"
     ]
    }
   ],
   "source": [
    "with open('per_prot_emb_full.p', 'rb') as fp:\n",
    "    data = pickle.load(fp)\n",
    "print(len(data.keys()))"
   ]
  },
  {
   "cell_type": "code",
   "execution_count": 4,
   "metadata": {},
   "outputs": [
    {
     "name": "stdout",
     "output_type": "stream",
     "text": [
      "<class 'str'>\n"
     ]
    }
   ],
   "source": [
    "data_key = list(data.keys())\n",
    "print(type(data_key[1]))"
   ]
  },
  {
   "cell_type": "code",
   "execution_count": 119,
   "metadata": {},
   "outputs": [],
   "source": [
    "with open('emb_list.csv', 'w') as myfile:\n",
    "    wr = csv.writer(myfile, quoting=csv.QUOTE_ALL)\n",
    "    wr.writerow(data_key)"
   ]
  },
  {
   "cell_type": "code",
   "execution_count": 5,
   "metadata": {},
   "outputs": [
    {
     "name": "stdout",
     "output_type": "stream",
     "text": [
      "<class 'numpy.ndarray'>\n",
      "10440\n"
     ]
    }
   ],
   "source": [
    "vector_list = []\n",
    "for i in range(len(data_key)):\n",
    "    vector_list.append(data[data_key[i]])\n",
    "print(type(vector_list[1]))\n",
    "print(len(vector_list))"
   ]
  },
  {
   "cell_type": "code",
   "execution_count": 6,
   "metadata": {},
   "outputs": [],
   "source": [
    "# convert list into ndarray\n",
    "\n",
    "vector_np = np.asarray(vector_list, dtype=np.float32)"
   ]
  },
  {
   "cell_type": "code",
   "execution_count": 122,
   "metadata": {},
   "outputs": [
    {
     "name": "stdout",
     "output_type": "stream",
     "text": [
      "<class 'torch.Tensor'>\n",
      "torch.Size([10440, 1024])\n"
     ]
    }
   ],
   "source": [
    "# convert the ndarray to Torch tensor\n",
    "vector_tensor = torch.from_numpy(vector_np)\n",
    "print(type(vector_tensor))\n",
    "print(vector_tensor.size())"
   ]
  },
  {
   "cell_type": "code",
   "execution_count": 36,
   "metadata": {},
   "outputs": [
    {
     "name": "stdout",
     "output_type": "stream",
     "text": [
      "<class 'torch.Tensor'>\n",
      "torch.Size([10440, 10440])\n"
     ]
    }
   ],
   "source": [
    "pair_dist = _pairwise_distances(vector_tensor, squared=True)\n",
    "print(type(pair_dist))\n",
    "print(pair_dist.size())"
   ]
  },
  {
   "cell_type": "code",
   "execution_count": 38,
   "metadata": {},
   "outputs": [],
   "source": [
    "# store the correlation matrix to avoid repeat computation \n",
    "\n",
    "torch.save(pair_dist, 'protein_pairwise_distance.pt')"
   ]
  },
  {
   "cell_type": "code",
   "execution_count": 42,
   "metadata": {},
   "outputs": [
    {
     "data": {
      "text/plain": [
       "tensor([[ 0.0000, 15.2439, 14.8064,  ..., 37.3347, 31.9050, 14.9117],\n",
       "        [15.2439,  0.0000, 12.0236,  ..., 26.5548, 24.1060, 12.0251],\n",
       "        [14.8064, 12.0236,  0.0000,  ..., 33.0954, 30.1227, 15.4502],\n",
       "        ...,\n",
       "        [37.3347, 26.5548, 33.0954,  ...,  0.0000, 34.5437, 33.4978],\n",
       "        [31.9050, 24.1060, 30.1227,  ..., 34.5437,  0.0000, 27.5117],\n",
       "        [14.9117, 12.0251, 15.4502,  ..., 33.4978, 27.5117,  0.0000]])"
      ]
     },
     "execution_count": 42,
     "metadata": {},
     "output_type": "execute_result"
    }
   ],
   "source": [
    "pair_dist"
   ]
  },
  {
   "cell_type": "code",
   "execution_count": 56,
   "metadata": {},
   "outputs": [
    {
     "data": {
      "text/plain": [
       "array([[ 73.72389 ,  78.8778  ,  79.38347 , ..., 163.319   , 109.56392 ,\n",
       "         96.59042 ],\n",
       "       [ 64.439735,  66.068634,  66.33541 , ...,  76.14493 , 109.61124 ,\n",
       "         87.235245],\n",
       "       [ 70.100395,  71.11914 ,  73.67447 , ...,  91.74823 ,  77.117935,\n",
       "         75.582886],\n",
       "       ...,\n",
       "       [ 85.34863 ,  90.880295,  90.90056 , ..., 113.81573 , 166.28444 ,\n",
       "        110.63531 ],\n",
       "       [ 71.003174,  74.04628 ,  80.00438 , ..., 174.16066 , 118.15656 ,\n",
       "        121.462364],\n",
       "       [ 61.514168,  61.943665,  76.02295 , ...,  83.62598 ,  83.16367 ,\n",
       "         82.55963 ]], dtype=float32)"
      ]
     },
     "execution_count": 56,
     "metadata": {},
     "output_type": "execute_result"
    }
   ],
   "source": [
    "# get the 25 most distant proteins\n",
    "\n",
    "most_dist = np.partition(pair_dist, -25)\n",
    "most_dist[:,-25:]"
   ]
  },
  {
   "cell_type": "code",
   "execution_count": 58,
   "metadata": {},
   "outputs": [
    {
     "data": {
      "text/plain": [
       "tensor([[5593, 4907,  676,  ..., 5623, 5241, 5773],\n",
       "        [5593,  676,  267,  ...,  390, 6118, 5241],\n",
       "        [5373, 5593, 1333,  ..., 9399,  676, 4907],\n",
       "        ...,\n",
       "        [7267, 5670,  267,  ..., 9399, 5623, 3797],\n",
       "        [5670, 1088,  626,  ..., 5623, 7943, 6118],\n",
       "        [6810, 1333, 3797,  ..., 7943, 5670, 1088]])"
      ]
     },
     "execution_count": 58,
     "metadata": {},
     "output_type": "execute_result"
    }
   ],
   "source": [
    "# get indices of the most distant proteins\n",
    "\n",
    "most_dist_loc = np.argpartition(pair_dist, -25)\n",
    "most_dist_loc[:,-25:]"
   ]
  },
  {
   "cell_type": "code",
   "execution_count": 7,
   "metadata": {},
   "outputs": [
    {
     "name": "stdout",
     "output_type": "stream",
     "text": [
      "torch.Size([222, 1024])\n"
     ]
    }
   ],
   "source": [
    "# create distance matrix for training set positives\n",
    "\n",
    "train_path = pathlib.Path.home().joinpath('Documents\\ms_thesis_ppi\\dataset', 'test', 'test_positive.csv')\n",
    "df = pd.read_csv(train_path)\n",
    "int_A = list(df['int_A'])\n",
    "int_B = list(df['int_B'])\n",
    "all_pos = int_A + int_B\n",
    "\n",
    "train_v = []\n",
    "for i in range(len(all_pos)):\n",
    "    train_v.append(data[all_pos[i]])\n",
    "# create tensors from list\n",
    "vector_tensor = torch.from_numpy(np.asarray(train_v, dtype=np.float32))\n",
    "print(vector_tensor.size())"
   ]
  },
  {
   "cell_type": "code",
   "execution_count": 8,
   "metadata": {},
   "outputs": [
    {
     "name": "stdout",
     "output_type": "stream",
     "text": [
      "<class 'torch.Tensor'>\n",
      "torch.Size([222, 222])\n"
     ]
    }
   ],
   "source": [
    "pos_pair_dist = _pairwise_distances(vector_tensor, squared=True)\n",
    "print(type(pos_pair_dist))\n",
    "print(pos_pair_dist.size())"
   ]
  },
  {
   "cell_type": "code",
   "execution_count": 9,
   "metadata": {},
   "outputs": [
    {
     "name": "stdout",
     "output_type": "stream",
     "text": [
      "6.3740788\n",
      "39\n",
      "17.321507\n"
     ]
    }
   ],
   "source": [
    "# get 15 closest proteins\n",
    "# np.argpartition(A, k)\n",
    "close_dist = np.partition(pos_pair_dist[3], 2)[1:2]\n",
    "print(close_dist[0])\n",
    "close_prot = np.argpartition(pos_pair_dist[3], 2)[1:2]\n",
    "print(close_prot.numpy()[0])\n",
    "print(pos_pair_dist[3, 14].numpy())"
   ]
  },
  {
   "cell_type": "code",
   "execution_count": 10,
   "metadata": {},
   "outputs": [],
   "source": [
    "pos_pair_dist = np.asarray(pos_pair_dist, dtype=np.float32)\n",
    "\n",
    "# np.savetxt(\"test_pos_pair_dist.csv\", pos_pair_dist, delimiter=\",\")"
   ]
  },
  {
   "cell_type": "code",
   "execution_count": 11,
   "metadata": {
    "scrolled": false
   },
   "outputs": [],
   "source": [
    "# plot heatmap\n",
    "\n",
    "h_df = pd.read_csv(\"pos_pair_dist.csv\", header=None)\n",
    "df_r = h_df.iloc[:15, :15]"
   ]
  },
  {
   "cell_type": "code",
   "execution_count": 25,
   "metadata": {
    "scrolled": true
   },
   "outputs": [
    {
     "data": {
      "image/png": "[encoded data removed]",
      "text/plain": [
       "<Figure size 792x648 with 2 Axes>"
      ]
     },
     "metadata": {
      "needs_background": "light"
     },
     "output_type": "display_data"
    }
   ],
   "source": [
    "fig, ax = plt.subplots(figsize=(11, 9))\n",
    "sb.heatmap(df_r, xticklabels=all_pos[:15], yticklabels=all_pos[:15], cmap=\"Blues\", square=True, linewidth=0.3)\n",
    "fig.savefig(\"distance_heatmap.png\")\n",
    "plt.show()"
   ]
  },
  {
   "cell_type": "code",
   "execution_count": 12,
   "metadata": {},
   "outputs": [
    {
     "name": "stdout",
     "output_type": "stream",
     "text": [
      "3982\n"
     ]
    }
   ],
   "source": [
    "with open('pos_pair_dist.csv', newline='') as f:\n",
    "    reader = csv.reader(f)\n",
    "    pos_dist = list(reader)\n",
    "\n",
    "print(len(pos_dist))"
   ]
  },
  {
   "cell_type": "code",
   "execution_count": 13,
   "metadata": {},
   "outputs": [],
   "source": [
    "# get histogram data\n",
    "pos_pair_hist = np.histogram(pos_pair_dist, bins=25)\n",
    "#sb.histplot(data=pos_pair_hist, binwidth=3)"
   ]
  },
  {
   "cell_type": "code",
   "execution_count": 14,
   "metadata": {},
   "outputs": [
    {
     "name": "stdout",
     "output_type": "stream",
     "text": [
      "26\n",
      "25\n",
      "312\n"
     ]
    }
   ],
   "source": [
    "freq = pos_pair_hist[0]\n",
    "bins = pos_pair_hist[1]\n",
    "print(len(bins))\n",
    "print(len(freq))\n",
    "#print(x[0])\n",
    "freq[0] = freq[0] - len(all_pos)\n",
    "print(freq[0])"
   ]
  },
  {
   "cell_type": "code",
   "execution_count": 15,
   "metadata": {
    "scrolled": false
   },
   "outputs": [
    {
     "name": "stdout",
     "output_type": "stream",
     "text": [
      "[  312  4692 10506 11156  8678  4778  2828  2054  1458  1032   644   438\n",
      "   250    80    86    20    24    12     6     6     0     0     0     0\n",
      "     2]\n"
     ]
    },
    {
     "name": "stderr",
     "output_type": "stream",
     "text": [
      "C:\\Users\\kmmbd\\anaconda3\\envs\\pytorch\\lib\\site-packages\\ipykernel_launcher.py:10: UserWarning: Matplotlib is currently using module://ipykernel.pylab.backend_inline, which is a non-GUI backend, so cannot show the figure.\n",
      "  # Remove the CWD from sys.path while we load stuff.\n"
     ]
    },
    {
     "data": {
      "image/png": "[encoded data removed]",
      "text/plain": [
       "<Figure size 792x648 with 1 Axes>"
      ]
     },
     "metadata": {
      "needs_background": "light"
     },
     "output_type": "display_data"
    }
   ],
   "source": [
    "center = (bins[:-1] + bins[1:]) / 2\n",
    "#sb.set_theme(style=\"whitegrid\")\n",
    "print(freq)\n",
    "width = 0.7 * (bins[1] - bins[0])\n",
    "fig, ax = plt.subplots(figsize=(11, 9))\n",
    "plt.bar(center, freq, align='center', width=width)\n",
    "ax.set_xlabel = \"eucledian distance\"\n",
    "ax.set_ylabel = \"protein count\"\n",
    "fig.savefig(\"distance_barplot.png\")\n",
    "fig.show()"
   ]
  },
  {
   "cell_type": "markdown",
   "metadata": {},
   "source": [
    "<h1>Create triplets and check if possible positives exist in whole dataset</h1>"
   ]
  },
  {
   "cell_type": "code",
   "execution_count": 114,
   "metadata": {
    "scrolled": true
   },
   "outputs": [
    {
     "data": {
      "text/html": [
       "<div>\n",
       "<style scoped>\n",
       "    .dataframe tbody tr th:only-of-type {\n",
       "        vertical-align: middle;\n",
       "    }\n",
       "\n",
       "    .dataframe tbody tr th {\n",
       "        vertical-align: top;\n",
       "    }\n",
       "\n",
       "    .dataframe thead th {\n",
       "        text-align: right;\n",
       "    }\n",
       "</style>\n",
       "<table border=\"1\" class=\"dataframe\">\n",
       "  <thead>\n",
       "    <tr style=\"text-align: right;\">\n",
       "      <th></th>\n",
       "      <th>int_A</th>\n",
       "      <th>int_B</th>\n",
       "    </tr>\n",
       "  </thead>\n",
       "  <tbody>\n",
       "    <tr>\n",
       "      <th>0</th>\n",
       "      <td>A0A024R0Y4</td>\n",
       "      <td>Q8WWY3</td>\n",
       "    </tr>\n",
       "    <tr>\n",
       "      <th>1</th>\n",
       "      <td>A0A024R4Q5</td>\n",
       "      <td>Q96D03</td>\n",
       "    </tr>\n",
       "    <tr>\n",
       "      <th>2</th>\n",
       "      <td>A0A024R4Q5</td>\n",
       "      <td>P51911</td>\n",
       "    </tr>\n",
       "    <tr>\n",
       "      <th>3</th>\n",
       "      <td>A0A024R5S0</td>\n",
       "      <td>Q9NVV9</td>\n",
       "    </tr>\n",
       "    <tr>\n",
       "      <th>4</th>\n",
       "      <td>A0A024R5S0</td>\n",
       "      <td>Q02446</td>\n",
       "    </tr>\n",
       "    <tr>\n",
       "      <th>...</th>\n",
       "      <td>...</td>\n",
       "      <td>...</td>\n",
       "    </tr>\n",
       "    <tr>\n",
       "      <th>83944</th>\n",
       "      <td>Q81QS8</td>\n",
       "      <td>Q9Y6X8</td>\n",
       "    </tr>\n",
       "    <tr>\n",
       "      <th>83945</th>\n",
       "      <td>A0A0F7RKT3</td>\n",
       "      <td>Q9Y6X8</td>\n",
       "    </tr>\n",
       "    <tr>\n",
       "      <th>83946</th>\n",
       "      <td>Q81U00</td>\n",
       "      <td>Q9Y6X8</td>\n",
       "    </tr>\n",
       "    <tr>\n",
       "      <th>83947</th>\n",
       "      <td>Q81QN9</td>\n",
       "      <td>Q9Y6X8</td>\n",
       "    </tr>\n",
       "    <tr>\n",
       "      <th>83948</th>\n",
       "      <td>P23708</td>\n",
       "      <td>Q9Y6X8</td>\n",
       "    </tr>\n",
       "  </tbody>\n",
       "</table>\n",
       "<p>83949 rows × 2 columns</p>\n",
       "</div>"
      ],
      "text/plain": [
       "            int_A   int_B\n",
       "0      A0A024R0Y4  Q8WWY3\n",
       "1      A0A024R4Q5  Q96D03\n",
       "2      A0A024R4Q5  P51911\n",
       "3      A0A024R5S0  Q9NVV9\n",
       "4      A0A024R5S0  Q02446\n",
       "...           ...     ...\n",
       "83944      Q81QS8  Q9Y6X8\n",
       "83945  A0A0F7RKT3  Q9Y6X8\n",
       "83946      Q81U00  Q9Y6X8\n",
       "83947      Q81QN9  Q9Y6X8\n",
       "83948      P23708  Q9Y6X8\n",
       "\n",
       "[83949 rows x 2 columns]"
      ]
     },
     "execution_count": 114,
     "metadata": {},
     "output_type": "execute_result"
    }
   ],
   "source": [
    "in_file_2 = pathlib.Path.home().joinpath('Documents\\ms_thesis_ppi','dataset','9606_Q1.txt')\n",
    "df_whole = pd.read_csv(in_file_2, sep=\"\\t\", header=0, dtype='unicode')\n",
    "df_whole = df_whole[['UniprotID_A', 'UniprotID_B']] # only keep specific columns\n",
    "df_whole.columns = [\"int_A\", \"int_B\"]\n",
    "df_whole"
   ]
  },
  {
   "cell_type": "code",
   "execution_count": 115,
   "metadata": {},
   "outputs": [
    {
     "name": "stdout",
     "output_type": "stream",
     "text": [
      "83949 83949\n"
     ]
    }
   ],
   "source": [
    "whole_int_A = df_whole['int_A'].tolist()\n",
    "whole_int_B = df_whole['int_B'].tolist()\n",
    "print(len(whole_int_A),len(whole_int_B))"
   ]
  },
  {
   "cell_type": "code",
   "execution_count": 172,
   "metadata": {},
   "outputs": [],
   "source": [
    "interaction_dict = {}\n",
    "\n",
    "for prot in all_pos:\n",
    "    partner_list = []\n",
    "    for i in range(len(whole_int_A)):\n",
    "        if whole_int_A[i]==prot:\n",
    "            partner_list.append(whole_int_B[i])\n",
    "        elif whole_int_B[i]==prot:\n",
    "            partner_list.append(whole_int_A[i])\n",
    "        else:\n",
    "            continue\n",
    "    # add the list of partners to the dict with the prot name as key\n",
    "    interaction_dict[prot] = partner_list\n",
    "        "
   ]
  },
  {
   "cell_type": "code",
   "execution_count": 173,
   "metadata": {},
   "outputs": [],
   "source": [
    "# save the dictionary\n",
    "\n",
    "with open('test_pos_partners.json', 'w') as fp:\n",
    "    json.dump(interaction_dict, fp)"
   ]
  },
  {
   "cell_type": "code",
   "execution_count": 174,
   "metadata": {},
   "outputs": [],
   "source": [
    "def comparator(protA, protB, protC, protD, dA, dB, protein_partners):\n",
    "    partner_list_A = protein_partners[protA]\n",
    "    partner_list_B = protein_partners[protB]\n",
    "    if dA < dB:\n",
    "        anchor = protA\n",
    "        positive = protB\n",
    "        if (protC not in partner_list_A):\n",
    "            negative = protC\n",
    "        else:\n",
    "            if (protC not in partner_list_B):\n",
    "                anchor = protB\n",
    "                positive = protA\n",
    "                negative = protC\n",
    "            else:\n",
    "                negative = 'NaN'\n",
    "    else:\n",
    "        anchor = protB\n",
    "        positive = protA\n",
    "        if (protD not in partner_list_B):\n",
    "            negative = protD\n",
    "        else:\n",
    "            if (protC not in partner_list_A):\n",
    "                anchor = protA\n",
    "                positive = protB\n",
    "                negative = protC\n",
    "            else:\n",
    "                negative = 'NaN'\n",
    "    triplet = []\n",
    "    triplet.append(anchor)\n",
    "    triplet.append(positive)\n",
    "    triplet.append(negative)\n",
    "    return triplet"
   ]
  },
  {
   "cell_type": "code",
   "execution_count": 175,
   "metadata": {},
   "outputs": [],
   "source": [
    "triplet_dict = {}\n",
    "\n",
    "for i in range(len(int_A)):\n",
    "    length = len(int_A)\n",
    "    protA = int_A[i]\n",
    "    protB = int_B[i]\n",
    "    closest_prot_A = np.argpartition(pos_pair_dist[i], 2)[1:2]\n",
    "    protC = all_pos[closest_prot_A[0]]\n",
    "    closest_prot_B = np.argpartition(pos_pair_dist[i+length], 2)[1:2]\n",
    "    protD = all_pos[closest_prot_B[0]]\n",
    "    dA = np.partition(pos_pair_dist[i], 2)[1:2]\n",
    "    dB = np.partition(pos_pair_dist[i+length], 2)[1:2]\n",
    "    triplets = comparator(protA, protB, protC, protD, dA, dB, interaction_dict)\n",
    "    # triplet_dict.setdefault(i, [])\n",
    "    if triplets[2] != 'NaN':\n",
    "        triplet_dict[i] = triplets"
   ]
  },
  {
   "cell_type": "code",
   "execution_count": 176,
   "metadata": {},
   "outputs": [],
   "source": [
    "# save to json\n",
    "\n",
    "with open('test_triplets.json', 'w') as fp:\n",
    "    json.dump(triplet_dict, fp)"
   ]
  },
  {
   "cell_type": "code",
   "execution_count": 177,
   "metadata": {},
   "outputs": [
    {
     "data": {
      "text/plain": [
       "'Q8TF72'"
      ]
     },
     "execution_count": 177,
     "metadata": {},
     "output_type": "execute_result"
    }
   ],
   "source": [
    "# check\n",
    "\n",
    "triplet_dict[0][2]"
   ]
  },
  {
   "cell_type": "code",
   "execution_count": 167,
   "metadata": {},
   "outputs": [
    {
     "name": "stdout",
     "output_type": "stream",
     "text": [
      "test\n"
     ]
    }
   ],
   "source": [
    "t = {}\n",
    "string = ['test', 'again']\n",
    "t[0] = string\n",
    "print(t[0][0])"
   ]
  }
 ],
 "metadata": {
  "kernelspec": {
   "display_name": "Python 3",
   "language": "python",
   "name": "python3"
  },
  "language_info": {
   "codemirror_mode": {
    "name": "ipython",
    "version": 3
   },
   "file_extension": ".py",
   "mimetype": "text/x-python",
   "name": "python",
   "nbconvert_exporter": "python",
   "pygments_lexer": "ipython3",
   "version": "3.7.7"
  }
 },
 "nbformat": 4,
 "nbformat_minor": 4
}
