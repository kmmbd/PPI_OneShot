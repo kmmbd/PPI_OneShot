{
 "cells": [
  {
   "cell_type": "code",
   "execution_count": 3,
   "metadata": {},
   "outputs": [],
   "source": [
    "import torch\n",
    "import torchvision\n",
    "import torch.nn as nn\n",
    "import torch.nn.functional as F\n",
    "import torch.optim as optim\n",
    "import pathlib\n",
    "import matplotlib.pyplot as plt\n",
    "import os\n",
    "import json\n",
    "import sys\n",
    "from torchsummary import summary\n",
    "from torch.utils.data import Dataset, DataLoader, random_split\n",
    "import torch.utils.data as data\n",
    "import numpy as np\n",
    "import pickle\n",
    "import collections\n",
    "import pandas as pd\n",
    "import csv"
   ]
  },
  {
   "cell_type": "code",
   "execution_count": 44,
   "metadata": {},
   "outputs": [],
   "source": [
    "home_dir = pathlib.Path.home().joinpath('PycharmProjects', 'one_shot_ppi')\n",
    "embedding_path = pathlib.Path.joinpath(home_dir, 'dataset', 'embeddings', 'per_prot_emb_full.p')\n",
    "model_name = 'siameseNet_dropout_contrastive_128'\n",
    "with open(embedding_path, 'rb') as fp:\n",
    "    embeddings = pickle.load(fp)"
   ]
  },
  {
   "cell_type": "code",
   "execution_count": 45,
   "metadata": {},
   "outputs": [],
   "source": [
    "import torch.nn.functional as F\n",
    "import torch.nn as nn\n",
    "import torch\n",
    "from torch import abs\n",
    "\n",
    "\n",
    "class Net(nn.Module):\n",
    "    def __init__(self):\n",
    "        super(Net, self).__init__()\n",
    "        # conv2d(input_channels, output_channels, kernel_size)\n",
    "        self.dropout1 = nn.Dropout(0.3)\n",
    "        # self.dropout2 = nn.Dropout(0.5)\n",
    "        self.fc1 = nn.Linear(1 * 1024, 256)\n",
    "        self.fc2 = nn.Linear(256, 128)\n",
    "        self.fc3 = nn.Linear(128, 32)\n",
    "        self.fcOut = nn.Linear(32, 1)\n",
    "        # define batchnorm\n",
    "        #self.bn1 = nn.BatchNorm1d(num_features=256)\n",
    "        # self.sigmoid = nn.Sigmoid()\n",
    "        #self.tanh = nn.Tanh()\n",
    "\n",
    "    def forward_once(self, input):\n",
    "        #print(input)\n",
    "        #print(input.shape)\n",
    "        x = input\n",
    "        # x = self.dropout1(F.relu(self.fc1(x)))\n",
    "        # x = F.relu(self.bn1(self.fc1(x)))\n",
    "        x = F.relu(self.fc1(x))\n",
    "        x = self.dropout1(F.relu(self.fc2(x)))\n",
    "        x = F.relu(self.fc3(x))\n",
    "        # x = self.fc3(x)\n",
    "        # x = abs(x1 - x2)\n",
    "        # x = F.tanh(self.fcOut(x))\n",
    "        x = self.fcOut(x)\n",
    "        return x\n",
    "\n",
    "    def forward(self, input1, input2):\n",
    "        # forward pass of input 1\n",
    "        output1 = self.forward_once(input1)\n",
    "        # forward pass of input 2\n",
    "        output2 = self.forward_once(input2)\n",
    "        return output1, output2\n"
   ]
  },
  {
   "cell_type": "code",
   "execution_count": 46,
   "metadata": {},
   "outputs": [],
   "source": [
    "class Dataset(data.Dataset):\n",
    "    # characterizes a dataset for PyTorch\n",
    "    def __init__(self, list_IDs, pairs, labels, embeddings):\n",
    "        self.list_IDs = list_IDs\n",
    "        self.labels = labels\n",
    "        self.pairs = pairs\n",
    "        self.embeddings = embeddings\n",
    "\n",
    "    def __len__(self):\n",
    "        return len(self.list_IDs)\n",
    "\n",
    "    def __getitem__(self, index):\n",
    "        # generates one sample of data\n",
    "        # select sample\n",
    "        ID = self.list_IDs[index]\n",
    "        x1 = self.pairs[ID][0]\n",
    "        x1_t = torch.Tensor(self.embeddings[x1])\n",
    "        x2 = self.pairs[ID][1]\n",
    "        x2_t = torch.Tensor(self.embeddings[x2])\n",
    "        # load data and get label\n",
    "        y = self.labels[ID]\n",
    "\n",
    "        return x1_t, x2_t, torch.from_numpy(np.array([y], dtype=np.float32)), x1, x2"
   ]
  },
  {
   "cell_type": "code",
   "execution_count": 47,
   "metadata": {},
   "outputs": [],
   "source": [
    "# parameters\n",
    "params = {'batch_size': 1,\n",
    "         'shuffle': False,\n",
    "         'num_workers': 0}\n",
    "\n",
    "test_data = pathlib.Path.joinpath(home_dir, 'dataset', 'test', 'c1_test.json')\n",
    "test_l = pathlib.Path.joinpath(home_dir, 'dataset', 'test', 'c1_label.json')\n",
    "\n",
    "with open(test_data, 'r') as fp:\n",
    "    test_pairs = json.load(fp)\n",
    "with open(test_l, 'r') as fp:\n",
    "    test_labels = json.load(fp)\n",
    "\n",
    "    \n",
    "list_IDs_test = list(test_pairs.keys())\n",
    "\n",
    "# Generators\n",
    "test_set = Dataset(list_IDs_test, test_pairs, test_labels, embeddings)\n",
    "test_loader = torch.utils.data.DataLoader(test_set, **params)"
   ]
  },
  {
   "cell_type": "code",
   "execution_count": 48,
   "metadata": {},
   "outputs": [],
   "source": [
    "def load_checkpoint(model, optimizer):\n",
    "    state_dict = torch.load(save_path)\n",
    "    model.load_state_dict(state_dict['model_state_dict'])\n",
    "    optimizer.load_state_dict(state_dict['optimizer_state_dict'])\n",
    "    val_loss = state_dict['val_loss']\n",
    "    print(f'Model loaded from <== {save_path}')\n",
    "    \n",
    "    return val_loss"
   ]
  },
  {
   "cell_type": "code",
   "execution_count": 49,
   "metadata": {},
   "outputs": [
    {
     "name": "stdout",
     "output_type": "stream",
     "text": [
      "cuda:0\n",
      "1.5.0\n"
     ]
    },
    {
     "data": {
      "text/plain": [
       "Net(\n",
       "  (dropout1): Dropout(p=0.3, inplace=False)\n",
       "  (fc1): Linear(in_features=1024, out_features=256, bias=True)\n",
       "  (fc2): Linear(in_features=256, out_features=128, bias=True)\n",
       "  (fc3): Linear(in_features=128, out_features=32, bias=True)\n",
       "  (fcOut): Linear(in_features=32, out_features=1, bias=True)\n",
       ")"
      ]
     },
     "execution_count": 49,
     "metadata": {},
     "output_type": "execute_result"
    }
   ],
   "source": [
    "#creating the original network and couting the paramenters of different networks\n",
    "PATH = pathlib.Path.joinpath(home_dir, 'trained_models')\n",
    "model_path = pathlib.Path.joinpath(PATH, model_name + '.pt')\n",
    "device = torch.device('cuda:0' if torch.cuda.is_available() else 'cpu')\n",
    "print(device)\n",
    "print(torch.__version__)\n",
    "model = Net()\n",
    "optimizer = optim.Adam(model.parameters(), lr = 0.0006)\n",
    "state_dict = torch.load(model_path)\n",
    "model.load_state_dict(state_dict['model_state_dict'])\n",
    "model.to(device)\n",
    "model.eval()"
   ]
  },
  {
   "cell_type": "code",
   "execution_count": 50,
   "metadata": {},
   "outputs": [
    {
     "name": "stdout",
     "output_type": "stream",
     "text": [
      "299457\n"
     ]
    }
   ],
   "source": [
    "pytorch_total_params = sum(p.numel() for p in model.parameters())\n",
    "print(pytorch_total_params)"
   ]
  },
  {
   "cell_type": "code",
   "execution_count": 51,
   "metadata": {},
   "outputs": [],
   "source": [
    "def test_eval(model, test_loader, model_name):\n",
    "    result_df = pd.DataFrame(columns=['int_A', 'int_B', 'target', 'distance', 'predicted'])\n",
    "    device = torch.device('cuda:0' if torch.cuda.is_available() else 'cpu')\n",
    "    distance = []\n",
    "    target = []\n",
    "    int_A = []\n",
    "    int_B = []\n",
    "    for i, data in enumerate(test_loader,0):\n",
    "        x0, x1 , label, pA, pB = data\n",
    "        int_A.append(pA[0])\n",
    "        int_B.append(pB[0])\n",
    "        target.append(label.cpu().data.numpy()[0][0])\n",
    "        # perform inference\n",
    "        output1, output2 = model(x0.to(device),x1.to(device))\n",
    "        # calculate L2 distance\n",
    "        d = (output2 - output1).pow(2).sum(1)\n",
    "        distance.append(d.cpu().data.numpy()[0])\n",
    "        \n",
    "    # populate dataframe\n",
    "    result_df['int_A'], result_df['int_B'] = int_A, int_B\n",
    "    result_df['target'], result_df['distance'] = target, distance\n",
    "        \n",
    "    return result_df"
   ]
  },
  {
   "cell_type": "code",
   "execution_count": 52,
   "metadata": {
    "scrolled": true
   },
   "outputs": [],
   "source": [
    "result_df = test_eval(model, test_loader, model_name)"
   ]
  },
  {
   "cell_type": "code",
   "execution_count": 53,
   "metadata": {},
   "outputs": [
    {
     "data": {
      "text/html": [
       "<div>\n",
       "<style scoped>\n",
       "    .dataframe tbody tr th:only-of-type {\n",
       "        vertical-align: middle;\n",
       "    }\n",
       "\n",
       "    .dataframe tbody tr th {\n",
       "        vertical-align: top;\n",
       "    }\n",
       "\n",
       "    .dataframe thead th {\n",
       "        text-align: right;\n",
       "    }\n",
       "</style>\n",
       "<table border=\"1\" class=\"dataframe\">\n",
       "  <thead>\n",
       "    <tr style=\"text-align: right;\">\n",
       "      <th></th>\n",
       "      <th>int_A</th>\n",
       "      <th>int_B</th>\n",
       "      <th>target</th>\n",
       "      <th>distance</th>\n",
       "      <th>predicted</th>\n",
       "    </tr>\n",
       "  </thead>\n",
       "  <tbody>\n",
       "    <tr>\n",
       "      <th>0</th>\n",
       "      <td>Q9BQ52</td>\n",
       "      <td>O95182</td>\n",
       "      <td>1.0</td>\n",
       "      <td>0.000064</td>\n",
       "      <td>1.0</td>\n",
       "    </tr>\n",
       "    <tr>\n",
       "      <th>1</th>\n",
       "      <td>P22307</td>\n",
       "      <td>P69976</td>\n",
       "      <td>1.0</td>\n",
       "      <td>0.213568</td>\n",
       "      <td>1.0</td>\n",
       "    </tr>\n",
       "    <tr>\n",
       "      <th>2</th>\n",
       "      <td>O60763</td>\n",
       "      <td>Q8ZIX0</td>\n",
       "      <td>1.0</td>\n",
       "      <td>0.813260</td>\n",
       "      <td>0.0</td>\n",
       "    </tr>\n",
       "    <tr>\n",
       "      <th>3</th>\n",
       "      <td>P23434</td>\n",
       "      <td>Q13287</td>\n",
       "      <td>1.0</td>\n",
       "      <td>2.774438</td>\n",
       "      <td>0.0</td>\n",
       "    </tr>\n",
       "    <tr>\n",
       "      <th>4</th>\n",
       "      <td>Q14978</td>\n",
       "      <td>P38432</td>\n",
       "      <td>1.0</td>\n",
       "      <td>0.083580</td>\n",
       "      <td>1.0</td>\n",
       "    </tr>\n",
       "    <tr>\n",
       "      <th>...</th>\n",
       "      <td>...</td>\n",
       "      <td>...</td>\n",
       "      <td>...</td>\n",
       "      <td>...</td>\n",
       "      <td>...</td>\n",
       "    </tr>\n",
       "    <tr>\n",
       "      <th>1206</th>\n",
       "      <td>Q99689</td>\n",
       "      <td>Q8WVB3</td>\n",
       "      <td>0.0</td>\n",
       "      <td>4.276834</td>\n",
       "      <td>0.0</td>\n",
       "    </tr>\n",
       "    <tr>\n",
       "      <th>1207</th>\n",
       "      <td>Q8NG31</td>\n",
       "      <td>Q99933</td>\n",
       "      <td>0.0</td>\n",
       "      <td>2.161904</td>\n",
       "      <td>0.0</td>\n",
       "    </tr>\n",
       "    <tr>\n",
       "      <th>1208</th>\n",
       "      <td>Q16394</td>\n",
       "      <td>P16219</td>\n",
       "      <td>0.0</td>\n",
       "      <td>0.812224</td>\n",
       "      <td>0.0</td>\n",
       "    </tr>\n",
       "    <tr>\n",
       "      <th>1209</th>\n",
       "      <td>Q9BUZ4</td>\n",
       "      <td>Q969Y2</td>\n",
       "      <td>0.0</td>\n",
       "      <td>2.842969</td>\n",
       "      <td>0.0</td>\n",
       "    </tr>\n",
       "    <tr>\n",
       "      <th>1210</th>\n",
       "      <td>A5PLN9</td>\n",
       "      <td>O41957</td>\n",
       "      <td>0.0</td>\n",
       "      <td>1.398679</td>\n",
       "      <td>0.0</td>\n",
       "    </tr>\n",
       "  </tbody>\n",
       "</table>\n",
       "<p>1211 rows × 5 columns</p>\n",
       "</div>"
      ],
      "text/plain": [
       "       int_A   int_B  target  distance  predicted\n",
       "0     Q9BQ52  O95182     1.0  0.000064        1.0\n",
       "1     P22307  P69976     1.0  0.213568        1.0\n",
       "2     O60763  Q8ZIX0     1.0  0.813260        0.0\n",
       "3     P23434  Q13287     1.0  2.774438        0.0\n",
       "4     Q14978  P38432     1.0  0.083580        1.0\n",
       "...      ...     ...     ...       ...        ...\n",
       "1206  Q99689  Q8WVB3     0.0  4.276834        0.0\n",
       "1207  Q8NG31  Q99933     0.0  2.161904        0.0\n",
       "1208  Q16394  P16219     0.0  0.812224        0.0\n",
       "1209  Q9BUZ4  Q969Y2     0.0  2.842969        0.0\n",
       "1210  A5PLN9  O41957     0.0  1.398679        0.0\n",
       "\n",
       "[1211 rows x 5 columns]"
      ]
     },
     "execution_count": 53,
     "metadata": {},
     "output_type": "execute_result"
    }
   ],
   "source": [
    "margin = 0.8\n",
    "t_l = []\n",
    "d = result_df['distance']\n",
    "for i in d:\n",
    "    if i < margin:\n",
    "        t_l.append(1.0)\n",
    "    else:\n",
    "        t_l.append(0.0)\n",
    "result_df['predicted'] = t_l\n",
    "result_df        "
   ]
  },
  {
   "cell_type": "code",
   "execution_count": 30,
   "metadata": {},
   "outputs": [],
   "source": [
    "# save predictions\n",
    "path = pathlib.Path.cwd().joinpath('predictions', model_name + '.csv')\n",
    "result_df.to_csv(path, index=False)"
   ]
  },
  {
   "cell_type": "code",
   "execution_count": 46,
   "metadata": {},
   "outputs": [
    {
     "data": {
      "text/plain": [
       "<Figure size 1080x1080 with 0 Axes>"
      ]
     },
     "execution_count": 46,
     "metadata": {},
     "output_type": "execute_result"
    },
    {
     "data": {
      "image/png": "[encoded data removed]",
      "text/plain": [
       "<Figure size 432x288 with 1 Axes>"
      ]
     },
     "metadata": {
      "needs_background": "light"
     },
     "output_type": "display_data"
    },
    {
     "data": {
      "text/plain": [
       "<Figure size 1080x1080 with 0 Axes>"
      ]
     },
     "metadata": {},
     "output_type": "display_data"
    }
   ],
   "source": [
    "# Import the libraries\n",
    "import matplotlib.pyplot as plt\n",
    "import seaborn as sns\n",
    "\n",
    "# matplotlib histogram\n",
    "#plt.hist(pos_dist, color = 'blue', edgecolor = 'black', bins = 12)\n",
    "\n",
    "pos_dist = []\n",
    "neg_dist = []\n",
    "lbl = list(result_df['target'])\n",
    "dist_val = list(result_df['distance'])\n",
    "for i in range(len(lbl)):\n",
    "    if lbl[i] == 1:\n",
    "        pos_dist.append(dist_val[i])\n",
    "    else:\n",
    "        neg_dist.append(dist_val[i])\n",
    "# seaborn histogram\n",
    "fig = sns.distplot(pos_dist, hist=True, kde=False, \n",
    "             bins=20, color = 'blue',\n",
    "             hist_kws={'edgecolor':'black'})\n",
    "# Add labels\n",
    "plt.title('Distribution of Eucledian distances')\n",
    "plt.xlabel('Eucledian Distance')\n",
    "plt.ylabel('Positive Interaction Count')\n",
    "plt.figure(figsize=(15,15))\n"
   ]
  },
  {
   "cell_type": "code",
   "execution_count": 51,
   "metadata": {},
   "outputs": [
    {
     "data": {
      "text/plain": [
       "0.8097614441756849"
      ]
     },
     "execution_count": 51,
     "metadata": {},
     "output_type": "execute_result"
    }
   ],
   "source": [
    "loss_path = pathlib.Path.cwd().joinpath('loss_list', 'val_loss_list.csv')\n",
    "loss_list = []\n",
    "with open(loss_path, newline='') as csvfile:\n",
    "    csvreader = csv.reader(csvfile, delimiter=',', quoting=csv.QUOTE_NONNUMERIC)\n",
    "    for row in csvreader:\n",
    "        loss_list.append(row)\n",
    "s = loss_list[0]\n",
    "val_list = []\n",
    "for i in s:\n",
    "    val_list.append(float(i))\n",
    "    \n",
    "val_list[0]"
   ]
  },
  {
   "cell_type": "code",
   "execution_count": 53,
   "metadata": {},
   "outputs": [
    {
     "name": "stdout",
     "output_type": "stream",
     "text": [
      "50\n"
     ]
    }
   ],
   "source": [
    "loss_path_2 = pathlib.Path.cwd().joinpath('loss_list', '2. val_loss_list.csv')\n",
    "loss_list_2 = []\n",
    "with open(loss_path_2, newline='') as csvfile:\n",
    "    csvreader = csv.reader(csvfile, delimiter=',', quoting=csv.QUOTE_NONNUMERIC)\n",
    "    for row in csvreader:\n",
    "        loss_list_2.append(row)\n",
    "s_2 = loss_list_2[0]\n",
    "val_list_2 = []\n",
    "for i in s_2:\n",
    "    val_list_2.append(float(i))\n",
    "    \n",
    "print(len(val_list_2))"
   ]
  },
  {
   "cell_type": "code",
   "execution_count": 69,
   "metadata": {},
   "outputs": [
    {
     "name": "stdout",
     "output_type": "stream",
     "text": [
      "0.733956748932523\n"
     ]
    },
    {
     "data": {
      "image/png": "[encoded data removed]",
      "text/plain": [
       "<Figure size 432x288 with 2 Axes>"
      ]
     },
     "metadata": {
      "needs_background": "light"
     },
     "output_type": "display_data"
    },
    {
     "data": {
      "text/plain": [
       "<Figure size 1440x1440 with 0 Axes>"
      ]
     },
     "metadata": {},
     "output_type": "display_data"
    }
   ],
   "source": [
    "param_range = np.arange(1, 173, 1)\n",
    "param_range_2 = np.arange(1,51,1)\n",
    "\n",
    "# Calculate mean and standard deviation for training set scores\n",
    "train_mean = np.mean(val_list, axis=0)\n",
    "train_std = np.std(val_list, axis=0)\n",
    "\n",
    "print(train_mean)\n",
    "\n",
    "# Calculate mean and standard deviation for test set scores\n",
    "test_mean = np.mean(val_list_2, axis=0)\n",
    "test_std = np.std(val_list_2, axis=0)\n",
    "\n",
    "fig, axs = plt.subplots(2)\n",
    "#plt.subplot(1,2,1)\n",
    "# Plot mean accuracy scores for training and test sets\n",
    "axs[0].plot(param_range, val_list, label=\"Triplet model with hard and semi-hard negative samples\", color=\"black\")\n",
    "#plt.subplot(1,2,2)\n",
    "axs[1].plot(param_range_2, val_list_2, label=\"Triplet model with random sampling\", color=\"dimgrey\")\n",
    "\n",
    "# Plot accurancy bands for training and test sets\n",
    "#plt.fill_between(param_range, train_mean - train_std, train_mean + train_std, color=\"gray\")\n",
    "#plt.fill_between(param_range_2, test_mean - test_std, test_mean + test_std, color=\"gainsboro\")\n",
    "\n",
    "# Create plot\n",
    "plt.title(\"Hard negative samples improve validation performance\")\n",
    "plt.xlabel(\"Number Of Epochs\")\n",
    "plt.ylabel(\"Validation Loss\")\n",
    "plt.tight_layout()\n",
    "plt.legend(loc=\"best\")\n",
    "plt.savefig('val_loss.jpg', dpi=125)\n",
    "plt.figure(figsize=(20, 20))\n",
    "\n",
    "plt.show()\n",
    "#plt.draw()"
   ]
  }
 ],
 "metadata": {
  "kernelspec": {
   "display_name": "Python 3",
   "language": "python",
   "name": "python3"
  },
  "language_info": {
   "codemirror_mode": {
    "name": "ipython",
    "version": 3
   },
   "file_extension": ".py",
   "mimetype": "text/x-python",
   "name": "python",
   "nbconvert_exporter": "python",
   "pygments_lexer": "ipython3",
   "version": "3.7.7"
  }
 },
 "nbformat": 4,
 "nbformat_minor": 4
}
