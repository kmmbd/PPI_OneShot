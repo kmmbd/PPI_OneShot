{
 "cells": [
  {
   "cell_type": "code",
   "execution_count": 28,
   "metadata": {},
   "outputs": [
    {
     "name": "stdout",
     "output_type": "stream",
     "text": [
      "[[0.41928025 0.96829453 0.83281682 0.38008307 0.21365617 0.8204161\n",
      "  0.22837328 0.89282812 0.40096092 0.91099127 0.00212836 0.77620757\n",
      "  0.27672881 0.72135811 0.37348629 0.28988376]]\n",
      "[[0.9046119  0.63112772 0.350827   0.06846573 0.68947064 0.55798516\n",
      "  0.20788858 0.90012793 0.99833069 0.31371473 0.3887527  0.34728763\n",
      "  0.60504398 0.96139845 0.84352375 0.54968118]]\n"
     ]
    },
    {
     "data": {
      "image/png": "[encoded data removed]",
      "text/plain": [
       "<Figure size 432x288 with 2 Axes>"
      ]
     },
     "metadata": {
      "needs_background": "light"
     },
     "output_type": "display_data"
    }
   ],
   "source": [
    "import matplotlib.pyplot as plt\n",
    "import numpy as np\n",
    "import seaborn as sns\n",
    "\n",
    "a = np.random.random((1,16))\n",
    "b = np.random.random((1,16))\n",
    "print(a)\n",
    "print(b)\n",
    "#fig, axs = plt.subplots(2)\n",
    "plt.imshow(a, cmap='viridis', interpolation='nearest')\n",
    "#ax = sns.heatmap(a, linewidth=0.5)\n",
    "plt.imshow(b, cmap='viridis', interpolation='nearest')\n",
    "plt.colorbar()\n",
    "plt.show()"
   ]
  },
  {
   "cell_type": "code",
   "execution_count": 7,
   "metadata": {},
   "outputs": [],
   "source": [
    "import torch.nn.functional as F\n",
    "import torch.nn as nn\n",
    "from torch import abs\n",
    "import torch\n",
    "\n",
    "\n",
    "class Net(nn.Module):\n",
    "    def __init__(self):\n",
    "        super(Net, self).__init__()\n",
    "        # conv2d(input_channels, output_channels, kernel_size)\n",
    "        self.dropout1 = nn.Dropout(0.5)\n",
    "        # self.dropout2 = nn.Dropout(0.5)\n",
    "        self.fc1 = nn.Linear(1024 * 1, 256)\n",
    "        self.fc2 = nn.Linear(256, 128)\n",
    "        self.fc3 = nn.Linear(128, 32)\n",
    "        self.fcOut = nn.Linear(32, 1)\n",
    "        # self.sigmoid = nn.Sigmoid()\n",
    "        #self.tanh = nn.Tanh()\n",
    "\n",
    "    def forward_once(self, x):\n",
    "        # x = self.dropout1(F.relu(self.fc1(x)))\n",
    "        x = F.relu(self.fc1(x))\n",
    "        x = self.dropout1(F.relu(self.fc2(x)))\n",
    "        x = F.relu(self.fc3(x))\n",
    "        # x = self.fc3(x)\n",
    "        # x = abs(x1 - x2)\n",
    "        # x = F.tanh(self.fcOut(x))\n",
    "        x = self.fcOut(x)\n",
    "        return x\n",
    "\n",
    "    def forward(self, input1, input2):\n",
    "        # forward pass of input 1\n",
    "        output1 = self.forward_once(input1)\n",
    "        # forward pass of input 2\n",
    "        output2 = self.forward_once(input2)\n",
    "        return output1, output2"
   ]
  },
  {
   "cell_type": "code",
   "execution_count": 23,
   "metadata": {},
   "outputs": [
    {
     "name": "stdout",
     "output_type": "stream",
     "text": [
      "tensor(-0.1124)\n"
     ]
    }
   ],
   "source": [
    "model_new = Net()\n",
    "checkpoint = torch.load('siameseNet_dropout_rank_loss.pt')\n",
    "model_new.load_state_dict(checkpoint['model_state_dict'])\n",
    "print(model_new.fcOut.weight.data.sum())"
   ]
  },
  {
   "cell_type": "code",
   "execution_count": null,
   "metadata": {},
   "outputs": [],
   "source": [
    "def restore_net():\n",
    "    # restore entire net1 to net2\n",
    "    net2 = torch.load('siameseNet_dropout_rank_loss.pt')\n",
    "    prediction = net2(x)\n",
    "\n",
    "    # plot result\n",
    "    plt.subplot(132)\n",
    "    plt.title('Net2')\n",
    "    plt.scatter(x.data.numpy(), y.data.numpy())\n",
    "    plt.plot(x.data.numpy(), prediction.data.numpy(), 'r-', lw=5)"
   ]
  }
 ],
 "metadata": {
  "kernelspec": {
   "display_name": "Python 3",
   "language": "python",
   "name": "python3"
  },
  "language_info": {
   "codemirror_mode": {
    "name": "ipython",
    "version": 3
   },
   "file_extension": ".py",
   "mimetype": "text/x-python",
   "name": "python",
   "nbconvert_exporter": "python",
   "pygments_lexer": "ipython3",
   "version": "3.7.7"
  }
 },
 "nbformat": 4,
 "nbformat_minor": 4
}
